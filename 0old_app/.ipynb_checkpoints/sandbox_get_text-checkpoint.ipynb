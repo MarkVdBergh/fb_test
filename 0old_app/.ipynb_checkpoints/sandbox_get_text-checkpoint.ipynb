{
 "cells": [
  {
   "cell_type": "code",
   "execution_count": 9,
   "metadata": {
    "collapsed": true
   },
   "outputs": [],
   "source": [
    "from pymongo import MongoClient\n",
    "import pandas as pd\n",
    "import time\n",
    "\n",
    "import datetime\n",
    "import pytz\n",
    "from settings import *\n",
    "import codecs"
   ]
  },
  {
   "cell_type": "code",
   "execution_count": 2,
   "metadata": {
    "collapsed": false
   },
   "outputs": [],
   "source": [
    "client = MongoClient()\n",
    "db = client['politics']\n",
    "collection = db['facebook']"
   ]
  },
  {
   "cell_type": "code",
   "execution_count": 3,
   "metadata": {
    "collapsed": false
   },
   "outputs": [
    {
     "data": {
      "text/plain": [
       "['231742536958', '7133374462', '37823307325134679853231866', '443387969094801']"
      ]
     },
     "execution_count": 3,
     "metadata": {},
     "output_type": "execute_result"
    }
   ],
   "source": [
    "PAGE_LIST"
   ]
  },
  {
   "cell_type": "code",
   "execution_count": 4,
   "metadata": {
    "collapsed": true
   },
   "outputs": [],
   "source": [
    "pageid='56605856504'"
   ]
  },
  {
   "cell_type": "code",
   "execution_count": 378,
   "metadata": {
    "collapsed": false
   },
   "outputs": [
    {
     "data": {
      "text/plain": [
       "3267"
      ]
     },
     "execution_count": 378,
     "metadata": {},
     "output_type": "execute_result"
    }
   ],
   "source": [
    "posts = collection.find({'profile.id':pageid, 'message':{'$exists':1}},{'name':1, 'message':1})\n",
    "print posts.count()"
   ]
  },
  {
   "cell_type": "code",
   "execution_count": 379,
   "metadata": {
    "collapsed": false
   },
   "outputs": [],
   "source": [
    "messages=''\n",
    "for post in posts:\n",
    "    messages += ' '+post['message']\n",
    "    "
   ]
  },
  {
   "cell_type": "code",
   "execution_count": 380,
   "metadata": {
    "collapsed": false
   },
   "outputs": [
    {
     "name": "stdout",
     "output_type": "stream",
     "text": [
      " De beste wensen voor een gezond, voorspoedig en strijdbaar Vlaams Belang jaar! Wanneer gaat de btw op energie naar 6%? Wenst de gemeenteraadsleden die straks (opnieuw) hun eed afleggen veel moed, doorzettingsvermogen en werklust toe! 02.01.2013 - 11.14u - De beruchte Salduz-wet doet weer van zich spreken. De wet - goedgekeurd begin vorig jaar - bepaalt dat de politie altijd een advocaat moet oproepen voor het eerste verhoor van een opgepakte verdachte. Het Vlaams Belang heeft van … Voor democratie en voor het bestuur dat de inwoners van Denderleeuw willen! 02.01.2013 - 16.15u - Op 1 januari 1993 verschenen op de landkaart van Europa twee nieuwe, onafhankelijke republieken: Tsjechië en Slowakije. De regeringsleiders van beide landen hebben gisteren de splitsing van het unitaire Tsjecho-Slowakije - nu 20 … Cordon sanitaire doorbroken in Denderleeuw http://t.co/rCMjWjw4 03.01.2013 - 10.22u - Eenden achtereen. Als een langgerekte hals. In de zeehemel. Terwijl Europa - vooral Zuid-Europa -\n"
     ]
    }
   ],
   "source": [
    "print messages[:1000]"
   ]
  },
  {
   "cell_type": "code",
   "execution_count": null,
   "metadata": {
    "collapsed": true
   },
   "outputs": [],
   "source": []
  },
  {
   "cell_type": "code",
   "execution_count": 12,
   "metadata": {
    "collapsed": false
   },
   "outputs": [
    {
     "name": "stdout",
     "output_type": "stream",
     "text": [
      "3114\n"
     ]
    }
   ],
   "source": [
    "posts = collection.find({'profile.id':pageid, 'comments':{'$exists':1, '$not':{'$size':0}}},{'comments':1})\n",
    "print posts.count()"
   ]
  },
  {
   "cell_type": "code",
   "execution_count": 13,
   "metadata": {
    "collapsed": false
   },
   "outputs": [],
   "source": [
    "comments=''\n",
    "f=codecs.open(\"temp_vb.txt\", \"a+\", \"utf-8\")\n",
    "for post in posts:\n",
    "    for i in range(len(post['comments'])):\n",
    "        f.write('. '+post['comments'][i]['message'])\n",
    "f.close()"
   ]
  },
  {
   "cell_type": "code",
   "execution_count": 443,
   "metadata": {
    "collapsed": false
   },
   "outputs": [
    {
     "data": {
      "text/plain": [
       "{u'_id': ObjectId('5879c09c56e54f3de985aedf'),\n",
       " u'comments': [{u'comment_count': 0,\n",
       "   u'created_time': 1357028745,\n",
       "   u'from': {u'id': u'10154863204253431', u'name': u'Werner van Leemputten'},\n",
       "   u'id': u'10151329663951505_24830915',\n",
       "   u'like_count': 3,\n",
       "   u'likes': {u'data': [{u'id': u'1195640610520061',\n",
       "      u'link': u'https://www.facebook.com/app_scoped_user_id/1195640610520061/',\n",
       "      u'name': u'Luc Van Reck',\n",
       "      u'pic': u'https://scontent.xx.fbcdn.net/v/t1.0-1/p100x100/15037358_1141359052614884_5176540774804845372_n.jpg?oh=d0e44066124fd6be63e59198553556c6&oe=592051DC',\n",
       "      u'picture': {u'data': {u'is_silhouette': False,\n",
       "        u'url': u'https://scontent.xx.fbcdn.net/v/t1.0-1/p50x50/15037358_1141359052614884_5176540774804845372_n.jpg?oh=d632eaee9aa5ba19e90ad021bc812d47&oe=591D358A'}}},\n",
       "     {u'id': u'10154049266747187',\n",
       "      u'link': u'https://www.facebook.com/app_scoped_user_id/10154049266747187/',\n",
       "      u'name': u'Tormod Hartvigsen',\n",
       "      u'pic': u'https://scontent.xx.fbcdn.net/v/t1.0-1/p100x100/25391_384715652186_7247381_n.jpg?oh=6440265f6239935303c05c98ae9d573d&oe=58DCEF85',\n",
       "      u'picture': {u'data': {u'is_silhouette': False,\n",
       "        u'url': u'https://scontent.xx.fbcdn.net/v/t1.0-1/c0.2.50.50/p50x50/25391_384715652186_7247381_n.jpg?oh=5eb87e2ab39760b8aab382e288a7855d&oe=58DD32CC'}}}],\n",
       "    u'paging': {u'cursors': {u'after': u'MTAxNTQwNDkyNjY3NDcxODcZD',\n",
       "      u'before': u'MTE5NTY0MDYxMDUyMDA2MQZDZD'}}},\n",
       "   u'message': u'2013 - 2014  een stap dichter bij de onafhankelijkheid !'},\n",
       "  {u'comment_count': 0,\n",
       "   u'created_time': 1357029257,\n",
       "   u'from': {u'id': u'1110566455736417', u'name': u'Natasha Pixie De Maere'},\n",
       "   u'id': u'10151329663951505_24830965',\n",
       "   u'like_count': 0,\n",
       "   u'message': u'Laten we eens reconstructies geven van de \"anderen\"!!!'},\n",
       "  {u'comment_count': 0,\n",
       "   u'created_time': 1357029353,\n",
       "   u'from': {u'id': u'1424344294244527', u'name': u'Annouck Hayen'},\n",
       "   u'id': u'10151329663951505_24830977',\n",
       "   u'like_count': 0,\n",
       "   u'message': u'ja ik hoop de regering al nieuws over onze ziektes van dokter coucke die leve wordt zuur gemaakt help ons help hem voor vele ongeneeslijk mensen wij zijn al zoveel op mars geweest help ons aub'},\n",
       "  {u'comment_count': 0,\n",
       "   u'created_time': 1357030081,\n",
       "   u'from': {u'id': u'10210905452888245', u'name': u'Beuckelaers Micha\\xebl'},\n",
       "   u'id': u'10151329663951505_24831043',\n",
       "   u'like_count': 5,\n",
       "   u'likes': {u'data': [{u'id': u'10209987814803996',\n",
       "      u'link': u'https://www.facebook.com/app_scoped_user_id/10209987814803996/',\n",
       "      u'name': u'Amalia Vandepoel',\n",
       "      u'pic': u'https://scontent.xx.fbcdn.net/v/t1.0-1/s100x100/15823703_10209920345277300_5588523506547583217_n.jpg?oh=2d7e61bc4181c8b1f53cd1e358fe887c&oe=58D6C0D9',\n",
       "      u'picture': {u'data': {u'is_silhouette': False,\n",
       "        u'url': u'https://scontent.xx.fbcdn.net/v/t1.0-1/p50x50/15823703_10209920345277300_5588523506547583217_n.jpg?oh=cde876dfdcb5e74fa6f99995c8892a33&oe=59176CEC'}}},\n",
       "     {u'id': u'1195640610520061',\n",
       "      u'link': u'https://www.facebook.com/app_scoped_user_id/1195640610520061/',\n",
       "      u'name': u'Luc Van Reck',\n",
       "      u'pic': u'https://scontent.xx.fbcdn.net/v/t1.0-1/p100x100/15037358_1141359052614884_5176540774804845372_n.jpg?oh=d0e44066124fd6be63e59198553556c6&oe=592051DC',\n",
       "      u'picture': {u'data': {u'is_silhouette': False,\n",
       "        u'url': u'https://scontent.xx.fbcdn.net/v/t1.0-1/p50x50/15037358_1141359052614884_5176540774804845372_n.jpg?oh=d632eaee9aa5ba19e90ad021bc812d47&oe=591D358A'}}},\n",
       "     {u'id': u'10210391506638456',\n",
       "      u'link': u'https://www.facebook.com/app_scoped_user_id/10210391506638456/',\n",
       "      u'name': u'Kevin Roelands',\n",
       "      u'pic': u'https://scontent.xx.fbcdn.net/v/t1.0-1/p100x100/15697352_10210266596675785_6214876562921698021_n.jpg?oh=032971dfab7ee1c9c99d9838dc5c8246&oe=5921313E',\n",
       "      u'picture': {u'data': {u'is_silhouette': False,\n",
       "        u'url': u'https://scontent.xx.fbcdn.net/v/t1.0-1/p50x50/15697352_10210266596675785_6214876562921698021_n.jpg?oh=022b90f3d03ce5f23a2889ca4383f49e&oe=58DC6E4A'}}},\n",
       "     {u'id': u'10211346476568563',\n",
       "      u'link': u'https://www.facebook.com/app_scoped_user_id/10211346476568563/',\n",
       "      u'name': u'Eddy Harley Fleur',\n",
       "      u'pic': u'https://scontent.xx.fbcdn.net/v/t1.0-1/p100x100/12107023_10207455344252687_136762769219265902_n.jpg?oh=16a0982e8ac26121a8b61c5ce591d861&oe=58E19767',\n",
       "      u'picture': {u'data': {u'is_silhouette': False,\n",
       "        u'url': u'https://scontent.xx.fbcdn.net/v/t1.0-1/p50x50/12107023_10207455344252687_136762769219265902_n.jpg?oh=5b8de3b67aedfec579cbe44c3dea1397&oe=58DF0331'}}}],\n",
       "    u'paging': {u'cursors': {u'after': u'MTAyMTEzNDY0NzY1Njg1NjMZD',\n",
       "      u'before': u'MTAyMDk5ODc4MTQ4MDM5OTYZD'}}},\n",
       "   u'message': u\"iere den eerste da hier op reageerd is weer zone 'pisdoek rond uwe kop'-lover zene\"},\n",
       "  {u'comment_count': 0,\n",
       "   u'created_time': 1357030621,\n",
       "   u'from': {u'id': u'10208040151377825', u'name': u'Willy de Kimpe'},\n",
       "   u'id': u'10151329663951505_24831099',\n",
       "   u'like_count': 2,\n",
       "   u'likes': {u'data': [{u'id': u'1195640610520061',\n",
       "      u'link': u'https://www.facebook.com/app_scoped_user_id/1195640610520061/',\n",
       "      u'name': u'Luc Van Reck',\n",
       "      u'pic': u'https://scontent.xx.fbcdn.net/v/t1.0-1/p100x100/15037358_1141359052614884_5176540774804845372_n.jpg?oh=d0e44066124fd6be63e59198553556c6&oe=592051DC',\n",
       "      u'picture': {u'data': {u'is_silhouette': False,\n",
       "        u'url': u'https://scontent.xx.fbcdn.net/v/t1.0-1/p50x50/15037358_1141359052614884_5176540774804845372_n.jpg?oh=d632eaee9aa5ba19e90ad021bc812d47&oe=591D358A'}}},\n",
       "     {u'id': u'10211346476568563',\n",
       "      u'link': u'https://www.facebook.com/app_scoped_user_id/10211346476568563/',\n",
       "      u'name': u'Eddy Harley Fleur',\n",
       "      u'pic': u'https://scontent.xx.fbcdn.net/v/t1.0-1/p100x100/12107023_10207455344252687_136762769219265902_n.jpg?oh=16a0982e8ac26121a8b61c5ce591d861&oe=58E19767',\n",
       "      u'picture': {u'data': {u'is_silhouette': False,\n",
       "        u'url': u'https://scontent.xx.fbcdn.net/v/t1.0-1/p50x50/12107023_10207455344252687_136762769219265902_n.jpg?oh=5b8de3b67aedfec579cbe44c3dea1397&oe=58DF0331'}}}],\n",
       "    u'paging': {u'cursors': {u'after': u'MTAyMTEzNDY0NzY1Njg1NjMZD',\n",
       "      u'before': u'MTE5NTY0MDYxMDUyMDA2MQZDZD'}}},\n",
       "   u'message': u'voor iedereen gelukkig 2013'},\n",
       "  {u'comment_count': 0,\n",
       "   u'created_time': 1357031487,\n",
       "   u'from': {u'id': u'10207807211166022', u'name': u'Koen Jennes'},\n",
       "   u'id': u'10151329663951505_24831174',\n",
       "   u'like_count': 1,\n",
       "   u'likes': {u'data': [{u'id': u'1195640610520061',\n",
       "      u'link': u'https://www.facebook.com/app_scoped_user_id/1195640610520061/',\n",
       "      u'name': u'Luc Van Reck',\n",
       "      u'pic': u'https://scontent.xx.fbcdn.net/v/t1.0-1/p100x100/15037358_1141359052614884_5176540774804845372_n.jpg?oh=d0e44066124fd6be63e59198553556c6&oe=592051DC',\n",
       "      u'picture': {u'data': {u'is_silhouette': False,\n",
       "        u'url': u'https://scontent.xx.fbcdn.net/v/t1.0-1/p50x50/15037358_1141359052614884_5176540774804845372_n.jpg?oh=d632eaee9aa5ba19e90ad021bc812d47&oe=591D358A'}}}],\n",
       "    u'paging': {u'cursors': {u'after': u'MTE5NTY0MDYxMDUyMDA2MQZDZD',\n",
       "      u'before': u'MTE5NTY0MDYxMDUyMDA2MQZDZD'}}},\n",
       "   u'message': u'Voor jullie ook een fijn en gezond 2013 gewenst'},\n",
       "  {u'comment_count': 0,\n",
       "   u'created_time': 1357032599,\n",
       "   u'from': {u'id': u'10211707090776555', u'name': u'Rudi Luystermans'},\n",
       "   u'id': u'10151329663951505_24831252',\n",
       "   u'like_count': 1,\n",
       "   u'likes': {u'data': [{u'id': u'1195640610520061',\n",
       "      u'link': u'https://www.facebook.com/app_scoped_user_id/1195640610520061/',\n",
       "      u'name': u'Luc Van Reck',\n",
       "      u'pic': u'https://scontent.xx.fbcdn.net/v/t1.0-1/p100x100/15037358_1141359052614884_5176540774804845372_n.jpg?oh=d0e44066124fd6be63e59198553556c6&oe=592051DC',\n",
       "      u'picture': {u'data': {u'is_silhouette': False,\n",
       "        u'url': u'https://scontent.xx.fbcdn.net/v/t1.0-1/p50x50/15037358_1141359052614884_5176540774804845372_n.jpg?oh=d632eaee9aa5ba19e90ad021bc812d47&oe=591D358A'}}}],\n",
       "    u'paging': {u'cursors': {u'after': u'MTE5NTY0MDYxMDUyMDA2MQZDZD',\n",
       "      u'before': u'MTE5NTY0MDYxMDUyMDA2MQZDZD'}}},\n",
       "   u'message': u'thx, jullie ook.'},\n",
       "  {u'comment_count': 0,\n",
       "   u'created_time': 1357035824,\n",
       "   u'from': {u'id': u'1185591558199192', u'name': u'Ildar Khamidullin'},\n",
       "   u'id': u'10151329663951505_24831582',\n",
       "   u'like_count': 0,\n",
       "   u'message': u'\\u0421 \\u043d\\u043e\\u0432\\u044b\\u043c \\u0433\\u043e\\u0434\\u043e\\u043c!!!!!  En aah! Ne waal!'},\n",
       "  {u'comment_count': 0,\n",
       "   u'created_time': 1357040136,\n",
       "   u'from': {u'id': u'10209987814803996', u'name': u'Amalia Vandepoel'},\n",
       "   u'id': u'10151329663951505_24832127',\n",
       "   u'like_count': 1,\n",
       "   u'likes': {u'data': [{u'id': u'930955533708523',\n",
       "      u'link': u'https://www.facebook.com/app_scoped_user_id/930955533708523/',\n",
       "      u'name': u'Jelle Oplinus',\n",
       "      u'pic': u'https://scontent.xx.fbcdn.net/v/t1.0-1/p100x100/11811498_668290113308401_3940438143016523401_n.jpg?oh=4b56ce1dd1c92f24b7b58892e0ca7964&oe=58DB5DF4',\n",
       "      u'picture': {u'data': {u'is_silhouette': False,\n",
       "        u'url': u'https://scontent.xx.fbcdn.net/v/t1.0-1/p50x50/11811498_668290113308401_3940438143016523401_n.jpg?oh=4355b2b33544ddd7725f4e6f4619cc03&oe=591295FA'}}}],\n",
       "    u'paging': {u'cursors': {u'after': u'OTMwOTU1NTMzNzA4NTIz',\n",
       "      u'before': u'OTMwOTU1NTMzNzA4NTIz'}}},\n",
       "   u'message': u'voor jullie ook hetzelfde gewenst xxx'},\n",
       "  {u'comment_count': 0,\n",
       "   u'created_time': 1357045083,\n",
       "   u'from': {u'id': u'930955533708523', u'name': u'Jelle Oplinus'},\n",
       "   u'id': u'10151329663951505_24832757',\n",
       "   u'like_count': 0,\n",
       "   u'message': u'Voor jullie ook de beste wensen'},\n",
       "  {u'comment_count': 0,\n",
       "   u'created_time': 1357048496,\n",
       "   u'from': {u'id': u'10155668308384278', u'name': u'Eric Rogers'},\n",
       "   u'id': u'10151329663951505_24833162',\n",
       "   u'like_count': 0,\n",
       "   u'message': u'A healthy and prosperous New Year for all and to the Cause!'},\n",
       "  {u'comment_count': 0,\n",
       "   u'created_time': 1357056184,\n",
       "   u'from': {u'id': u'1059611190832110', u'name': u'Walter Vervoort'},\n",
       "   u'id': u'10151329663951505_24834318',\n",
       "   u'like_count': 0,\n",
       "   u'message': u'Fijne feesten en een gezond 2013'},\n",
       "  {u'comment_count': 0,\n",
       "   u'created_time': 1357066216,\n",
       "   u'from': {u'id': u'10206024339847849', u'name': u'Frederik Haeck'},\n",
       "   u'id': u'10151329663951505_24836003',\n",
       "   u'like_count': 0,\n",
       "   u'message': u'Vive le Vlaams Belang!'},\n",
       "  {u'comment_count': 0,\n",
       "   u'created_time': 1357202727,\n",
       "   u'from': {u'id': u'1259445627424523', u'name': u'Alfred Bruszewski'},\n",
       "   u'id': u'10151329663951505_24852494',\n",
       "   u'like_count': 0,\n",
       "   u'message': u'Vlaams Belang - to przyszlosc i perspektywy.'},\n",
       "  {u'comment_count': 0,\n",
       "   u'created_time': 1357205018,\n",
       "   u'from': {u'id': u'945763018887157', u'name': u'Patrick Sessler'},\n",
       "   u'id': u'10151329663951505_24852655',\n",
       "   u'like_count': 0,\n",
       "   u'message': u'Bonne et heureuse ann\\xe9e Alfred.'}]}"
      ]
     },
     "execution_count": 443,
     "metadata": {},
     "output_type": "execute_result"
    }
   ],
   "source": [
    "a=posts.next()"
   ]
  },
  {
   "cell_type": "code",
   "execution_count": 450,
   "metadata": {
    "collapsed": false
   },
   "outputs": [
    {
     "data": {
      "text/plain": [
       "u'ja ik hoop de regering al nieuws over onze ziektes van dokter coucke die leve wordt zuur gemaakt help ons help hem voor vele ongeneeslijk mensen wij zijn al zoveel op mars geweest help ons aub'"
      ]
     },
     "execution_count": 450,
     "metadata": {},
     "output_type": "execute_result"
    }
   ],
   "source": [
    "a['comments'][2]['message']"
   ]
  },
  {
   "cell_type": "code",
   "execution_count": 456,
   "metadata": {
    "collapsed": false
   },
   "outputs": [
    {
     "name": "stdout",
     "output_type": "stream",
     "text": [
      "2013 - 2014  een stap dichter bij de onafhankelijkheid !\n",
      "Laten we eens reconstructies geven van de \"anderen\"!!!\n",
      "ja ik hoop de regering al nieuws over onze ziektes van dokter coucke die leve wordt zuur gemaakt help ons help hem voor vele ongeneeslijk mensen wij zijn al zoveel op mars geweest help ons aub\n",
      "iere den eerste da hier op reageerd is weer zone 'pisdoek rond uwe kop'-lover zene\n",
      "voor iedereen gelukkig 2013\n",
      "Voor jullie ook een fijn en gezond 2013 gewenst\n",
      "thx, jullie ook.\n",
      "С новым годом!!!!!  En aah! Ne waal!\n",
      "voor jullie ook hetzelfde gewenst xxx\n",
      "Voor jullie ook de beste wensen\n",
      "A healthy and prosperous New Year for all and to the Cause!\n",
      "Fijne feesten en een gezond 2013\n",
      "Vive le Vlaams Belang!\n",
      "Vlaams Belang - to przyszlosc i perspektywy.\n",
      "Bonne et heureuse année Alfred.\n"
     ]
    }
   ],
   "source": []
  },
  {
   "cell_type": "code",
   "execution_count": null,
   "metadata": {
    "collapsed": true
   },
   "outputs": [],
   "source": []
  },
  {
   "cell_type": "code",
   "execution_count": 411,
   "metadata": {
    "collapsed": false
   },
   "outputs": [
    {
     "ename": "IndexError",
     "evalue": "list index out of range",
     "output_type": "error",
     "traceback": [
      "\u001b[1;31m---------------------------------------------------------------------------\u001b[0m",
      "\u001b[1;31mIndexError\u001b[0m                                Traceback (most recent call last)",
      "\u001b[1;32m<ipython-input-411-69463562c298>\u001b[0m in \u001b[0;36m<module>\u001b[1;34m()\u001b[0m\n\u001b[1;32m----> 1\u001b[1;33m \u001b[0ma\u001b[0m\u001b[1;33m[\u001b[0m\u001b[1;34m'comments'\u001b[0m\u001b[1;33m]\u001b[0m\u001b[1;33m[\u001b[0m\u001b[1;36m0\u001b[0m\u001b[1;33m]\u001b[0m\u001b[1;33m[\u001b[0m\u001b[1;34m'message'\u001b[0m\u001b[1;33m]\u001b[0m\u001b[1;33m\u001b[0m\u001b[0m\n\u001b[0m",
      "\u001b[1;31mIndexError\u001b[0m: list index out of range"
     ]
    }
   ],
   "source": [
    "a['comments'][0]['message']"
   ]
  },
  {
   "cell_type": "code",
   "execution_count": null,
   "metadata": {
    "collapsed": true
   },
   "outputs": [],
   "source": []
  },
  {
   "cell_type": "code",
   "execution_count": null,
   "metadata": {
    "collapsed": true
   },
   "outputs": [],
   "source": []
  },
  {
   "cell_type": "code",
   "execution_count": null,
   "metadata": {
    "collapsed": true
   },
   "outputs": [],
   "source": []
  },
  {
   "cell_type": "code",
   "execution_count": null,
   "metadata": {
    "collapsed": true
   },
   "outputs": [],
   "source": []
  },
  {
   "cell_type": "code",
   "execution_count": null,
   "metadata": {
    "collapsed": true
   },
   "outputs": [],
   "source": []
  },
  {
   "cell_type": "code",
   "execution_count": null,
   "metadata": {
    "collapsed": true
   },
   "outputs": [],
   "source": []
  },
  {
   "cell_type": "code",
   "execution_count": null,
   "metadata": {
    "collapsed": true
   },
   "outputs": [],
   "source": []
  },
  {
   "cell_type": "code",
   "execution_count": null,
   "metadata": {
    "collapsed": true
   },
   "outputs": [],
   "source": []
  },
  {
   "cell_type": "code",
   "execution_count": null,
   "metadata": {
    "collapsed": true
   },
   "outputs": [],
   "source": []
  },
  {
   "cell_type": "code",
   "execution_count": null,
   "metadata": {
    "collapsed": true
   },
   "outputs": [],
   "source": []
  },
  {
   "cell_type": "code",
   "execution_count": null,
   "metadata": {
    "collapsed": true
   },
   "outputs": [],
   "source": []
  },
  {
   "cell_type": "code",
   "execution_count": null,
   "metadata": {
    "collapsed": true
   },
   "outputs": [],
   "source": []
  },
  {
   "cell_type": "code",
   "execution_count": null,
   "metadata": {
    "collapsed": true
   },
   "outputs": [],
   "source": []
  },
  {
   "cell_type": "code",
   "execution_count": null,
   "metadata": {
    "collapsed": true
   },
   "outputs": [],
   "source": []
  },
  {
   "cell_type": "code",
   "execution_count": null,
   "metadata": {
    "collapsed": true
   },
   "outputs": [],
   "source": []
  },
  {
   "cell_type": "code",
   "execution_count": null,
   "metadata": {
    "collapsed": true
   },
   "outputs": [],
   "source": []
  },
  {
   "cell_type": "code",
   "execution_count": null,
   "metadata": {
    "collapsed": true
   },
   "outputs": [],
   "source": []
  },
  {
   "cell_type": "code",
   "execution_count": null,
   "metadata": {
    "collapsed": true
   },
   "outputs": [],
   "source": []
  },
  {
   "cell_type": "code",
   "execution_count": null,
   "metadata": {
    "collapsed": true
   },
   "outputs": [],
   "source": []
  },
  {
   "cell_type": "code",
   "execution_count": null,
   "metadata": {
    "collapsed": true
   },
   "outputs": [],
   "source": []
  },
  {
   "cell_type": "code",
   "execution_count": null,
   "metadata": {
    "collapsed": true
   },
   "outputs": [],
   "source": []
  },
  {
   "cell_type": "code",
   "execution_count": null,
   "metadata": {
    "collapsed": true
   },
   "outputs": [],
   "source": []
  },
  {
   "cell_type": "code",
   "execution_count": null,
   "metadata": {
    "collapsed": true
   },
   "outputs": [],
   "source": []
  },
  {
   "cell_type": "code",
   "execution_count": null,
   "metadata": {
    "collapsed": true
   },
   "outputs": [],
   "source": []
  },
  {
   "cell_type": "code",
   "execution_count": null,
   "metadata": {
    "collapsed": true
   },
   "outputs": [],
   "source": []
  },
  {
   "cell_type": "code",
   "execution_count": null,
   "metadata": {
    "collapsed": true
   },
   "outputs": [],
   "source": []
  }
 ],
 "metadata": {
  "kernelspec": {
   "display_name": "Python 2",
   "language": "python",
   "name": "python2"
  },
  "language_info": {
   "codemirror_mode": {
    "name": "ipython",
    "version": 2
   },
   "file_extension": ".py",
   "mimetype": "text/x-python",
   "name": "python",
   "nbconvert_exporter": "python",
   "pygments_lexer": "ipython2",
   "version": "2.7.11+"
  }
 },
 "nbformat": 4,
 "nbformat_minor": 0
}
