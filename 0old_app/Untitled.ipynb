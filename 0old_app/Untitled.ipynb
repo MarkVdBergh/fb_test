{
 "cells": [
  {
   "cell_type": "code",
   "execution_count": 1,
   "metadata": {
    "collapsed": false
   },
   "outputs": [
    {
     "name": "stdout",
     "output_type": "stream",
     "text": [
      "New MongoClient created\n",
      "height has been deprecated.\n",
      "\n"
     ]
    }
   ],
   "source": [
    "import pandas as pd\n",
    "from database.sample_documents import SampleDocuments as SD\n",
    "from pprint import pprint\n",
    "from database.facebook_crud import fbGetPosts\n",
    "pd.set_option('display.height', 1000)\n",
    "pd.set_option('display.max_rows', 500)\n",
    "pd.set_option('display.max_columns', 500)\n",
    "pd.set_option('display.width', 170)"
   ]
  },
  {
   "cell_type": "code",
   "execution_count": 48,
   "metadata": {
    "collapsed": false
   },
   "outputs": [
    {
     "name": "stdout",
     "output_type": "stream",
     "text": [
      "{'from.id': '53668151866'}\n"
     ]
    }
   ],
   "source": [
    "post=fbGetPosts(query={'from.id':'53668151866'}, limit=10)\n",
    "id=2000"
   ]
  },
  {
   "cell_type": "code",
   "execution_count": 49,
   "metadata": {
    "collapsed": false
   },
   "outputs": [
    {
     "name": "stdout",
     "output_type": "stream",
     "text": [
      "{u'_id': ObjectId('5879945256e54f3de985669e'),\n",
      " u'comments': [{u'comment_count': 1,\n",
      "                u'created_time': 1471015614,\n",
      "                u'from': {u'id': u'10212165339348118',\n",
      "                          u'name': u'Bjorn Raymond De Corte'},\n",
      "                u'id': u'10153724649401867_10153725318126867',\n",
      "                u'like_count': 3,\n",
      "                u'likes': {u'data': [{u'id': u'10154515514628071',\n",
      "                                      u'link': u'https://www.facebook.com/app_scoped_user_id/10154515514628071/',\n",
      "                                      u'name': u'Peter Kom',\n",
      "                                      u'pic': u'https://scontent.xx.fbcdn.net/v/t1.0-1/p100x100/11695870_10153179434448071_3532740020484115777_n.jpg?oh=529934efabb7b5f365840db6c8fb9fa2&oe=5915208A',\n",
      "                                      u'picture': {u'data': {u'is_silhouette': False,\n",
      "                                                             u'url': u'https://scontent.xx.fbcdn.net/v/t1.0-1/p50x50/11695870_10153179434448071_3532740020484115777_n.jpg?oh=58822885655df489a16824d74ba0619f&oe=590B00FE'}}},\n",
      "                                     {u'id': u'1265264933539965',\n",
      "                                      u'link': u'https://www.facebook.com/app_scoped_user_id/1265264933539965/',\n",
      "                                      u'name': u'Brent Usewils',\n",
      "                                      u'pic': u'https://scontent.xx.fbcdn.net/v/t1.0-1/p100x100/12986990_1052458414820619_5771036809804314712_n.jpg?oh=65388488917baa36a9f55762404ddf81&oe=592254A7',\n",
      "                                      u'picture': {u'data': {u'is_silhouette': False,\n",
      "                                                             u'url': u'https://scontent.xx.fbcdn.net/v/t1.0-1/p50x50/12986990_1052458414820619_5771036809804314712_n.jpg?oh=6258123968a1a819a20bb1ad16b1fb3d&oe=59247AF1'}}},\n",
      "                                     {u'id': u'1224037154340167',\n",
      "                                      u'link': u'https://www.facebook.com/app_scoped_user_id/1224037154340167/',\n",
      "                                      u'name': u'Pieter Kurt Poupeye',\n",
      "                                      u'pic': u'https://scontent.xx.fbcdn.net/v/t1.0-1/p100x100/15541383_1207559999321216_7558624917785267057_n.jpg?oh=322746419ca98b31b59944c1450a64c6&oe=58D9A2AE',\n",
      "                                      u'picture': {u'data': {u'is_silhouette': False,\n",
      "                                                             u'url': u'https://scontent.xx.fbcdn.net/v/t1.0-1/p50x50/15541383_1207559999321216_7558624917785267057_n.jpg?oh=736dbbcd25057097aa18d11e03267d05&oe=591D96F8'}}}],\n",
      "                           u'paging': {u'cursors': {u'after': u'MTIyNDAzNzE1NDM0MDE2NwZDZD',\n",
      "                                                    u'before': u'MTAxNTQ1MTU1MTQ2MjgwNzEZD'}}},\n",
      "                u'message': u'Het betekent dat Facebook de bloedgroepen gaat implementeren in zijn Sociaal platform, zodat als er een tekort is aan een bepaalde bloedgroep, men hiervan op de hoogte word gesteld om bloed te gaan doneren.'},\n",
      "               {u'comment_count': 0,\n",
      "                u'created_time': 1471122418,\n",
      "                u'from': {u'id': u'1810011999253593',\n",
      "                          u'name': u'Filip Gustav Syvertsen'},\n",
      "                u'id': u'10153724649401867_10153728671186867',\n",
      "                u'like_count': 0,\n",
      "                u'message': u'Ge moogt dat nog niet verklappen!'},\n",
      "               {u'comment_count': 0,\n",
      "                u'created_time': 1471029271,\n",
      "                u'from': {u'id': u'1334500459906101',\n",
      "                          u'name': u'Tom Peremans'},\n",
      "                u'id': u'10153724649401867_10153725810591867',\n",
      "                u'like_count': 1,\n",
      "                u'likes': {u'data': [{u'id': u'10154515514628071',\n",
      "                                      u'link': u'https://www.facebook.com/app_scoped_user_id/10154515514628071/',\n",
      "                                      u'name': u'Peter Kom',\n",
      "                                      u'pic': u'https://scontent.xx.fbcdn.net/v/t1.0-1/p100x100/11695870_10153179434448071_3532740020484115777_n.jpg?oh=529934efabb7b5f365840db6c8fb9fa2&oe=5915208A',\n",
      "                                      u'picture': {u'data': {u'is_silhouette': False,\n",
      "                                                             u'url': u'https://scontent.xx.fbcdn.net/v/t1.0-1/p50x50/11695870_10153179434448071_3532740020484115777_n.jpg?oh=58822885655df489a16824d74ba0619f&oe=590B00FE'}}}],\n",
      "                           u'paging': {u'cursors': {u'after': u'MTAxNTQ1MTU1MTQ2MjgwNzEZD',\n",
      "                                                    u'before': u'MTAxNTQ1MTU1MTQ2MjgwNzEZD'}}},\n",
      "                u'message': u'Beetje flauw dat de oppositie niet mee doet! Bloed geven doet leven <3'},\n",
      "               {u'attachment': {u'media': {u'image': {u'height': 600,\n",
      "                                                      u'src': u'https://scontent.xx.fbcdn.net/t39.1997-6/851586_126361877548609_1351776047_n.png',\n",
      "                                                      u'width': 600}},\n",
      "                                u'target': {u'id': u'126361874215276',\n",
      "                                            u'url': u'https://scontent.xx.fbcdn.net/t39.1997-6/851586_126361877548609_1351776047_n.png'},\n",
      "                                u'type': u'sticker',\n",
      "                                u'url': u'https://scontent.xx.fbcdn.net/t39.1997-6/851586_126361877548609_1351776047_n.png'},\n",
      "                u'comment_count': 0,\n",
      "                u'created_time': 1471004049,\n",
      "                u'from': {u'id': u'1686300848053014',\n",
      "                          u'name': u'Lisette de Clercq'},\n",
      "                u'id': u'10153724649401867_10153724923601867',\n",
      "                u'like_count': 0,\n",
      "                u'message': u'oei ! er is een hoek af !'}],\n",
      " u'created_time': 1470995275,\n",
      " u'created_time_dt': datetime.datetime(2016, 8, 12, 9, 47, 55),\n",
      " u'created_time_local': u'2016-08-12 11:47:55',\n",
      " u'flag': 0,\n",
      " u'from': {u'id': u'53668151866', u'name': u'Open Vld'},\n",
      " u'id': u'53668151866_10153724649401867',\n",
      " u'link': u'https://www.facebook.com/openvld/photos/a.438128616866.239339.53668151866/10153724649401867/?type=3',\n",
      " u'name': u'Open Vld',\n",
      " u'picture': u'https://scontent.xx.fbcdn.net/v/t1.0-0/p130x130/13900147_10153724649401867_7696926360392035_n.jpg?oh=6413de3f5dbb3d9b6d0578c9e5c24c06&oe=58D7284B',\n",
      " u'profile': {u'id': u'53668151866', u'name': u'Open Vld'},\n",
      " u'reactions': [{u'id': u'1072615002848246',\n",
      "                 u'name': u'Justine Acx',\n",
      "                 u'pic': u'https://scontent.xx.fbcdn.net/v/t1.0-1/p100x100/12645186_822974417812307_4762811144715398787_n.jpg?oh=c1df9538557c3eac9f09cc39646b28a5&oe=591AF4E2',\n",
      "                 u'type': u'LIKE'},\n",
      "                {u'id': u'1747123138940756',\n",
      "                 u'name': u'Jarno Peeters',\n",
      "                 u'pic': u'https://scontent.xx.fbcdn.net/v/t1.0-1/p100x100/15589524_1734471363539267_5416802527063174072_n.jpg?oh=1a3498c9778935dd36521b989f15e225&oe=58E1EDCA',\n",
      "                 u'type': u'LIKE'},\n",
      "                {u'id': u'10208490743812640',\n",
      "                 u'name': u'Arne Van Snick',\n",
      "                 u'pic': u'https://scontent.xx.fbcdn.net/v/t1.0-1/p100x100/13260276_10206656476117094_3247056538601453096_n.jpg?oh=c82c92f7778b34cba57f658b922ae21b&oe=591474EA',\n",
      "                 u'type': u'LIKE'},\n",
      "                {u'id': u'1076810119097160',\n",
      "                 u'name': u'Rita Penninck',\n",
      "                 u'pic': u'https://scontent.xx.fbcdn.net/v/t1.0-1/s100x100/10534452_578584318919745_9005441123856236058_n.jpg?oh=31d544104ba41f9fe8037c6389fe3496&oe=591F884A',\n",
      "                 u'type': u'LIKE'},\n",
      "                {u'id': u'1810011999253593',\n",
      "                 u'name': u'Filip Gustav Syvertsen',\n",
      "                 u'pic': u'https://scontent.xx.fbcdn.net/v/t1.0-1/s100x100/14955826_1781271025461024_7272615292856350967_n.jpg?oh=610d07776165d237080a64571c740502&oe=58D6B43C',\n",
      "                 u'type': u'LIKE'},\n",
      "                {u'id': u'10208688445473438',\n",
      "                 u'name': u'Ronny Velter',\n",
      "                 u'pic': u'https://scontent.xx.fbcdn.net/v/t1.0-1/s100x100/31467_1306118697955_6279580_n.jpg?oh=a494692cb477676eb0734283ea5df950&oe=58DCC8F5',\n",
      "                 u'type': u'LOVE'},\n",
      "                {u'id': u'10210580564501910',\n",
      "                 u'name': u'Annelise Deville',\n",
      "                 u'pic': u'https://scontent.xx.fbcdn.net/v/t1.0-1/p100x100/14100383_10209342943722164_8923844333654133954_n.jpg?oh=6c4864b621a27feb74ce6ba2b1293213&oe=592349B6',\n",
      "                 u'type': u'LIKE'},\n",
      "                {u'id': u'1840204989598602',\n",
      "                 u'name': u'Hamid Gendo',\n",
      "                 u'pic': u'https://scontent.xx.fbcdn.net/v/t1.0-1/p100x100/14212557_1772590063026762_3379214628572043878_n.jpg?oh=daca6ca0a5788f2fb4f9c18a52454f47&oe=5922C38D',\n",
      "                 u'type': u'LIKE'},\n",
      "                {u'id': u'10207978823300803',\n",
      "                 u'name': u'Marieke Cooymans',\n",
      "                 u'pic': u'https://scontent.xx.fbcdn.net/v/t1.0-1/s100x100/225301_1041601292661_3613026_n.jpg?oh=bf447813100e32e8fff7589003bf90e7&oe=59166338',\n",
      "                 u'type': u'LIKE'},\n",
      "                {u'id': u'1744769915839773',\n",
      "                 u'name': u'Herman Tollenaers',\n",
      "                 u'pic': u'https://scontent.xx.fbcdn.net/v/t1.0-1/p100x100/11020278_1411994282450673_819207944520841510_n.jpg?oh=e82173df7f95af77ce272d93a69f33a1&oe=5916585E',\n",
      "                 u'type': u'LIKE'},\n",
      "                {u'id': u'1412310175447798',\n",
      "                 u'name': u'Tine Loosvelt',\n",
      "                 u'pic': u'https://scontent.xx.fbcdn.net/v/t1.0-1/p100x100/11999020_1054610474551105_1459085571714608304_n.jpg?oh=9a14c7db2f772350a9b7d50ac49864e0&oe=58E09AC8',\n",
      "                 u'type': u'LIKE'},\n",
      "                {u'id': u'10154515514628071',\n",
      "                 u'name': u'Peter Kom',\n",
      "                 u'pic': u'https://scontent.xx.fbcdn.net/v/t1.0-1/p100x100/11695870_10153179434448071_3532740020484115777_n.jpg?oh=529934efabb7b5f365840db6c8fb9fa2&oe=5915208A',\n",
      "                 u'type': u'LIKE'},\n",
      "                {u'id': u'10154296131321448',\n",
      "                 u'name': u'Virginie Bolly',\n",
      "                 u'pic': u'https://scontent.xx.fbcdn.net/v/t1.0-1/p100x100/15740877_10154268457131448_7183945210687837565_n.jpg?oh=0e4e8bbcad2c61bdd44c03c07e1c0e46&oe=590B565D',\n",
      "                 u'type': u'LIKE'},\n",
      "                {u'id': u'1323524211053961',\n",
      "                 u'name': u'Dirk van Mol',\n",
      "                 u'pic': u'https://scontent.xx.fbcdn.net/v/t1.0-1/p100x100/10644914_746560818750306_4478702213765680448_n.jpg?oh=8d8f0463f3a7a6e82b03aa33e63af073&oe=592141AE',\n",
      "                 u'type': u'LIKE'},\n",
      "                {u'id': u'10209534569419362',\n",
      "                 u'name': u'Marc Theys',\n",
      "                 u'pic': u'https://scontent.xx.fbcdn.net/v/t1.0-1/p100x100/1930810_10206597418712430_1733370920911540084_n.jpg?oh=a181352f2a0d36189424485171941fe5&oe=58DFAA29',\n",
      "                 u'type': u'LIKE'},\n",
      "                {u'id': u'762439157245290',\n",
      "                 u'name': u'Johnny Hamal',\n",
      "                 u'pic': u'https://scontent.xx.fbcdn.net/v/t1.0-1/p100x100/539443_101642003325012_545248080_n.jpg?oh=a6a37a24dccb4aa48a39080f47afdf24&oe=591013EB',\n",
      "                 u'type': u'LIKE'},\n",
      "                {u'id': u'1375620282477556',\n",
      "                 u'name': u'Gilberte Guffens',\n",
      "                 u'pic': u'https://scontent.xx.fbcdn.net/v/t1.0-1/s100x100/23968_100427869996810_1795519_n.jpg?oh=ed9cb692ed02bafbc3eadae1725f5e40&oe=58D67D09',\n",
      "                 u'type': u'LIKE'},\n",
      "                {u'id': u'10212302763150740',\n",
      "                 u'name': u'Hilde Leyman',\n",
      "                 u'pic': u'https://scontent.xx.fbcdn.net/v/t1.0-1/s100x100/36476_1542722854530_6910671_n.jpg?oh=7fed57f947ba90a3e8f98f6df7db7f78&oe=591D8A6E',\n",
      "                 u'type': u'LIKE'},\n",
      "                {u'id': u'750053178494879',\n",
      "                 u'name': u'Moeke Havet',\n",
      "                 u'pic': u'https://scontent.xx.fbcdn.net/v/t1.0-1/p100x100/10603543_481122482054618_4328928025295564694_n.jpg?oh=410c85a5525f1ea0df8b3371e8cc1df2&oe=58E072D8',\n",
      "                 u'type': u'LIKE'},\n",
      "                {u'id': u'1718274085150513',\n",
      "                 u'name': u'Norbert Vanhulle',\n",
      "                 u'pic': u'https://scontent.xx.fbcdn.net/v/t1.0-1/s100x100/10294327_1571735176471072_7881726854628522191_n.jpg?oh=5a12204d4484ff18b265084839e6152d&oe=591E6F25',\n",
      "                 u'type': u'LOVE'},\n",
      "                {u'id': u'919763958160619',\n",
      "                 u'name': u'Annick Debeerst',\n",
      "                 u'pic': u'https://scontent.xx.fbcdn.net/v/t1.0-1/p100x100/15822996_915751485228533_1062093190903105318_n.jpg?oh=9fb637059fecfebbdae39a10d663c0cd&oe=58D7CD61',\n",
      "                 u'type': u'LIKE'},\n",
      "                {u'id': u'10208112025338414',\n",
      "                 u'name': u'Chantal Boterberg',\n",
      "                 u'pic': u'https://scontent.xx.fbcdn.net/v/t1.0-1/s100x100/481703_3945572957781_1221341979_n.jpg?oh=7f3e0e25f184008cefa8e264880e4a09&oe=592014DA',\n",
      "                 u'type': u'LIKE'},\n",
      "                {u'id': u'1214287405357309',\n",
      "                 u'name': u'Victor Bogaerts',\n",
      "                 u'pic': u'https://scontent.xx.fbcdn.net/v/t1.0-1/p100x100/1934103_923392164446836_1482227335819834319_n.jpg?oh=23f09eddc86f0447b4a1cdb8d9edf5ae&oe=591ED4E0',\n",
      "                 u'type': u'LIKE'},\n",
      "                {u'id': u'1177185735722463',\n",
      "                 u'name': u'Tim van Tergouw',\n",
      "                 u'pic': u'https://scontent.xx.fbcdn.net/v/t1.0-1/p100x100/14291646_1053614608079577_9101587182251052511_n.jpg?oh=855110873a7006d9ce1ed933c9ee99db&oe=58D62379',\n",
      "                 u'type': u'LIKE'},\n",
      "                {u'id': u'683292041846684',\n",
      "                 u'name': u'Sander  Laekeman',\n",
      "                 u'pic': u'https://scontent.xx.fbcdn.net/v/t1.0-1/p100x100/13432222_577532435755979_3832332667122548747_n.jpg?oh=7943ebe84af958337e7297664a21c2fe&oe=591FBD1A',\n",
      "                 u'type': u'LIKE'},\n",
      "                {u'id': u'1830798990534004',\n",
      "                 u'name': u'Didier Jansen',\n",
      "                 u'pic': u'https://scontent.xx.fbcdn.net/v/t1.0-1/p100x100/15094898_1805460786401158_7266143609827188781_n.jpg?oh=98384eb203547edfd7b6e7cbf8ae0d74&oe=59160F45',\n",
      "                 u'type': u'LIKE'},\n",
      "                {u'id': u'1395883377110343',\n",
      "                 u'name': u'Richard Carr\\xe8re',\n",
      "                 u'pic': u'https://scontent.xx.fbcdn.net/v/t1.0-1/p100x100/13906670_1229619517070064_6776515003090133650_n.jpg?oh=429188e3c989a4578c74638056611ae6&oe=58DE5BDE',\n",
      "                 u'type': u'LOVE'},\n",
      "                {u'id': u'10210815890848882',\n",
      "                 u'name': u'Michiel Lecomte',\n",
      "                 u'pic': u'https://scontent.xx.fbcdn.net/v/t1.0-1/p100x100/14492609_10209814778701704_5597217027571437021_n.jpg?oh=55c9d59671489bfd8a2b355fe54db87d&oe=58D87AEA',\n",
      "                 u'type': u'LIKE'},\n",
      "                {u'id': u'10212224691998307',\n",
      "                 u'name': u'Luc Biltris',\n",
      "                 u'pic': u'https://scontent.xx.fbcdn.net/v/t1.0-1/p100x100/1545757_10203226277163560_2036034566_n.jpg?oh=7566830d0db4b6603afb5c42b86962c2&oe=5911661A',\n",
      "                 u'type': u'LIKE'},\n",
      "                {u'id': u'866066936867478',\n",
      "                 u'name': u'Pascal Fuchs',\n",
      "                 u'pic': u'https://scontent.xx.fbcdn.net/v/t1.0-1/p100x100/14446056_802656649875174_5364435312758472510_n.jpg?oh=1bfa3f7944a9bc156483aeac649f5f7e&oe=59134AC4',\n",
      "                 u'type': u'LIKE'},\n",
      "                {u'id': u'1265264933539965',\n",
      "                 u'name': u'Brent Usewils',\n",
      "                 u'pic': u'https://scontent.xx.fbcdn.net/v/t1.0-1/p100x100/12986990_1052458414820619_5771036809804314712_n.jpg?oh=65388488917baa36a9f55762404ddf81&oe=592254A7',\n",
      "                 u'type': u'LOVE'},\n",
      "                {u'id': u'10212150223537943',\n",
      "                 u'name': u'Dirk Coens',\n",
      "                 u'pic': u'https://scontent.xx.fbcdn.net/v/t1.0-1/p100x100/418687_4577971814455_590337721_n.jpg?oh=5c1662a1a5a27973d32772d7f4d3a031&oe=59155D5D',\n",
      "                 u'type': u'LIKE'},\n",
      "                {u'id': u'10154017038720738',\n",
      "                 u'name': u'Lieselot Van Mol',\n",
      "                 u'pic': u'https://scontent.xx.fbcdn.net/v/t1.0-1/p100x100/13882471_10153623738080738_5612901418560242463_n.jpg?oh=7ff5a52cae2b22e5dcf51d1583ba2722&oe=590EB035',\n",
      "                 u'type': u'LIKE'},\n",
      "                {u'id': u'1557088390973062',\n",
      "                 u'name': u'Geert Ruts',\n",
      "                 u'pic': u'https://scontent.xx.fbcdn.net/v/t1.0-1/p100x100/15492116_1529060223775879_5229404966157336705_n.jpg?oh=9f14ad6a1860807821ec547a9ab69971&oe=590F9AB8',\n",
      "                 u'type': u'LIKE'},\n",
      "                {u'id': u'609335545919243',\n",
      "                 u'name': u'Denis Delbecque',\n",
      "                 u'pic': u'https://scontent.xx.fbcdn.net/v/t1.0-1/p100x100/13240647_511171049069027_108727573474065175_n.jpg?oh=abddaf697d887b303ae19ffbc2dc2b5f&oe=58D97BF1',\n",
      "                 u'type': u'LOVE'},\n",
      "                {u'id': u'10210504451481524',\n",
      "                 u'name': u'Bart Lannoye',\n",
      "                 u'pic': u'https://scontent.xx.fbcdn.net/v/t1.0-1/p100x100/12088490_10206879113050329_5723211862946808256_n.jpg?oh=1b24b2f94abd9d5dfe73337162a5616a&oe=59246650',\n",
      "                 u'type': u'LIKE'},\n",
      "                {u'id': u'738149183005831',\n",
      "                 u'name': u'Toby Van Breda',\n",
      "                 u'pic': u'https://scontent.xx.fbcdn.net/v/t1.0-1/p100x100/14908282_703193306501419_5267338622790781966_n.jpg?oh=64830db3f4e33c4bf3e09d927d836576&oe=58E14E69',\n",
      "                 u'type': u'LIKE'},\n",
      "                {u'id': u'10209734697457759',\n",
      "                 u'name': u'C\\xe9line Delodder',\n",
      "                 u'pic': u'https://scontent.xx.fbcdn.net/v/t1.0-1/p100x100/15355712_10209470970984762_5599464452459534060_n.jpg?oh=72f78c18ef53e6fbe42f43196bb492ca&oe=591A8527',\n",
      "                 u'type': u'LIKE'},\n",
      "                {u'id': u'749945125154794',\n",
      "                 u'name': u'Danny Wouters',\n",
      "                 u'pic': u'https://scontent.xx.fbcdn.net/v/t1.0-1/p100x100/14224749_680685032080804_8788702493239442432_n.jpg?oh=1b4dc41e760f0d95ab77483edfa16eb0&oe=591541C3',\n",
      "                 u'type': u'LIKE'},\n",
      "                {u'id': u'241473986280341',\n",
      "                 u'name': u'Kris Masson',\n",
      "                 u'pic': u'https://scontent.xx.fbcdn.net/v/t1.0-1/s100x100/15747335_236221083472298_1026314802904924905_n.jpg?oh=69a8025c498736e0da03ce6dc3adb927&oe=591AAB1A',\n",
      "                 u'type': u'LIKE'},\n",
      "                {u'id': u'10206383110135988',\n",
      "                 u'name': u'Christine Thienpondt',\n",
      "                 u'pic': u'https://scontent.xx.fbcdn.net/v/t1.0-1/p100x100/12065572_10203707575849303_1053641997363534752_n.jpg?oh=470fb00ae6d76c193a5532a6c0908bee&oe=5911886E',\n",
      "                 u'type': u'LIKE'},\n",
      "                {u'id': u'642575379264228',\n",
      "                 u'name': u'Brenda Lagrou',\n",
      "                 u'pic': u'https://scontent.xx.fbcdn.net/v/t1.0-1/p100x100/15873350_641355932719506_2229937189502245259_n.jpg?oh=73f8e9d9658672283a2679fe52cc9b9c&oe=58E0624A',\n",
      "                 u'type': u'LIKE'},\n",
      "                {u'id': u'239702186457886',\n",
      "                 u'name': u'Rony Ranson',\n",
      "                 u'pic': u'https://scontent.xx.fbcdn.net/v/t1.0-1/p100x100/15825862_236241823470589_7656294607583435081_n.jpg?oh=69f8275965e5eba58574405dc1da8983&oe=58E041D8',\n",
      "                 u'type': u'LIKE'},\n",
      "                {u'id': u'10210111719822888',\n",
      "                 u'name': u'Yves Van Steen',\n",
      "                 u'pic': u'https://scontent.xx.fbcdn.net/v/t1.0-1/p100x100/1378630_10201568352444043_1316352445_n.jpg?oh=2520a6a5cc251aefe12b1da4108cc90f&oe=58DF905F',\n",
      "                 u'type': u'LIKE'},\n",
      "                {u'id': u'1263252147090589',\n",
      "                 u'name': u'Carine Peferoen',\n",
      "                 u'pic': u'https://scontent.xx.fbcdn.net/v/t1.0-1/s100x100/12985604_1032468180168988_6246098851056420955_n.jpg?oh=d22456f4769c0dd2f8c10df3c16b7c86&oe=58D62D96',\n",
      "                 u'type': u'LIKE'},\n",
      "                {u'id': u'908741305928473',\n",
      "                 u'name': u'Fonny Bruyninckx',\n",
      "                 u'pic': u'https://scontent.xx.fbcdn.net/v/t1.0-1/p100x100/14519738_848956005240337_7710180711650060428_n.jpg?oh=84dd66497f8323d7b7f88910af49dd24&oe=592269F8',\n",
      "                 u'type': u'LIKE'},\n",
      "                {u'id': u'1366741256698203',\n",
      "                 u'name': u'Daisy Van Lens',\n",
      "                 u'pic': u'https://scontent.xx.fbcdn.net/v/t1.0-1/p100x100/12507569_1066332946739037_2252284653796840105_n.jpg?oh=d85116668590895a9ab2745e133020ae&oe=590BAFDD',\n",
      "                 u'type': u'LIKE'},\n",
      "                {u'id': u'1852457058366509',\n",
      "                 u'name': u'Johnny Van Daele',\n",
      "                 u'pic': u'https://scontent.xx.fbcdn.net/v/t1.0-1/p100x100/15873102_1848901945388687_3822794116999395377_n.jpg?oh=c28b5b8e951645bb36e2c3f2ed3cebcc&oe=58D92F87',\n",
      "                 u'type': u'LIKE'},\n",
      "                {u'id': u'886343504838679',\n",
      "                 u'name': u'Annita Maes',\n",
      "                 u'pic': u'https://scontent.xx.fbcdn.net/v/t1.0-1/p100x100/12803188_665630860243279_3314470406036260570_n.jpg?oh=23ec47a8284c40d28beed42bceb966d9&oe=59154627',\n",
      "                 u'type': u'LIKE'},\n",
      "                {u'id': u'10154962765333724',\n",
      "                 u'name': u'Roby Guns',\n",
      "                 u'pic': u'https://scontent.xx.fbcdn.net/v/t1.0-1/p100x100/1385327_10151955022413724_1617127705_n.jpg?oh=1f04fa7d8a8ae51d9bac247ae09f9193&oe=5910495A',\n",
      "                 u'type': u'LIKE'},\n",
      "                {u'id': u'727547290739788',\n",
      "                 u'name': u'Rita Mehaudens',\n",
      "                 u'pic': u'https://scontent.xx.fbcdn.net/v/t1.0-1/p100x100/13413594_623988154429036_6460632465844390362_n.jpg?oh=81347e387fc59c9785aad52f8b5aa67e&oe=58E21E7D',\n",
      "                 u'type': u'LIKE'},\n",
      "                {u'id': u'843931342415611',\n",
      "                 u'name': u'Maria Nelissen',\n",
      "                 u'pic': u'https://scontent.xx.fbcdn.net/v/t1.0-1/s100x100/547379_102776756531077_712679242_n.jpg?oh=a8fd98590a10257bb2b475634939c0ad&oe=591D6626',\n",
      "                 u'type': u'LIKE'},\n",
      "                {u'id': u'10154837606487910',\n",
      "                 u'name': u'Alan Wuyts',\n",
      "                 u'pic': u'https://scontent.xx.fbcdn.net/v/t1.0-1/p100x100/15822945_10154812872807910_9205199188113602107_n.jpg?oh=6018245bda443cbecb0c9eca2eaf19a2&oe=58E090CD',\n",
      "                 u'type': u'LIKE'},\n",
      "                {u'id': u'584181471777054',\n",
      "                 u'name': u'Hugo Van Hombeeck',\n",
      "                 u'pic': u'https://scontent.xx.fbcdn.net/v/t1.0-1/p100x100/1934970_458365467691989_1366448188080141723_n.jpg?oh=fdc7029f7370e15e1180d1e21a0d6386&oe=59189F66',\n",
      "                 u'type': u'LIKE'},\n",
      "                {u'id': u'408672422801316',\n",
      "                 u'name': u'Madeleine Vanspauwen',\n",
      "                 u'pic': u'https://scontent.xx.fbcdn.net/v/t1.0-1/s100x100/13450761_306348633033696_8986732079552443160_n.jpg?oh=0403ff5e9fa0bb34cb4880789e1748c7&oe=590B8AE4',\n",
      "                 u'type': u'LIKE'},\n",
      "                {u'id': u'1766274563397962',\n",
      "                 u'name': u'Wim Driesen',\n",
      "                 u'pic': u'https://scontent.xx.fbcdn.net/v/t1.0-1/p100x100/13886957_1518223491536405_4167365710755920685_n.jpg?oh=0d87178cede6e299338f579c6f3101e0&oe=59199C1D',\n",
      "                 u'type': u'LIKE'},\n",
      "                {u'id': u'10212248859563486',\n",
      "                 u'name': u'Dominique Verbesselt',\n",
      "                 u'pic': u'https://scontent.xx.fbcdn.net/v/t1.0-1/p100x100/15823136_10212197800047030_2286062700783742546_n.jpg?oh=01f4c14fa32acfd5656ec0439e0efa2d&oe=58DD05C4',\n",
      "                 u'type': u'LOVE'},\n",
      "                {u'id': u'1880345092199324',\n",
      "                 u'name': u'Jeanne Somers',\n",
      "                 u'pic': u'https://scontent.xx.fbcdn.net/v/t1.0-1/p100x100/11705293_1669199876647181_6632051749148949823_n.jpg?oh=b199553c9046adf4add8311de21e859b&oe=58D94782',\n",
      "                 u'type': u'LIKE'},\n",
      "                {u'id': u'693545687491024',\n",
      "                 u'name': u'Peter de Clercq',\n",
      "                 u'pic': u'https://scontent.xx.fbcdn.net/v/t1.0-1/s100x100/1924360_322581021254161_5446858827157980250_n.jpg?oh=f5086bcff23baa39791c4e2ad1cbc0d2&oe=59156830',\n",
      "                 u'type': u'LIKE'},\n",
      "                {u'id': u'240113959763047',\n",
      "                 u'name': u'Josee De Vos',\n",
      "                 u'pic': u'https://scontent.xx.fbcdn.net/v/t1.0-1/p100x100/13924896_143332262774551_243341591396250039_n.jpg?oh=0037415bc58d78efb85892b00714bdb7&oe=58DBC297',\n",
      "                 u'type': u'LIKE'},\n",
      "                {u'id': u'10211109167622049',\n",
      "                 u'name': u'Verdonck Guillaume',\n",
      "                 u'pic': u'https://scontent.xx.fbcdn.net/v/t1.0-1/p100x100/12243494_10207570968449281_1065969104784795795_n.jpg?oh=d70141c91ef43a2d0459ee440bb62e3f&oe=590BFF6B',\n",
      "                 u'type': u'LIKE'},\n",
      "                {u'id': u'10209776507704050',\n",
      "                 u'name': u'Louise de Kock',\n",
      "                 u'pic': u'https://scontent.xx.fbcdn.net/v/t1.0-1/s100x100/13925028_10208367135710631_8900252822929119047_n.jpg?oh=172d58d4358e97e1e18270f8c29e3ca1&oe=590A485B',\n",
      "                 u'type': u'LIKE'},\n",
      "                {u'id': u'458442851210961',\n",
      "                 u'name': u'Christa Fiers',\n",
      "                 u'pic': u'https://scontent.xx.fbcdn.net/v/t1.0-1/p100x100/15672896_446784159043497_8143293016194574700_n.jpg?oh=1929fc09b577b1c98b8bd5585371079c&oe=58DEC920',\n",
      "                 u'type': u'LIKE'},\n",
      "                {u'id': u'10210033382410037',\n",
      "                 u'name': u'Frederik Dudal',\n",
      "                 u'pic': u'https://scontent.xx.fbcdn.net/v/t1.0-1/p100x100/13612138_10208414007246670_8573158040049516981_n.jpg?oh=0debb9f12f848da31593ad42772c2b2f&oe=5917E644',\n",
      "                 u'type': u'LIKE'}],\n",
      " u'shares': {u'count': 3},\n",
      " u'status_type': u'added_photos',\n",
      " u'story': u'Open Vld added a temporary profile picture.',\n",
      " u'type': u'photo',\n",
      " u'update_dt': datetime.datetime(2017, 1, 14, 4, 0, 34, 109000),\n",
      " u'update_ts': 1484362834.109269}\n"
     ]
    }
   ],
   "source": [
    "pprint (post[id])"
   ]
  },
  {
   "cell_type": "code",
   "execution_count": 55,
   "metadata": {
    "collapsed": false
   },
   "outputs": [
    {
     "data": {
      "text/plain": [
       "{u'_id': ObjectId('5879945256e54f3de985669e'),\n",
       " u'comments': [{u'comment_count': 1,\n",
       "   u'created_time': 1471015614,\n",
       "   u'from': {u'id': u'10212165339348118', u'name': u'Bjorn Raymond De Corte'},\n",
       "   u'id': u'10153724649401867_10153725318126867',\n",
       "   u'like_count': 3,\n",
       "   u'likes': {u'data': [{u'id': u'10154515514628071',\n",
       "      u'link': u'https://www.facebook.com/app_scoped_user_id/10154515514628071/',\n",
       "      u'name': u'Peter Kom',\n",
       "      u'pic': u'https://scontent.xx.fbcdn.net/v/t1.0-1/p100x100/11695870_10153179434448071_3532740020484115777_n.jpg?oh=529934efabb7b5f365840db6c8fb9fa2&oe=5915208A',\n",
       "      u'picture': {u'data': {u'is_silhouette': False,\n",
       "        u'url': u'https://scontent.xx.fbcdn.net/v/t1.0-1/p50x50/11695870_10153179434448071_3532740020484115777_n.jpg?oh=58822885655df489a16824d74ba0619f&oe=590B00FE'}}},\n",
       "     {u'id': u'1265264933539965',\n",
       "      u'link': u'https://www.facebook.com/app_scoped_user_id/1265264933539965/',\n",
       "      u'name': u'Brent Usewils',\n",
       "      u'pic': u'https://scontent.xx.fbcdn.net/v/t1.0-1/p100x100/12986990_1052458414820619_5771036809804314712_n.jpg?oh=65388488917baa36a9f55762404ddf81&oe=592254A7',\n",
       "      u'picture': {u'data': {u'is_silhouette': False,\n",
       "        u'url': u'https://scontent.xx.fbcdn.net/v/t1.0-1/p50x50/12986990_1052458414820619_5771036809804314712_n.jpg?oh=6258123968a1a819a20bb1ad16b1fb3d&oe=59247AF1'}}},\n",
       "     {u'id': u'1224037154340167',\n",
       "      u'link': u'https://www.facebook.com/app_scoped_user_id/1224037154340167/',\n",
       "      u'name': u'Pieter Kurt Poupeye',\n",
       "      u'pic': u'https://scontent.xx.fbcdn.net/v/t1.0-1/p100x100/15541383_1207559999321216_7558624917785267057_n.jpg?oh=322746419ca98b31b59944c1450a64c6&oe=58D9A2AE',\n",
       "      u'picture': {u'data': {u'is_silhouette': False,\n",
       "        u'url': u'https://scontent.xx.fbcdn.net/v/t1.0-1/p50x50/15541383_1207559999321216_7558624917785267057_n.jpg?oh=736dbbcd25057097aa18d11e03267d05&oe=591D96F8'}}}],\n",
       "    u'paging': {u'cursors': {u'after': u'MTIyNDAzNzE1NDM0MDE2NwZDZD',\n",
       "      u'before': u'MTAxNTQ1MTU1MTQ2MjgwNzEZD'}}},\n",
       "   u'message': u'Het betekent dat Facebook de bloedgroepen gaat implementeren in zijn Sociaal platform, zodat als er een tekort is aan een bepaalde bloedgroep, men hiervan op de hoogte word gesteld om bloed te gaan doneren.'},\n",
       "  {u'comment_count': 0,\n",
       "   u'created_time': 1471122418,\n",
       "   u'from': {u'id': u'1810011999253593', u'name': u'Filip Gustav Syvertsen'},\n",
       "   u'id': u'10153724649401867_10153728671186867',\n",
       "   u'like_count': 0,\n",
       "   u'message': u'Ge moogt dat nog niet verklappen!'},\n",
       "  {u'comment_count': 0,\n",
       "   u'created_time': 1471029271,\n",
       "   u'from': {u'id': u'1334500459906101', u'name': u'Tom Peremans'},\n",
       "   u'id': u'10153724649401867_10153725810591867',\n",
       "   u'like_count': 1,\n",
       "   u'likes': {u'data': [{u'id': u'10154515514628071',\n",
       "      u'link': u'https://www.facebook.com/app_scoped_user_id/10154515514628071/',\n",
       "      u'name': u'Peter Kom',\n",
       "      u'pic': u'https://scontent.xx.fbcdn.net/v/t1.0-1/p100x100/11695870_10153179434448071_3532740020484115777_n.jpg?oh=529934efabb7b5f365840db6c8fb9fa2&oe=5915208A',\n",
       "      u'picture': {u'data': {u'is_silhouette': False,\n",
       "        u'url': u'https://scontent.xx.fbcdn.net/v/t1.0-1/p50x50/11695870_10153179434448071_3532740020484115777_n.jpg?oh=58822885655df489a16824d74ba0619f&oe=590B00FE'}}}],\n",
       "    u'paging': {u'cursors': {u'after': u'MTAxNTQ1MTU1MTQ2MjgwNzEZD',\n",
       "      u'before': u'MTAxNTQ1MTU1MTQ2MjgwNzEZD'}}},\n",
       "   u'message': u'Beetje flauw dat de oppositie niet mee doet! Bloed geven doet leven <3'},\n",
       "  {u'attachment': {u'media': {u'image': {u'height': 600,\n",
       "      u'src': u'https://scontent.xx.fbcdn.net/t39.1997-6/851586_126361877548609_1351776047_n.png',\n",
       "      u'width': 600}},\n",
       "    u'target': {u'id': u'126361874215276',\n",
       "     u'url': u'https://scontent.xx.fbcdn.net/t39.1997-6/851586_126361877548609_1351776047_n.png'},\n",
       "    u'type': u'sticker',\n",
       "    u'url': u'https://scontent.xx.fbcdn.net/t39.1997-6/851586_126361877548609_1351776047_n.png'},\n",
       "   u'comment_count': 0,\n",
       "   u'created_time': 1471004049,\n",
       "   u'from': {u'id': u'1686300848053014', u'name': u'Lisette de Clercq'},\n",
       "   u'id': u'10153724649401867_10153724923601867',\n",
       "   u'like_count': 0,\n",
       "   u'message': u'oei ! er is een hoek af !'}],\n",
       " u'created_time': 1470995275,\n",
       " u'created_time_dt': datetime.datetime(2016, 8, 12, 9, 47, 55),\n",
       " u'created_time_local': u'2016-08-12 11:47:55',\n",
       " u'flag': 0,\n",
       " u'from': {u'id': u'53668151866', u'name': u'Open Vld'},\n",
       " u'id': u'53668151866_10153724649401867',\n",
       " u'link': u'https://www.facebook.com/openvld/photos/a.438128616866.239339.53668151866/10153724649401867/?type=3',\n",
       " u'name': u'Open Vld',\n",
       " u'picture': u'https://scontent.xx.fbcdn.net/v/t1.0-0/p130x130/13900147_10153724649401867_7696926360392035_n.jpg?oh=6413de3f5dbb3d9b6d0578c9e5c24c06&oe=58D7284B',\n",
       " u'profile': {u'id': u'53668151866', u'name': u'Open Vld'},\n",
       " u'reactions': [{u'id': u'1072615002848246',\n",
       "   u'name': u'Justine Acx',\n",
       "   u'pic': u'https://scontent.xx.fbcdn.net/v/t1.0-1/p100x100/12645186_822974417812307_4762811144715398787_n.jpg?oh=c1df9538557c3eac9f09cc39646b28a5&oe=591AF4E2',\n",
       "   u'type': u'LIKE'},\n",
       "  {u'id': u'1747123138940756',\n",
       "   u'name': u'Jarno Peeters',\n",
       "   u'pic': u'https://scontent.xx.fbcdn.net/v/t1.0-1/p100x100/15589524_1734471363539267_5416802527063174072_n.jpg?oh=1a3498c9778935dd36521b989f15e225&oe=58E1EDCA',\n",
       "   u'type': u'LIKE'},\n",
       "  {u'id': u'10208490743812640',\n",
       "   u'name': u'Arne Van Snick',\n",
       "   u'pic': u'https://scontent.xx.fbcdn.net/v/t1.0-1/p100x100/13260276_10206656476117094_3247056538601453096_n.jpg?oh=c82c92f7778b34cba57f658b922ae21b&oe=591474EA',\n",
       "   u'type': u'LIKE'},\n",
       "  {u'id': u'1076810119097160',\n",
       "   u'name': u'Rita Penninck',\n",
       "   u'pic': u'https://scontent.xx.fbcdn.net/v/t1.0-1/s100x100/10534452_578584318919745_9005441123856236058_n.jpg?oh=31d544104ba41f9fe8037c6389fe3496&oe=591F884A',\n",
       "   u'type': u'LIKE'},\n",
       "  {u'id': u'1810011999253593',\n",
       "   u'name': u'Filip Gustav Syvertsen',\n",
       "   u'pic': u'https://scontent.xx.fbcdn.net/v/t1.0-1/s100x100/14955826_1781271025461024_7272615292856350967_n.jpg?oh=610d07776165d237080a64571c740502&oe=58D6B43C',\n",
       "   u'type': u'LIKE'},\n",
       "  {u'id': u'10208688445473438',\n",
       "   u'name': u'Ronny Velter',\n",
       "   u'pic': u'https://scontent.xx.fbcdn.net/v/t1.0-1/s100x100/31467_1306118697955_6279580_n.jpg?oh=a494692cb477676eb0734283ea5df950&oe=58DCC8F5',\n",
       "   u'type': u'LOVE'},\n",
       "  {u'id': u'10210580564501910',\n",
       "   u'name': u'Annelise Deville',\n",
       "   u'pic': u'https://scontent.xx.fbcdn.net/v/t1.0-1/p100x100/14100383_10209342943722164_8923844333654133954_n.jpg?oh=6c4864b621a27feb74ce6ba2b1293213&oe=592349B6',\n",
       "   u'type': u'LIKE'},\n",
       "  {u'id': u'1840204989598602',\n",
       "   u'name': u'Hamid Gendo',\n",
       "   u'pic': u'https://scontent.xx.fbcdn.net/v/t1.0-1/p100x100/14212557_1772590063026762_3379214628572043878_n.jpg?oh=daca6ca0a5788f2fb4f9c18a52454f47&oe=5922C38D',\n",
       "   u'type': u'LIKE'},\n",
       "  {u'id': u'10207978823300803',\n",
       "   u'name': u'Marieke Cooymans',\n",
       "   u'pic': u'https://scontent.xx.fbcdn.net/v/t1.0-1/s100x100/225301_1041601292661_3613026_n.jpg?oh=bf447813100e32e8fff7589003bf90e7&oe=59166338',\n",
       "   u'type': u'LIKE'},\n",
       "  {u'id': u'1744769915839773',\n",
       "   u'name': u'Herman Tollenaers',\n",
       "   u'pic': u'https://scontent.xx.fbcdn.net/v/t1.0-1/p100x100/11020278_1411994282450673_819207944520841510_n.jpg?oh=e82173df7f95af77ce272d93a69f33a1&oe=5916585E',\n",
       "   u'type': u'LIKE'},\n",
       "  {u'id': u'1412310175447798',\n",
       "   u'name': u'Tine Loosvelt',\n",
       "   u'pic': u'https://scontent.xx.fbcdn.net/v/t1.0-1/p100x100/11999020_1054610474551105_1459085571714608304_n.jpg?oh=9a14c7db2f772350a9b7d50ac49864e0&oe=58E09AC8',\n",
       "   u'type': u'LIKE'},\n",
       "  {u'id': u'10154515514628071',\n",
       "   u'name': u'Peter Kom',\n",
       "   u'pic': u'https://scontent.xx.fbcdn.net/v/t1.0-1/p100x100/11695870_10153179434448071_3532740020484115777_n.jpg?oh=529934efabb7b5f365840db6c8fb9fa2&oe=5915208A',\n",
       "   u'type': u'LIKE'},\n",
       "  {u'id': u'10154296131321448',\n",
       "   u'name': u'Virginie Bolly',\n",
       "   u'pic': u'https://scontent.xx.fbcdn.net/v/t1.0-1/p100x100/15740877_10154268457131448_7183945210687837565_n.jpg?oh=0e4e8bbcad2c61bdd44c03c07e1c0e46&oe=590B565D',\n",
       "   u'type': u'LIKE'},\n",
       "  {u'id': u'1323524211053961',\n",
       "   u'name': u'Dirk van Mol',\n",
       "   u'pic': u'https://scontent.xx.fbcdn.net/v/t1.0-1/p100x100/10644914_746560818750306_4478702213765680448_n.jpg?oh=8d8f0463f3a7a6e82b03aa33e63af073&oe=592141AE',\n",
       "   u'type': u'LIKE'},\n",
       "  {u'id': u'10209534569419362',\n",
       "   u'name': u'Marc Theys',\n",
       "   u'pic': u'https://scontent.xx.fbcdn.net/v/t1.0-1/p100x100/1930810_10206597418712430_1733370920911540084_n.jpg?oh=a181352f2a0d36189424485171941fe5&oe=58DFAA29',\n",
       "   u'type': u'LIKE'},\n",
       "  {u'id': u'762439157245290',\n",
       "   u'name': u'Johnny Hamal',\n",
       "   u'pic': u'https://scontent.xx.fbcdn.net/v/t1.0-1/p100x100/539443_101642003325012_545248080_n.jpg?oh=a6a37a24dccb4aa48a39080f47afdf24&oe=591013EB',\n",
       "   u'type': u'LIKE'},\n",
       "  {u'id': u'1375620282477556',\n",
       "   u'name': u'Gilberte Guffens',\n",
       "   u'pic': u'https://scontent.xx.fbcdn.net/v/t1.0-1/s100x100/23968_100427869996810_1795519_n.jpg?oh=ed9cb692ed02bafbc3eadae1725f5e40&oe=58D67D09',\n",
       "   u'type': u'LIKE'},\n",
       "  {u'id': u'10212302763150740',\n",
       "   u'name': u'Hilde Leyman',\n",
       "   u'pic': u'https://scontent.xx.fbcdn.net/v/t1.0-1/s100x100/36476_1542722854530_6910671_n.jpg?oh=7fed57f947ba90a3e8f98f6df7db7f78&oe=591D8A6E',\n",
       "   u'type': u'LIKE'},\n",
       "  {u'id': u'750053178494879',\n",
       "   u'name': u'Moeke Havet',\n",
       "   u'pic': u'https://scontent.xx.fbcdn.net/v/t1.0-1/p100x100/10603543_481122482054618_4328928025295564694_n.jpg?oh=410c85a5525f1ea0df8b3371e8cc1df2&oe=58E072D8',\n",
       "   u'type': u'LIKE'},\n",
       "  {u'id': u'1718274085150513',\n",
       "   u'name': u'Norbert Vanhulle',\n",
       "   u'pic': u'https://scontent.xx.fbcdn.net/v/t1.0-1/s100x100/10294327_1571735176471072_7881726854628522191_n.jpg?oh=5a12204d4484ff18b265084839e6152d&oe=591E6F25',\n",
       "   u'type': u'LOVE'},\n",
       "  {u'id': u'919763958160619',\n",
       "   u'name': u'Annick Debeerst',\n",
       "   u'pic': u'https://scontent.xx.fbcdn.net/v/t1.0-1/p100x100/15822996_915751485228533_1062093190903105318_n.jpg?oh=9fb637059fecfebbdae39a10d663c0cd&oe=58D7CD61',\n",
       "   u'type': u'LIKE'},\n",
       "  {u'id': u'10208112025338414',\n",
       "   u'name': u'Chantal Boterberg',\n",
       "   u'pic': u'https://scontent.xx.fbcdn.net/v/t1.0-1/s100x100/481703_3945572957781_1221341979_n.jpg?oh=7f3e0e25f184008cefa8e264880e4a09&oe=592014DA',\n",
       "   u'type': u'LIKE'},\n",
       "  {u'id': u'1214287405357309',\n",
       "   u'name': u'Victor Bogaerts',\n",
       "   u'pic': u'https://scontent.xx.fbcdn.net/v/t1.0-1/p100x100/1934103_923392164446836_1482227335819834319_n.jpg?oh=23f09eddc86f0447b4a1cdb8d9edf5ae&oe=591ED4E0',\n",
       "   u'type': u'LIKE'},\n",
       "  {u'id': u'1177185735722463',\n",
       "   u'name': u'Tim van Tergouw',\n",
       "   u'pic': u'https://scontent.xx.fbcdn.net/v/t1.0-1/p100x100/14291646_1053614608079577_9101587182251052511_n.jpg?oh=855110873a7006d9ce1ed933c9ee99db&oe=58D62379',\n",
       "   u'type': u'LIKE'},\n",
       "  {u'id': u'683292041846684',\n",
       "   u'name': u'Sander  Laekeman',\n",
       "   u'pic': u'https://scontent.xx.fbcdn.net/v/t1.0-1/p100x100/13432222_577532435755979_3832332667122548747_n.jpg?oh=7943ebe84af958337e7297664a21c2fe&oe=591FBD1A',\n",
       "   u'type': u'LIKE'},\n",
       "  {u'id': u'1830798990534004',\n",
       "   u'name': u'Didier Jansen',\n",
       "   u'pic': u'https://scontent.xx.fbcdn.net/v/t1.0-1/p100x100/15094898_1805460786401158_7266143609827188781_n.jpg?oh=98384eb203547edfd7b6e7cbf8ae0d74&oe=59160F45',\n",
       "   u'type': u'LIKE'},\n",
       "  {u'id': u'1395883377110343',\n",
       "   u'name': u'Richard Carr\\xe8re',\n",
       "   u'pic': u'https://scontent.xx.fbcdn.net/v/t1.0-1/p100x100/13906670_1229619517070064_6776515003090133650_n.jpg?oh=429188e3c989a4578c74638056611ae6&oe=58DE5BDE',\n",
       "   u'type': u'LOVE'},\n",
       "  {u'id': u'10210815890848882',\n",
       "   u'name': u'Michiel Lecomte',\n",
       "   u'pic': u'https://scontent.xx.fbcdn.net/v/t1.0-1/p100x100/14492609_10209814778701704_5597217027571437021_n.jpg?oh=55c9d59671489bfd8a2b355fe54db87d&oe=58D87AEA',\n",
       "   u'type': u'LIKE'},\n",
       "  {u'id': u'10212224691998307',\n",
       "   u'name': u'Luc Biltris',\n",
       "   u'pic': u'https://scontent.xx.fbcdn.net/v/t1.0-1/p100x100/1545757_10203226277163560_2036034566_n.jpg?oh=7566830d0db4b6603afb5c42b86962c2&oe=5911661A',\n",
       "   u'type': u'LIKE'},\n",
       "  {u'id': u'866066936867478',\n",
       "   u'name': u'Pascal Fuchs',\n",
       "   u'pic': u'https://scontent.xx.fbcdn.net/v/t1.0-1/p100x100/14446056_802656649875174_5364435312758472510_n.jpg?oh=1bfa3f7944a9bc156483aeac649f5f7e&oe=59134AC4',\n",
       "   u'type': u'LIKE'},\n",
       "  {u'id': u'1265264933539965',\n",
       "   u'name': u'Brent Usewils',\n",
       "   u'pic': u'https://scontent.xx.fbcdn.net/v/t1.0-1/p100x100/12986990_1052458414820619_5771036809804314712_n.jpg?oh=65388488917baa36a9f55762404ddf81&oe=592254A7',\n",
       "   u'type': u'LOVE'},\n",
       "  {u'id': u'10212150223537943',\n",
       "   u'name': u'Dirk Coens',\n",
       "   u'pic': u'https://scontent.xx.fbcdn.net/v/t1.0-1/p100x100/418687_4577971814455_590337721_n.jpg?oh=5c1662a1a5a27973d32772d7f4d3a031&oe=59155D5D',\n",
       "   u'type': u'LIKE'},\n",
       "  {u'id': u'10154017038720738',\n",
       "   u'name': u'Lieselot Van Mol',\n",
       "   u'pic': u'https://scontent.xx.fbcdn.net/v/t1.0-1/p100x100/13882471_10153623738080738_5612901418560242463_n.jpg?oh=7ff5a52cae2b22e5dcf51d1583ba2722&oe=590EB035',\n",
       "   u'type': u'LIKE'},\n",
       "  {u'id': u'1557088390973062',\n",
       "   u'name': u'Geert Ruts',\n",
       "   u'pic': u'https://scontent.xx.fbcdn.net/v/t1.0-1/p100x100/15492116_1529060223775879_5229404966157336705_n.jpg?oh=9f14ad6a1860807821ec547a9ab69971&oe=590F9AB8',\n",
       "   u'type': u'LIKE'},\n",
       "  {u'id': u'609335545919243',\n",
       "   u'name': u'Denis Delbecque',\n",
       "   u'pic': u'https://scontent.xx.fbcdn.net/v/t1.0-1/p100x100/13240647_511171049069027_108727573474065175_n.jpg?oh=abddaf697d887b303ae19ffbc2dc2b5f&oe=58D97BF1',\n",
       "   u'type': u'LOVE'},\n",
       "  {u'id': u'10210504451481524',\n",
       "   u'name': u'Bart Lannoye',\n",
       "   u'pic': u'https://scontent.xx.fbcdn.net/v/t1.0-1/p100x100/12088490_10206879113050329_5723211862946808256_n.jpg?oh=1b24b2f94abd9d5dfe73337162a5616a&oe=59246650',\n",
       "   u'type': u'LIKE'},\n",
       "  {u'id': u'738149183005831',\n",
       "   u'name': u'Toby Van Breda',\n",
       "   u'pic': u'https://scontent.xx.fbcdn.net/v/t1.0-1/p100x100/14908282_703193306501419_5267338622790781966_n.jpg?oh=64830db3f4e33c4bf3e09d927d836576&oe=58E14E69',\n",
       "   u'type': u'LIKE'},\n",
       "  {u'id': u'10209734697457759',\n",
       "   u'name': u'C\\xe9line Delodder',\n",
       "   u'pic': u'https://scontent.xx.fbcdn.net/v/t1.0-1/p100x100/15355712_10209470970984762_5599464452459534060_n.jpg?oh=72f78c18ef53e6fbe42f43196bb492ca&oe=591A8527',\n",
       "   u'type': u'LIKE'},\n",
       "  {u'id': u'749945125154794',\n",
       "   u'name': u'Danny Wouters',\n",
       "   u'pic': u'https://scontent.xx.fbcdn.net/v/t1.0-1/p100x100/14224749_680685032080804_8788702493239442432_n.jpg?oh=1b4dc41e760f0d95ab77483edfa16eb0&oe=591541C3',\n",
       "   u'type': u'LIKE'},\n",
       "  {u'id': u'241473986280341',\n",
       "   u'name': u'Kris Masson',\n",
       "   u'pic': u'https://scontent.xx.fbcdn.net/v/t1.0-1/s100x100/15747335_236221083472298_1026314802904924905_n.jpg?oh=69a8025c498736e0da03ce6dc3adb927&oe=591AAB1A',\n",
       "   u'type': u'LIKE'},\n",
       "  {u'id': u'10206383110135988',\n",
       "   u'name': u'Christine Thienpondt',\n",
       "   u'pic': u'https://scontent.xx.fbcdn.net/v/t1.0-1/p100x100/12065572_10203707575849303_1053641997363534752_n.jpg?oh=470fb00ae6d76c193a5532a6c0908bee&oe=5911886E',\n",
       "   u'type': u'LIKE'},\n",
       "  {u'id': u'642575379264228',\n",
       "   u'name': u'Brenda Lagrou',\n",
       "   u'pic': u'https://scontent.xx.fbcdn.net/v/t1.0-1/p100x100/15873350_641355932719506_2229937189502245259_n.jpg?oh=73f8e9d9658672283a2679fe52cc9b9c&oe=58E0624A',\n",
       "   u'type': u'LIKE'},\n",
       "  {u'id': u'239702186457886',\n",
       "   u'name': u'Rony Ranson',\n",
       "   u'pic': u'https://scontent.xx.fbcdn.net/v/t1.0-1/p100x100/15825862_236241823470589_7656294607583435081_n.jpg?oh=69f8275965e5eba58574405dc1da8983&oe=58E041D8',\n",
       "   u'type': u'LIKE'},\n",
       "  {u'id': u'10210111719822888',\n",
       "   u'name': u'Yves Van Steen',\n",
       "   u'pic': u'https://scontent.xx.fbcdn.net/v/t1.0-1/p100x100/1378630_10201568352444043_1316352445_n.jpg?oh=2520a6a5cc251aefe12b1da4108cc90f&oe=58DF905F',\n",
       "   u'type': u'LIKE'},\n",
       "  {u'id': u'1263252147090589',\n",
       "   u'name': u'Carine Peferoen',\n",
       "   u'pic': u'https://scontent.xx.fbcdn.net/v/t1.0-1/s100x100/12985604_1032468180168988_6246098851056420955_n.jpg?oh=d22456f4769c0dd2f8c10df3c16b7c86&oe=58D62D96',\n",
       "   u'type': u'LIKE'},\n",
       "  {u'id': u'908741305928473',\n",
       "   u'name': u'Fonny Bruyninckx',\n",
       "   u'pic': u'https://scontent.xx.fbcdn.net/v/t1.0-1/p100x100/14519738_848956005240337_7710180711650060428_n.jpg?oh=84dd66497f8323d7b7f88910af49dd24&oe=592269F8',\n",
       "   u'type': u'LIKE'},\n",
       "  {u'id': u'1366741256698203',\n",
       "   u'name': u'Daisy Van Lens',\n",
       "   u'pic': u'https://scontent.xx.fbcdn.net/v/t1.0-1/p100x100/12507569_1066332946739037_2252284653796840105_n.jpg?oh=d85116668590895a9ab2745e133020ae&oe=590BAFDD',\n",
       "   u'type': u'LIKE'},\n",
       "  {u'id': u'1852457058366509',\n",
       "   u'name': u'Johnny Van Daele',\n",
       "   u'pic': u'https://scontent.xx.fbcdn.net/v/t1.0-1/p100x100/15873102_1848901945388687_3822794116999395377_n.jpg?oh=c28b5b8e951645bb36e2c3f2ed3cebcc&oe=58D92F87',\n",
       "   u'type': u'LIKE'},\n",
       "  {u'id': u'886343504838679',\n",
       "   u'name': u'Annita Maes',\n",
       "   u'pic': u'https://scontent.xx.fbcdn.net/v/t1.0-1/p100x100/12803188_665630860243279_3314470406036260570_n.jpg?oh=23ec47a8284c40d28beed42bceb966d9&oe=59154627',\n",
       "   u'type': u'LIKE'},\n",
       "  {u'id': u'10154962765333724',\n",
       "   u'name': u'Roby Guns',\n",
       "   u'pic': u'https://scontent.xx.fbcdn.net/v/t1.0-1/p100x100/1385327_10151955022413724_1617127705_n.jpg?oh=1f04fa7d8a8ae51d9bac247ae09f9193&oe=5910495A',\n",
       "   u'type': u'LIKE'},\n",
       "  {u'id': u'727547290739788',\n",
       "   u'name': u'Rita Mehaudens',\n",
       "   u'pic': u'https://scontent.xx.fbcdn.net/v/t1.0-1/p100x100/13413594_623988154429036_6460632465844390362_n.jpg?oh=81347e387fc59c9785aad52f8b5aa67e&oe=58E21E7D',\n",
       "   u'type': u'LIKE'},\n",
       "  {u'id': u'843931342415611',\n",
       "   u'name': u'Maria Nelissen',\n",
       "   u'pic': u'https://scontent.xx.fbcdn.net/v/t1.0-1/s100x100/547379_102776756531077_712679242_n.jpg?oh=a8fd98590a10257bb2b475634939c0ad&oe=591D6626',\n",
       "   u'type': u'LIKE'},\n",
       "  {u'id': u'10154837606487910',\n",
       "   u'name': u'Alan Wuyts',\n",
       "   u'pic': u'https://scontent.xx.fbcdn.net/v/t1.0-1/p100x100/15822945_10154812872807910_9205199188113602107_n.jpg?oh=6018245bda443cbecb0c9eca2eaf19a2&oe=58E090CD',\n",
       "   u'type': u'LIKE'},\n",
       "  {u'id': u'584181471777054',\n",
       "   u'name': u'Hugo Van Hombeeck',\n",
       "   u'pic': u'https://scontent.xx.fbcdn.net/v/t1.0-1/p100x100/1934970_458365467691989_1366448188080141723_n.jpg?oh=fdc7029f7370e15e1180d1e21a0d6386&oe=59189F66',\n",
       "   u'type': u'LIKE'},\n",
       "  {u'id': u'408672422801316',\n",
       "   u'name': u'Madeleine Vanspauwen',\n",
       "   u'pic': u'https://scontent.xx.fbcdn.net/v/t1.0-1/s100x100/13450761_306348633033696_8986732079552443160_n.jpg?oh=0403ff5e9fa0bb34cb4880789e1748c7&oe=590B8AE4',\n",
       "   u'type': u'LIKE'},\n",
       "  {u'id': u'1766274563397962',\n",
       "   u'name': u'Wim Driesen',\n",
       "   u'pic': u'https://scontent.xx.fbcdn.net/v/t1.0-1/p100x100/13886957_1518223491536405_4167365710755920685_n.jpg?oh=0d87178cede6e299338f579c6f3101e0&oe=59199C1D',\n",
       "   u'type': u'LIKE'},\n",
       "  {u'id': u'10212248859563486',\n",
       "   u'name': u'Dominique Verbesselt',\n",
       "   u'pic': u'https://scontent.xx.fbcdn.net/v/t1.0-1/p100x100/15823136_10212197800047030_2286062700783742546_n.jpg?oh=01f4c14fa32acfd5656ec0439e0efa2d&oe=58DD05C4',\n",
       "   u'type': u'LOVE'},\n",
       "  {u'id': u'1880345092199324',\n",
       "   u'name': u'Jeanne Somers',\n",
       "   u'pic': u'https://scontent.xx.fbcdn.net/v/t1.0-1/p100x100/11705293_1669199876647181_6632051749148949823_n.jpg?oh=b199553c9046adf4add8311de21e859b&oe=58D94782',\n",
       "   u'type': u'LIKE'},\n",
       "  {u'id': u'693545687491024',\n",
       "   u'name': u'Peter de Clercq',\n",
       "   u'pic': u'https://scontent.xx.fbcdn.net/v/t1.0-1/s100x100/1924360_322581021254161_5446858827157980250_n.jpg?oh=f5086bcff23baa39791c4e2ad1cbc0d2&oe=59156830',\n",
       "   u'type': u'LIKE'},\n",
       "  {u'id': u'240113959763047',\n",
       "   u'name': u'Josee De Vos',\n",
       "   u'pic': u'https://scontent.xx.fbcdn.net/v/t1.0-1/p100x100/13924896_143332262774551_243341591396250039_n.jpg?oh=0037415bc58d78efb85892b00714bdb7&oe=58DBC297',\n",
       "   u'type': u'LIKE'},\n",
       "  {u'id': u'10211109167622049',\n",
       "   u'name': u'Verdonck Guillaume',\n",
       "   u'pic': u'https://scontent.xx.fbcdn.net/v/t1.0-1/p100x100/12243494_10207570968449281_1065969104784795795_n.jpg?oh=d70141c91ef43a2d0459ee440bb62e3f&oe=590BFF6B',\n",
       "   u'type': u'LIKE'},\n",
       "  {u'id': u'10209776507704050',\n",
       "   u'name': u'Louise de Kock',\n",
       "   u'pic': u'https://scontent.xx.fbcdn.net/v/t1.0-1/s100x100/13925028_10208367135710631_8900252822929119047_n.jpg?oh=172d58d4358e97e1e18270f8c29e3ca1&oe=590A485B',\n",
       "   u'type': u'LIKE'},\n",
       "  {u'id': u'458442851210961',\n",
       "   u'name': u'Christa Fiers',\n",
       "   u'pic': u'https://scontent.xx.fbcdn.net/v/t1.0-1/p100x100/15672896_446784159043497_8143293016194574700_n.jpg?oh=1929fc09b577b1c98b8bd5585371079c&oe=58DEC920',\n",
       "   u'type': u'LIKE'},\n",
       "  {u'id': u'10210033382410037',\n",
       "   u'name': u'Frederik Dudal',\n",
       "   u'pic': u'https://scontent.xx.fbcdn.net/v/t1.0-1/p100x100/13612138_10208414007246670_8573158040049516981_n.jpg?oh=0debb9f12f848da31593ad42772c2b2f&oe=5917E644',\n",
       "   u'type': u'LIKE'}],\n",
       " u'shares': {u'count': 3},\n",
       " u'status_type': u'added_photos',\n",
       " u'story': u'Open Vld added a temporary profile picture.',\n",
       " u'type': u'photo',\n",
       " u'update_dt': datetime.datetime(2017, 1, 14, 4, 0, 34, 109000),\n",
       " u'update_ts': 1484362834.109269}"
      ]
     },
     "execution_count": 55,
     "metadata": {},
     "output_type": "execute_result"
    }
   ],
   "source": [
    "p=post[id]\n",
    "p"
   ]
  },
  {
   "cell_type": "code",
   "execution_count": 56,
   "metadata": {
    "collapsed": true
   },
   "outputs": [],
   "source": [
    "from pandas.io.json import json_normalize"
   ]
  },
  {
   "cell_type": "code",
   "execution_count": 58,
   "metadata": {
    "collapsed": false,
    "scrolled": true
   },
   "outputs": [
    {
     "data": {
      "text/html": [
       "<div>\n",
       "<table border=\"1\" class=\"dataframe\">\n",
       "  <thead>\n",
       "    <tr style=\"text-align: right;\">\n",
       "      <th></th>\n",
       "      <th>_id</th>\n",
       "      <th>comments</th>\n",
       "      <th>created_time</th>\n",
       "      <th>created_time_dt</th>\n",
       "      <th>created_time_local</th>\n",
       "      <th>flag</th>\n",
       "      <th>from.id</th>\n",
       "      <th>from.name</th>\n",
       "      <th>id</th>\n",
       "      <th>link</th>\n",
       "      <th>name</th>\n",
       "      <th>picture</th>\n",
       "      <th>profile.id</th>\n",
       "      <th>profile.name</th>\n",
       "      <th>reactions</th>\n",
       "      <th>shares.count</th>\n",
       "      <th>status_type</th>\n",
       "      <th>story</th>\n",
       "      <th>type</th>\n",
       "      <th>update_dt</th>\n",
       "      <th>update_ts</th>\n",
       "    </tr>\n",
       "  </thead>\n",
       "  <tbody>\n",
       "    <tr>\n",
       "      <th>0</th>\n",
       "      <td>5879945256e54f3de985669e</td>\n",
       "      <td>[{u'from': {u'name': u'Bjorn Raymond De Corte'...</td>\n",
       "      <td>1470995275</td>\n",
       "      <td>2016-08-12 09:47:55</td>\n",
       "      <td>2016-08-12 11:47:55</td>\n",
       "      <td>0</td>\n",
       "      <td>53668151866</td>\n",
       "      <td>Open Vld</td>\n",
       "      <td>53668151866_10153724649401867</td>\n",
       "      <td>https://www.facebook.com/openvld/photos/a.4381...</td>\n",
       "      <td>Open Vld</td>\n",
       "      <td>https://scontent.xx.fbcdn.net/v/t1.0-0/p130x13...</td>\n",
       "      <td>53668151866</td>\n",
       "      <td>Open Vld</td>\n",
       "      <td>[{u'pic': u'https://scontent.xx.fbcdn.net/v/t1...</td>\n",
       "      <td>3</td>\n",
       "      <td>added_photos</td>\n",
       "      <td>Open Vld added a temporary profile picture.</td>\n",
       "      <td>photo</td>\n",
       "      <td>2017-01-14 04:00:34.109</td>\n",
       "      <td>1.484363e+09</td>\n",
       "    </tr>\n",
       "  </tbody>\n",
       "</table>\n",
       "</div>"
      ],
      "text/plain": [
       "                        _id                                           comments  created_time     created_time_dt   created_time_local  flag      from.id from.name  \\\n",
       "0  5879945256e54f3de985669e  [{u'from': {u'name': u'Bjorn Raymond De Corte'...    1470995275 2016-08-12 09:47:55  2016-08-12 11:47:55     0  53668151866  Open Vld   \n",
       "\n",
       "                              id                                               link      name                                            picture   profile.id  \\\n",
       "0  53668151866_10153724649401867  https://www.facebook.com/openvld/photos/a.4381...  Open Vld  https://scontent.xx.fbcdn.net/v/t1.0-0/p130x13...  53668151866   \n",
       "\n",
       "  profile.name                                          reactions  shares.count   status_type                                        story   type  \\\n",
       "0     Open Vld  [{u'pic': u'https://scontent.xx.fbcdn.net/v/t1...             3  added_photos  Open Vld added a temporary profile picture.  photo   \n",
       "\n",
       "                update_dt     update_ts  \n",
       "0 2017-01-14 04:00:34.109  1.484363e+09  "
      ]
     },
     "execution_count": 58,
     "metadata": {},
     "output_type": "execute_result"
    }
   ],
   "source": [
    "df_j=json_normalize(p,meta_prefix='XXX')\n",
    "df_j"
   ]
  },
  {
   "cell_type": "code",
   "execution_count": 53,
   "metadata": {
    "collapsed": false
   },
   "outputs": [
    {
     "name": "stdout",
     "output_type": "stream",
     "text": [
      "{u'id': {0: u'1072615002848246',\n",
      "         1: u'1747123138940756',\n",
      "         2: u'10208490743812640',\n",
      "         3: u'1076810119097160',\n",
      "         4: u'1810011999253593',\n",
      "         5: u'10208688445473438',\n",
      "         6: u'10210580564501910',\n",
      "         7: u'1840204989598602',\n",
      "         8: u'10207978823300803',\n",
      "         9: u'1744769915839773',\n",
      "         10: u'1412310175447798',\n",
      "         11: u'10154515514628071',\n",
      "         12: u'10154296131321448',\n",
      "         13: u'1323524211053961',\n",
      "         14: u'10209534569419362',\n",
      "         15: u'762439157245290',\n",
      "         16: u'1375620282477556',\n",
      "         17: u'10212302763150740',\n",
      "         18: u'750053178494879',\n",
      "         19: u'1718274085150513',\n",
      "         20: u'919763958160619',\n",
      "         21: u'10208112025338414',\n",
      "         22: u'1214287405357309',\n",
      "         23: u'1177185735722463',\n",
      "         24: u'683292041846684',\n",
      "         25: u'1830798990534004',\n",
      "         26: u'1395883377110343',\n",
      "         27: u'10210815890848882',\n",
      "         28: u'10212224691998307',\n",
      "         29: u'866066936867478',\n",
      "         30: u'1265264933539965',\n",
      "         31: u'10212150223537943',\n",
      "         32: u'10154017038720738',\n",
      "         33: u'1557088390973062',\n",
      "         34: u'609335545919243',\n",
      "         35: u'10210504451481524',\n",
      "         36: u'738149183005831',\n",
      "         37: u'10209734697457759',\n",
      "         38: u'749945125154794',\n",
      "         39: u'241473986280341',\n",
      "         40: u'10206383110135988',\n",
      "         41: u'642575379264228',\n",
      "         42: u'239702186457886',\n",
      "         43: u'10210111719822888',\n",
      "         44: u'1263252147090589',\n",
      "         45: u'908741305928473',\n",
      "         46: u'1366741256698203',\n",
      "         47: u'1852457058366509',\n",
      "         48: u'886343504838679',\n",
      "         49: u'10154962765333724',\n",
      "         50: u'727547290739788',\n",
      "         51: u'843931342415611',\n",
      "         52: u'10154837606487910',\n",
      "         53: u'584181471777054',\n",
      "         54: u'408672422801316',\n",
      "         55: u'1766274563397962',\n",
      "         56: u'10212248859563486',\n",
      "         57: u'1880345092199324',\n",
      "         58: u'693545687491024',\n",
      "         59: u'240113959763047',\n",
      "         60: u'10211109167622049',\n",
      "         61: u'10209776507704050',\n",
      "         62: u'458442851210961',\n",
      "         63: u'10210033382410037'},\n",
      " u'name': {0: u'Justine Acx',\n",
      "           1: u'Jarno Peeters',\n",
      "           2: u'Arne Van Snick',\n",
      "           3: u'Rita Penninck',\n",
      "           4: u'Filip Gustav Syvertsen',\n",
      "           5: u'Ronny Velter',\n",
      "           6: u'Annelise Deville',\n",
      "           7: u'Hamid Gendo',\n",
      "           8: u'Marieke Cooymans',\n",
      "           9: u'Herman Tollenaers',\n",
      "           10: u'Tine Loosvelt',\n",
      "           11: u'Peter Kom',\n",
      "           12: u'Virginie Bolly',\n",
      "           13: u'Dirk van Mol',\n",
      "           14: u'Marc Theys',\n",
      "           15: u'Johnny Hamal',\n",
      "           16: u'Gilberte Guffens',\n",
      "           17: u'Hilde Leyman',\n",
      "           18: u'Moeke Havet',\n",
      "           19: u'Norbert Vanhulle',\n",
      "           20: u'Annick Debeerst',\n",
      "           21: u'Chantal Boterberg',\n",
      "           22: u'Victor Bogaerts',\n",
      "           23: u'Tim van Tergouw',\n",
      "           24: u'Sander  Laekeman',\n",
      "           25: u'Didier Jansen',\n",
      "           26: u'Richard Carr\\xe8re',\n",
      "           27: u'Michiel Lecomte',\n",
      "           28: u'Luc Biltris',\n",
      "           29: u'Pascal Fuchs',\n",
      "           30: u'Brent Usewils',\n",
      "           31: u'Dirk Coens',\n",
      "           32: u'Lieselot Van Mol',\n",
      "           33: u'Geert Ruts',\n",
      "           34: u'Denis Delbecque',\n",
      "           35: u'Bart Lannoye',\n",
      "           36: u'Toby Van Breda',\n",
      "           37: u'C\\xe9line Delodder',\n",
      "           38: u'Danny Wouters',\n",
      "           39: u'Kris Masson',\n",
      "           40: u'Christine Thienpondt',\n",
      "           41: u'Brenda Lagrou',\n",
      "           42: u'Rony Ranson',\n",
      "           43: u'Yves Van Steen',\n",
      "           44: u'Carine Peferoen',\n",
      "           45: u'Fonny Bruyninckx',\n",
      "           46: u'Daisy Van Lens',\n",
      "           47: u'Johnny Van Daele',\n",
      "           48: u'Annita Maes',\n",
      "           49: u'Roby Guns',\n",
      "           50: u'Rita Mehaudens',\n",
      "           51: u'Maria Nelissen',\n",
      "           52: u'Alan Wuyts',\n",
      "           53: u'Hugo Van Hombeeck',\n",
      "           54: u'Madeleine Vanspauwen',\n",
      "           55: u'Wim Driesen',\n",
      "           56: u'Dominique Verbesselt',\n",
      "           57: u'Jeanne Somers',\n",
      "           58: u'Peter de Clercq',\n",
      "           59: u'Josee De Vos',\n",
      "           60: u'Verdonck Guillaume',\n",
      "           61: u'Louise de Kock',\n",
      "           62: u'Christa Fiers',\n",
      "           63: u'Frederik Dudal'},\n",
      " u'pic': {0: u'https://scontent.xx.fbcdn.net/v/t1.0-1/p100x100/12645186_822974417812307_4762811144715398787_n.jpg?oh=c1df9538557c3eac9f09cc39646b28a5&oe=591AF4E2',\n",
      "          1: u'https://scontent.xx.fbcdn.net/v/t1.0-1/p100x100/15589524_1734471363539267_5416802527063174072_n.jpg?oh=1a3498c9778935dd36521b989f15e225&oe=58E1EDCA',\n",
      "          2: u'https://scontent.xx.fbcdn.net/v/t1.0-1/p100x100/13260276_10206656476117094_3247056538601453096_n.jpg?oh=c82c92f7778b34cba57f658b922ae21b&oe=591474EA',\n",
      "          3: u'https://scontent.xx.fbcdn.net/v/t1.0-1/s100x100/10534452_578584318919745_9005441123856236058_n.jpg?oh=31d544104ba41f9fe8037c6389fe3496&oe=591F884A',\n",
      "          4: u'https://scontent.xx.fbcdn.net/v/t1.0-1/s100x100/14955826_1781271025461024_7272615292856350967_n.jpg?oh=610d07776165d237080a64571c740502&oe=58D6B43C',\n",
      "          5: u'https://scontent.xx.fbcdn.net/v/t1.0-1/s100x100/31467_1306118697955_6279580_n.jpg?oh=a494692cb477676eb0734283ea5df950&oe=58DCC8F5',\n",
      "          6: u'https://scontent.xx.fbcdn.net/v/t1.0-1/p100x100/14100383_10209342943722164_8923844333654133954_n.jpg?oh=6c4864b621a27feb74ce6ba2b1293213&oe=592349B6',\n",
      "          7: u'https://scontent.xx.fbcdn.net/v/t1.0-1/p100x100/14212557_1772590063026762_3379214628572043878_n.jpg?oh=daca6ca0a5788f2fb4f9c18a52454f47&oe=5922C38D',\n",
      "          8: u'https://scontent.xx.fbcdn.net/v/t1.0-1/s100x100/225301_1041601292661_3613026_n.jpg?oh=bf447813100e32e8fff7589003bf90e7&oe=59166338',\n",
      "          9: u'https://scontent.xx.fbcdn.net/v/t1.0-1/p100x100/11020278_1411994282450673_819207944520841510_n.jpg?oh=e82173df7f95af77ce272d93a69f33a1&oe=5916585E',\n",
      "          10: u'https://scontent.xx.fbcdn.net/v/t1.0-1/p100x100/11999020_1054610474551105_1459085571714608304_n.jpg?oh=9a14c7db2f772350a9b7d50ac49864e0&oe=58E09AC8',\n",
      "          11: u'https://scontent.xx.fbcdn.net/v/t1.0-1/p100x100/11695870_10153179434448071_3532740020484115777_n.jpg?oh=529934efabb7b5f365840db6c8fb9fa2&oe=5915208A',\n",
      "          12: u'https://scontent.xx.fbcdn.net/v/t1.0-1/p100x100/15740877_10154268457131448_7183945210687837565_n.jpg?oh=0e4e8bbcad2c61bdd44c03c07e1c0e46&oe=590B565D',\n",
      "          13: u'https://scontent.xx.fbcdn.net/v/t1.0-1/p100x100/10644914_746560818750306_4478702213765680448_n.jpg?oh=8d8f0463f3a7a6e82b03aa33e63af073&oe=592141AE',\n",
      "          14: u'https://scontent.xx.fbcdn.net/v/t1.0-1/p100x100/1930810_10206597418712430_1733370920911540084_n.jpg?oh=a181352f2a0d36189424485171941fe5&oe=58DFAA29',\n",
      "          15: u'https://scontent.xx.fbcdn.net/v/t1.0-1/p100x100/539443_101642003325012_545248080_n.jpg?oh=a6a37a24dccb4aa48a39080f47afdf24&oe=591013EB',\n",
      "          16: u'https://scontent.xx.fbcdn.net/v/t1.0-1/s100x100/23968_100427869996810_1795519_n.jpg?oh=ed9cb692ed02bafbc3eadae1725f5e40&oe=58D67D09',\n",
      "          17: u'https://scontent.xx.fbcdn.net/v/t1.0-1/s100x100/36476_1542722854530_6910671_n.jpg?oh=7fed57f947ba90a3e8f98f6df7db7f78&oe=591D8A6E',\n",
      "          18: u'https://scontent.xx.fbcdn.net/v/t1.0-1/p100x100/10603543_481122482054618_4328928025295564694_n.jpg?oh=410c85a5525f1ea0df8b3371e8cc1df2&oe=58E072D8',\n",
      "          19: u'https://scontent.xx.fbcdn.net/v/t1.0-1/s100x100/10294327_1571735176471072_7881726854628522191_n.jpg?oh=5a12204d4484ff18b265084839e6152d&oe=591E6F25',\n",
      "          20: u'https://scontent.xx.fbcdn.net/v/t1.0-1/p100x100/15822996_915751485228533_1062093190903105318_n.jpg?oh=9fb637059fecfebbdae39a10d663c0cd&oe=58D7CD61',\n",
      "          21: u'https://scontent.xx.fbcdn.net/v/t1.0-1/s100x100/481703_3945572957781_1221341979_n.jpg?oh=7f3e0e25f184008cefa8e264880e4a09&oe=592014DA',\n",
      "          22: u'https://scontent.xx.fbcdn.net/v/t1.0-1/p100x100/1934103_923392164446836_1482227335819834319_n.jpg?oh=23f09eddc86f0447b4a1cdb8d9edf5ae&oe=591ED4E0',\n",
      "          23: u'https://scontent.xx.fbcdn.net/v/t1.0-1/p100x100/14291646_1053614608079577_9101587182251052511_n.jpg?oh=855110873a7006d9ce1ed933c9ee99db&oe=58D62379',\n",
      "          24: u'https://scontent.xx.fbcdn.net/v/t1.0-1/p100x100/13432222_577532435755979_3832332667122548747_n.jpg?oh=7943ebe84af958337e7297664a21c2fe&oe=591FBD1A',\n",
      "          25: u'https://scontent.xx.fbcdn.net/v/t1.0-1/p100x100/15094898_1805460786401158_7266143609827188781_n.jpg?oh=98384eb203547edfd7b6e7cbf8ae0d74&oe=59160F45',\n",
      "          26: u'https://scontent.xx.fbcdn.net/v/t1.0-1/p100x100/13906670_1229619517070064_6776515003090133650_n.jpg?oh=429188e3c989a4578c74638056611ae6&oe=58DE5BDE',\n",
      "          27: u'https://scontent.xx.fbcdn.net/v/t1.0-1/p100x100/14492609_10209814778701704_5597217027571437021_n.jpg?oh=55c9d59671489bfd8a2b355fe54db87d&oe=58D87AEA',\n",
      "          28: u'https://scontent.xx.fbcdn.net/v/t1.0-1/p100x100/1545757_10203226277163560_2036034566_n.jpg?oh=7566830d0db4b6603afb5c42b86962c2&oe=5911661A',\n",
      "          29: u'https://scontent.xx.fbcdn.net/v/t1.0-1/p100x100/14446056_802656649875174_5364435312758472510_n.jpg?oh=1bfa3f7944a9bc156483aeac649f5f7e&oe=59134AC4',\n",
      "          30: u'https://scontent.xx.fbcdn.net/v/t1.0-1/p100x100/12986990_1052458414820619_5771036809804314712_n.jpg?oh=65388488917baa36a9f55762404ddf81&oe=592254A7',\n",
      "          31: u'https://scontent.xx.fbcdn.net/v/t1.0-1/p100x100/418687_4577971814455_590337721_n.jpg?oh=5c1662a1a5a27973d32772d7f4d3a031&oe=59155D5D',\n",
      "          32: u'https://scontent.xx.fbcdn.net/v/t1.0-1/p100x100/13882471_10153623738080738_5612901418560242463_n.jpg?oh=7ff5a52cae2b22e5dcf51d1583ba2722&oe=590EB035',\n",
      "          33: u'https://scontent.xx.fbcdn.net/v/t1.0-1/p100x100/15492116_1529060223775879_5229404966157336705_n.jpg?oh=9f14ad6a1860807821ec547a9ab69971&oe=590F9AB8',\n",
      "          34: u'https://scontent.xx.fbcdn.net/v/t1.0-1/p100x100/13240647_511171049069027_108727573474065175_n.jpg?oh=abddaf697d887b303ae19ffbc2dc2b5f&oe=58D97BF1',\n",
      "          35: u'https://scontent.xx.fbcdn.net/v/t1.0-1/p100x100/12088490_10206879113050329_5723211862946808256_n.jpg?oh=1b24b2f94abd9d5dfe73337162a5616a&oe=59246650',\n",
      "          36: u'https://scontent.xx.fbcdn.net/v/t1.0-1/p100x100/14908282_703193306501419_5267338622790781966_n.jpg?oh=64830db3f4e33c4bf3e09d927d836576&oe=58E14E69',\n",
      "          37: u'https://scontent.xx.fbcdn.net/v/t1.0-1/p100x100/15355712_10209470970984762_5599464452459534060_n.jpg?oh=72f78c18ef53e6fbe42f43196bb492ca&oe=591A8527',\n",
      "          38: u'https://scontent.xx.fbcdn.net/v/t1.0-1/p100x100/14224749_680685032080804_8788702493239442432_n.jpg?oh=1b4dc41e760f0d95ab77483edfa16eb0&oe=591541C3',\n",
      "          39: u'https://scontent.xx.fbcdn.net/v/t1.0-1/s100x100/15747335_236221083472298_1026314802904924905_n.jpg?oh=69a8025c498736e0da03ce6dc3adb927&oe=591AAB1A',\n",
      "          40: u'https://scontent.xx.fbcdn.net/v/t1.0-1/p100x100/12065572_10203707575849303_1053641997363534752_n.jpg?oh=470fb00ae6d76c193a5532a6c0908bee&oe=5911886E',\n",
      "          41: u'https://scontent.xx.fbcdn.net/v/t1.0-1/p100x100/15873350_641355932719506_2229937189502245259_n.jpg?oh=73f8e9d9658672283a2679fe52cc9b9c&oe=58E0624A',\n",
      "          42: u'https://scontent.xx.fbcdn.net/v/t1.0-1/p100x100/15825862_236241823470589_7656294607583435081_n.jpg?oh=69f8275965e5eba58574405dc1da8983&oe=58E041D8',\n",
      "          43: u'https://scontent.xx.fbcdn.net/v/t1.0-1/p100x100/1378630_10201568352444043_1316352445_n.jpg?oh=2520a6a5cc251aefe12b1da4108cc90f&oe=58DF905F',\n",
      "          44: u'https://scontent.xx.fbcdn.net/v/t1.0-1/s100x100/12985604_1032468180168988_6246098851056420955_n.jpg?oh=d22456f4769c0dd2f8c10df3c16b7c86&oe=58D62D96',\n",
      "          45: u'https://scontent.xx.fbcdn.net/v/t1.0-1/p100x100/14519738_848956005240337_7710180711650060428_n.jpg?oh=84dd66497f8323d7b7f88910af49dd24&oe=592269F8',\n",
      "          46: u'https://scontent.xx.fbcdn.net/v/t1.0-1/p100x100/12507569_1066332946739037_2252284653796840105_n.jpg?oh=d85116668590895a9ab2745e133020ae&oe=590BAFDD',\n",
      "          47: u'https://scontent.xx.fbcdn.net/v/t1.0-1/p100x100/15873102_1848901945388687_3822794116999395377_n.jpg?oh=c28b5b8e951645bb36e2c3f2ed3cebcc&oe=58D92F87',\n",
      "          48: u'https://scontent.xx.fbcdn.net/v/t1.0-1/p100x100/12803188_665630860243279_3314470406036260570_n.jpg?oh=23ec47a8284c40d28beed42bceb966d9&oe=59154627',\n",
      "          49: u'https://scontent.xx.fbcdn.net/v/t1.0-1/p100x100/1385327_10151955022413724_1617127705_n.jpg?oh=1f04fa7d8a8ae51d9bac247ae09f9193&oe=5910495A',\n",
      "          50: u'https://scontent.xx.fbcdn.net/v/t1.0-1/p100x100/13413594_623988154429036_6460632465844390362_n.jpg?oh=81347e387fc59c9785aad52f8b5aa67e&oe=58E21E7D',\n",
      "          51: u'https://scontent.xx.fbcdn.net/v/t1.0-1/s100x100/547379_102776756531077_712679242_n.jpg?oh=a8fd98590a10257bb2b475634939c0ad&oe=591D6626',\n",
      "          52: u'https://scontent.xx.fbcdn.net/v/t1.0-1/p100x100/15822945_10154812872807910_9205199188113602107_n.jpg?oh=6018245bda443cbecb0c9eca2eaf19a2&oe=58E090CD',\n",
      "          53: u'https://scontent.xx.fbcdn.net/v/t1.0-1/p100x100/1934970_458365467691989_1366448188080141723_n.jpg?oh=fdc7029f7370e15e1180d1e21a0d6386&oe=59189F66',\n",
      "          54: u'https://scontent.xx.fbcdn.net/v/t1.0-1/s100x100/13450761_306348633033696_8986732079552443160_n.jpg?oh=0403ff5e9fa0bb34cb4880789e1748c7&oe=590B8AE4',\n",
      "          55: u'https://scontent.xx.fbcdn.net/v/t1.0-1/p100x100/13886957_1518223491536405_4167365710755920685_n.jpg?oh=0d87178cede6e299338f579c6f3101e0&oe=59199C1D',\n",
      "          56: u'https://scontent.xx.fbcdn.net/v/t1.0-1/p100x100/15823136_10212197800047030_2286062700783742546_n.jpg?oh=01f4c14fa32acfd5656ec0439e0efa2d&oe=58DD05C4',\n",
      "          57: u'https://scontent.xx.fbcdn.net/v/t1.0-1/p100x100/11705293_1669199876647181_6632051749148949823_n.jpg?oh=b199553c9046adf4add8311de21e859b&oe=58D94782',\n",
      "          58: u'https://scontent.xx.fbcdn.net/v/t1.0-1/s100x100/1924360_322581021254161_5446858827157980250_n.jpg?oh=f5086bcff23baa39791c4e2ad1cbc0d2&oe=59156830',\n",
      "          59: u'https://scontent.xx.fbcdn.net/v/t1.0-1/p100x100/13924896_143332262774551_243341591396250039_n.jpg?oh=0037415bc58d78efb85892b00714bdb7&oe=58DBC297',\n",
      "          60: u'https://scontent.xx.fbcdn.net/v/t1.0-1/p100x100/12243494_10207570968449281_1065969104784795795_n.jpg?oh=d70141c91ef43a2d0459ee440bb62e3f&oe=590BFF6B',\n",
      "          61: u'https://scontent.xx.fbcdn.net/v/t1.0-1/s100x100/13925028_10208367135710631_8900252822929119047_n.jpg?oh=172d58d4358e97e1e18270f8c29e3ca1&oe=590A485B',\n",
      "          62: u'https://scontent.xx.fbcdn.net/v/t1.0-1/p100x100/15672896_446784159043497_8143293016194574700_n.jpg?oh=1929fc09b577b1c98b8bd5585371079c&oe=58DEC920',\n",
      "          63: u'https://scontent.xx.fbcdn.net/v/t1.0-1/p100x100/13612138_10208414007246670_8573158040049516981_n.jpg?oh=0debb9f12f848da31593ad42772c2b2f&oe=5917E644'},\n",
      " u'type': {0: u'LIKE',\n",
      "           1: u'LIKE',\n",
      "           2: u'LIKE',\n",
      "           3: u'LIKE',\n",
      "           4: u'LIKE',\n",
      "           5: u'LOVE',\n",
      "           6: u'LIKE',\n",
      "           7: u'LIKE',\n",
      "           8: u'LIKE',\n",
      "           9: u'LIKE',\n",
      "           10: u'LIKE',\n",
      "           11: u'LIKE',\n",
      "           12: u'LIKE',\n",
      "           13: u'LIKE',\n",
      "           14: u'LIKE',\n",
      "           15: u'LIKE',\n",
      "           16: u'LIKE',\n",
      "           17: u'LIKE',\n",
      "           18: u'LIKE',\n",
      "           19: u'LOVE',\n",
      "           20: u'LIKE',\n",
      "           21: u'LIKE',\n",
      "           22: u'LIKE',\n",
      "           23: u'LIKE',\n",
      "           24: u'LIKE',\n",
      "           25: u'LIKE',\n",
      "           26: u'LOVE',\n",
      "           27: u'LIKE',\n",
      "           28: u'LIKE',\n",
      "           29: u'LIKE',\n",
      "           30: u'LOVE',\n",
      "           31: u'LIKE',\n",
      "           32: u'LIKE',\n",
      "           33: u'LIKE',\n",
      "           34: u'LOVE',\n",
      "           35: u'LIKE',\n",
      "           36: u'LIKE',\n",
      "           37: u'LIKE',\n",
      "           38: u'LIKE',\n",
      "           39: u'LIKE',\n",
      "           40: u'LIKE',\n",
      "           41: u'LIKE',\n",
      "           42: u'LIKE',\n",
      "           43: u'LIKE',\n",
      "           44: u'LIKE',\n",
      "           45: u'LIKE',\n",
      "           46: u'LIKE',\n",
      "           47: u'LIKE',\n",
      "           48: u'LIKE',\n",
      "           49: u'LIKE',\n",
      "           50: u'LIKE',\n",
      "           51: u'LIKE',\n",
      "           52: u'LIKE',\n",
      "           53: u'LIKE',\n",
      "           54: u'LIKE',\n",
      "           55: u'LIKE',\n",
      "           56: u'LOVE',\n",
      "           57: u'LIKE',\n",
      "           58: u'LIKE',\n",
      "           59: u'LIKE',\n",
      "           60: u'LIKE',\n",
      "           61: u'LIKE',\n",
      "           62: u'LIKE',\n",
      "           63: u'LIKE'}}\n"
     ]
    }
   ],
   "source": [
    "pprint(df_j.to_dict())"
   ]
  },
  {
   "cell_type": "code",
   "execution_count": null,
   "metadata": {
    "collapsed": true
   },
   "outputs": [],
   "source": []
  },
  {
   "cell_type": "code",
   "execution_count": null,
   "metadata": {
    "collapsed": true
   },
   "outputs": [],
   "source": []
  },
  {
   "cell_type": "code",
   "execution_count": null,
   "metadata": {
    "collapsed": true
   },
   "outputs": [],
   "source": []
  },
  {
   "cell_type": "code",
   "execution_count": null,
   "metadata": {
    "collapsed": true
   },
   "outputs": [],
   "source": []
  },
  {
   "cell_type": "code",
   "execution_count": null,
   "metadata": {
    "collapsed": true
   },
   "outputs": [],
   "source": []
  },
  {
   "cell_type": "code",
   "execution_count": null,
   "metadata": {
    "collapsed": true
   },
   "outputs": [],
   "source": []
  },
  {
   "cell_type": "code",
   "execution_count": null,
   "metadata": {
    "collapsed": true
   },
   "outputs": [],
   "source": []
  },
  {
   "cell_type": "code",
   "execution_count": null,
   "metadata": {
    "collapsed": true
   },
   "outputs": [],
   "source": []
  },
  {
   "cell_type": "code",
   "execution_count": null,
   "metadata": {
    "collapsed": true
   },
   "outputs": [],
   "source": []
  },
  {
   "cell_type": "code",
   "execution_count": null,
   "metadata": {
    "collapsed": true
   },
   "outputs": [],
   "source": []
  },
  {
   "cell_type": "code",
   "execution_count": null,
   "metadata": {
    "collapsed": true
   },
   "outputs": [],
   "source": []
  },
  {
   "cell_type": "code",
   "execution_count": null,
   "metadata": {
    "collapsed": true
   },
   "outputs": [],
   "source": []
  },
  {
   "cell_type": "code",
   "execution_count": null,
   "metadata": {
    "collapsed": true
   },
   "outputs": [],
   "source": []
  },
  {
   "cell_type": "code",
   "execution_count": null,
   "metadata": {
    "collapsed": true
   },
   "outputs": [],
   "source": []
  },
  {
   "cell_type": "code",
   "execution_count": null,
   "metadata": {
    "collapsed": true
   },
   "outputs": [],
   "source": []
  },
  {
   "cell_type": "code",
   "execution_count": null,
   "metadata": {
    "collapsed": true
   },
   "outputs": [],
   "source": []
  },
  {
   "cell_type": "code",
   "execution_count": null,
   "metadata": {
    "collapsed": true
   },
   "outputs": [],
   "source": []
  },
  {
   "cell_type": "code",
   "execution_count": null,
   "metadata": {
    "collapsed": true
   },
   "outputs": [],
   "source": []
  },
  {
   "cell_type": "code",
   "execution_count": null,
   "metadata": {
    "collapsed": true
   },
   "outputs": [],
   "source": []
  },
  {
   "cell_type": "code",
   "execution_count": 17,
   "metadata": {
    "collapsed": false
   },
   "outputs": [],
   "source": [
    "x={'a':1, 'b':{'ba':10,'bb':20}}\n",
    "o= objectview(x)"
   ]
  },
  {
   "cell_type": "code",
   "execution_count": 20,
   "metadata": {
    "collapsed": false
   },
   "outputs": [
    {
     "ename": "AttributeError",
     "evalue": "'dict' object has no attribute 'ba'",
     "output_type": "error",
     "traceback": [
      "\u001b[0;31m---------------------------------------------------------------------------\u001b[0m",
      "\u001b[0;31mAttributeError\u001b[0m                            Traceback (most recent call last)",
      "\u001b[0;32m<ipython-input-20-0bd6a9868ee5>\u001b[0m in \u001b[0;36m<module>\u001b[0;34m()\u001b[0m\n\u001b[0;32m----> 1\u001b[0;31m \u001b[0mo\u001b[0m\u001b[0;34m.\u001b[0m\u001b[0mb\u001b[0m\u001b[0;34m.\u001b[0m\u001b[0mba\u001b[0m\u001b[0;34m=\u001b[0m\u001b[0;36m999\u001b[0m\u001b[0;34m\u001b[0m\u001b[0m\n\u001b[0m\u001b[1;32m      2\u001b[0m \u001b[0;32mprint\u001b[0m \u001b[0mvars\u001b[0m\u001b[0;34m(\u001b[0m\u001b[0mo\u001b[0m\u001b[0;34m)\u001b[0m\u001b[0;34m\u001b[0m\u001b[0m\n",
      "\u001b[0;31mAttributeError\u001b[0m: 'dict' object has no attribute 'ba'"
     ]
    }
   ],
   "source": [
    "o.b.ba=999\n",
    "print vars(o)"
   ]
  },
  {
   "cell_type": "code",
   "execution_count": 37,
   "metadata": {
    "collapsed": false
   },
   "outputs": [
    {
     "ename": "AttributeError",
     "evalue": "'list' object has no attribute 'values'",
     "output_type": "error",
     "traceback": [
      "\u001b[0;31m---------------------------------------------------------------------------\u001b[0m",
      "\u001b[0;31mAttributeError\u001b[0m                            Traceback (most recent call last)",
      "\u001b[0;32m<ipython-input-37-f56eace08043>\u001b[0m in \u001b[0;36m<module>\u001b[0;34m()\u001b[0m\n\u001b[1;32m      1\u001b[0m \u001b[0m_reactions\u001b[0m \u001b[0;34m=\u001b[0m \u001b[0;34m[\u001b[0m\u001b[0;34m]\u001b[0m  \u001b[0;31m# combining all users that like, wow, ...\u001b[0m\u001b[0;34m\u001b[0m\u001b[0m\n\u001b[1;32m      2\u001b[0m \u001b[0m_u_reactions\u001b[0m\u001b[0;34m=\u001b[0m\u001b[0;34m[\u001b[0m\u001b[0;36m0\u001b[0m\u001b[0;34m,\u001b[0m\u001b[0;36m1\u001b[0m\u001b[0;34m]\u001b[0m\u001b[0;34m\u001b[0m\u001b[0m\n\u001b[0;32m----> 3\u001b[0;31m \u001b[0;34m[\u001b[0m\u001b[0m_reactions\u001b[0m\u001b[0;34m.\u001b[0m\u001b[0mextend\u001b[0m\u001b[0;34m(\u001b[0m\u001b[0mu\u001b[0m\u001b[0;34m)\u001b[0m \u001b[0;32mfor\u001b[0m \u001b[0mu\u001b[0m \u001b[0;32min\u001b[0m \u001b[0m_u_reactions\u001b[0m\u001b[0;34m.\u001b[0m\u001b[0mvalues\u001b[0m\u001b[0;34m(\u001b[0m\u001b[0;34m)\u001b[0m\u001b[0;34m]\u001b[0m\u001b[0;34m\u001b[0m\u001b[0m\n\u001b[0m",
      "\u001b[0;31mAttributeError\u001b[0m: 'list' object has no attribute 'values'"
     ]
    }
   ],
   "source": [
    "_reactions = []  # combining all users that like, wow, ...\n",
    "_u_reactions=[0,1]\n",
    "[_reactions.extend(u) for u in _u_reactions.values()]"
   ]
  },
  {
   "cell_type": "code",
   "execution_count": null,
   "metadata": {
    "collapsed": true
   },
   "outputs": [],
   "source": []
  },
  {
   "cell_type": "code",
   "execution_count": null,
   "metadata": {
    "collapsed": true
   },
   "outputs": [],
   "source": []
  },
  {
   "cell_type": "code",
   "execution_count": null,
   "metadata": {
    "collapsed": true
   },
   "outputs": [],
   "source": []
  },
  {
   "cell_type": "code",
   "execution_count": null,
   "metadata": {
    "collapsed": true
   },
   "outputs": [],
   "source": []
  },
  {
   "cell_type": "code",
   "execution_count": 2,
   "metadata": {
    "collapsed": false
   },
   "outputs": [
    {
     "name": "stdout",
     "output_type": "stream",
     "text": [
      "New MongoClient created\n"
     ]
    },
    {
     "ename": "NameError",
     "evalue": "name 'fb_document' is not defined",
     "output_type": "error",
     "traceback": [
      "\u001b[0;31m---------------------------------------------------------------------------\u001b[0m",
      "\u001b[0;31mNameError\u001b[0m                                 Traceback (most recent call last)",
      "\u001b[0;32m<ipython-input-2-5e5cb92018d3>\u001b[0m in \u001b[0;36m<module>\u001b[0;34m()\u001b[0m\n\u001b[0;32m----> 1\u001b[0;31m \u001b[0;32mfrom\u001b[0m \u001b[0mprocessing\u001b[0m \u001b[0;32mimport\u001b[0m \u001b[0mfacebook_stats\u001b[0m\u001b[0;34m\u001b[0m\u001b[0m\n\u001b[0m",
      "\u001b[0;32m/home/marc/DATA/Projects/FacebookStats/processing/facebook_stats.py\u001b[0m in \u001b[0;36m<module>\u001b[0;34m()\u001b[0m\n\u001b[1;32m     23\u001b[0m \u001b[0;34m\u001b[0m\u001b[0m\n\u001b[1;32m     24\u001b[0m \u001b[0;34m\u001b[0m\u001b[0m\n\u001b[0;32m---> 25\u001b[0;31m \u001b[0;32mclass\u001b[0m \u001b[0mFbPostStats\u001b[0m\u001b[0;34m(\u001b[0m\u001b[0mFbstats\u001b[0m\u001b[0;34m)\u001b[0m\u001b[0;34m:\u001b[0m\u001b[0;34m\u001b[0m\u001b[0m\n\u001b[0m\u001b[1;32m     26\u001b[0m     \u001b[0;31m# probably useless to have class inheritance for page stats. Not much in common with the other classes\u001b[0m\u001b[0;34m\u001b[0m\u001b[0;34m\u001b[0m\u001b[0m\n\u001b[1;32m     27\u001b[0m     \u001b[0;31m# ToDo: solve missing keys in facebook documents.\u001b[0m\u001b[0;34m\u001b[0m\u001b[0;34m\u001b[0m\u001b[0m\n",
      "\u001b[0;32m/home/marc/DATA/Projects/FacebookStats/processing/facebook_stats.py\u001b[0m in \u001b[0;36mFbPostStats\u001b[0;34m()\u001b[0m\n\u001b[1;32m    108\u001b[0m         \u001b[0;32mreturn\u001b[0m \u001b[0mmetadata\u001b[0m\u001b[0;34m\u001b[0m\u001b[0m\n\u001b[1;32m    109\u001b[0m \u001b[0;34m\u001b[0m\u001b[0m\n\u001b[0;32m--> 110\u001b[0;31m     \u001b[0mfb_document\u001b[0m\u001b[0;34m[\u001b[0m\u001b[0;34m'comments'\u001b[0m\u001b[0;34m]\u001b[0m\u001b[0;34m\u001b[0m\u001b[0m\n\u001b[0m\u001b[1;32m    111\u001b[0m     \u001b[0mfb_document\u001b[0m\u001b[0;34m[\u001b[0m\u001b[0;34m'reactions'\u001b[0m\u001b[0;34m]\u001b[0m\u001b[0;34m\u001b[0m\u001b[0m\n\u001b[1;32m    112\u001b[0m     \u001b[0mfb_document\u001b[0m\u001b[0;34m.\u001b[0m\u001b[0mget\u001b[0m\u001b[0;34m(\u001b[0m\u001b[0;34m'shares'\u001b[0m\u001b[0;34m,\u001b[0m \u001b[0;34m{\u001b[0m\u001b[0;34m}\u001b[0m\u001b[0;34m)\u001b[0m\u001b[0;34m.\u001b[0m\u001b[0mget\u001b[0m\u001b[0;34m(\u001b[0m\u001b[0;34m'count'\u001b[0m\u001b[0;34m,\u001b[0m \u001b[0;36m0\u001b[0m\u001b[0;34m)\u001b[0m\u001b[0;34m\u001b[0m\u001b[0m\n",
      "\u001b[0;31mNameError\u001b[0m: name 'fb_document' is not defined"
     ]
    }
   ],
   "source": [
    "from processing import facebook_stats"
   ]
  },
  {
   "cell_type": "code",
   "execution_count": 38,
   "metadata": {
    "collapsed": false
   },
   "outputs": [
    {
     "name": "stdout",
     "output_type": "stream",
     "text": [
      "616263616263616263616263\n",
      "616263616263616263616263\n",
      "616263616263616263616263\n",
      "616263616263616263616263\n",
      "616263616263616263616263\n",
      "616263616263616263616263\n",
      "616263616263616263616263\n",
      "616263616263616263616263\n",
      "616263616263616263616263\n",
      "616263616263616263616263\n",
      "616263616263616263616263\n",
      "616263616263616263616263\n",
      "616263616263616263616263\n",
      "616263616263616263616263\n",
      "616263616263616263616263\n",
      "616263616263616263616263\n",
      "616263616263616263616263\n",
      "616263616263616263616263\n",
      "616263616263616263616263\n",
      "616263616263616263616263\n",
      "616263616263616263616263\n",
      "616263616263616263616263\n",
      "616263616263616263616263\n",
      "616263616263616263616263\n",
      "616263616263616263616263\n",
      "616263616263616263616263\n",
      "616263616263616263616263\n",
      "616263616263616263616263\n",
      "616263616263616263616263\n",
      "616263616263616263616263\n",
      "616263616263616263616263\n",
      "616263616263616263616263\n",
      "616263616263616263616263\n",
      "616263616263616263616263\n",
      "616263616263616263616263\n",
      "616263616263616263616263\n",
      "616263616263616263616263\n",
      "616263616263616263616263\n",
      "616263616263616263616263\n",
      "616263616263616263616263\n",
      "616263616263616263616263\n",
      "616263616263616263616263\n",
      "616263616263616263616263\n",
      "616263616263616263616263\n",
      "616263616263616263616263\n",
      "616263616263616263616263\n",
      "616263616263616263616263\n",
      "616263616263616263616263\n",
      "616263616263616263616263\n",
      "616263616263616263616263\n",
      "616263616263616263616263\n",
      "616263616263616263616263\n",
      "616263616263616263616263\n",
      "616263616263616263616263\n",
      "616263616263616263616263\n",
      "616263616263616263616263\n",
      "616263616263616263616263\n",
      "616263616263616263616263\n",
      "616263616263616263616263\n",
      "616263616263616263616263\n",
      "616263616263616263616263\n",
      "616263616263616263616263\n",
      "616263616263616263616263\n",
      "616263616263616263616263\n",
      "616263616263616263616263\n",
      "616263616263616263616263\n",
      "616263616263616263616263\n",
      "616263616263616263616263\n",
      "616263616263616263616263\n",
      "616263616263616263616263\n",
      "616263616263616263616263\n",
      "616263616263616263616263\n",
      "616263616263616263616263\n",
      "616263616263616263616263\n",
      "616263616263616263616263\n",
      "616263616263616263616263\n",
      "616263616263616263616263\n",
      "616263616263616263616263\n",
      "616263616263616263616263\n",
      "616263616263616263616263\n",
      "616263616263616263616263\n",
      "616263616263616263616263\n",
      "10 loops, best of 3: 86.3 ms per loop\n",
      "{'created_dt': (datetime.datetime(2011, 7, 5, 6, 52, 46, tzinfo=<UTC>),),\n",
      " 'id': 'xxx',\n",
      " 'pageid': '37823307325',\n",
      " 'postid': '37823307325_225981397436464',\n",
      " 'ratio': {'animo': 0, 'discussion': 0, 'impact': 0},\n",
      " 'stat': {'comment': {'comment_dt': DatetimeIndex(['2011-07-05 06:55:59+00:00', '2011-07-05 06:57:37+00:00', '2011-07-05 07:09:27+00:00', '2011-07-05 07:22:22+00:00', '2011-07-05 07:26:09+00:00',\n",
      "               '2011-07-05 07:32:05+00:00', '2011-07-05 07:37:53+00:00', '2011-07-05 08:28:57+00:00', '2011-07-05 09:25:37+00:00', '2011-07-05 09:31:51+00:00',\n",
      "               '2011-07-05 09:46:11+00:00', '2011-07-05 11:52:05+00:00', '2011-07-05 15:53:10+00:00', '2011-07-05 16:28:35+00:00'],\n",
      "              dtype='datetime64[ns, UTC]', freq=None),\n",
      "                      'comment_id': ['225981397436464_3316980',\n",
      "                                     '225981397436464_3316991',\n",
      "                                     '225981397436464_3317024',\n",
      "                                     '225981397436464_3317066',\n",
      "                                     '225981397436464_3317100',\n",
      "                                     '225981397436464_3317206',\n",
      "                                     '225981397436464_3317299',\n",
      "                                     '225981397436464_3317596',\n",
      "                                     '225981397436464_3317768',\n",
      "                                     '225981397436464_3317789',\n",
      "                                     '225981397436464_3317838',\n",
      "                                     '225981397436464_3318223',\n",
      "                                     '225981397436464_3319172',\n",
      "                                     '225981397436464_3319349'],\n",
      "                      'n_comment_like': [4,\n",
      "                                         0,\n",
      "                                         0,\n",
      "                                         0,\n",
      "                                         1,\n",
      "                                         1,\n",
      "                                         1,\n",
      "                                         0,\n",
      "                                         1,\n",
      "                                         1,\n",
      "                                         0,\n",
      "                                         0,\n",
      "                                         0,\n",
      "                                         0],\n",
      "                      'u_comment': ['10209419390136084',\n",
      "                                    '10209639462477072',\n",
      "                                    '10211598646712057',\n",
      "                                    '10212180453325241',\n",
      "                                    '10209699898326288',\n",
      "                                    '1557237740971350',\n",
      "                                    '10206584548767353',\n",
      "                                    '10211318220301717',\n",
      "                                    '10207972606336031',\n",
      "                                    '10154448460718208',\n",
      "                                    '10207515377659199',\n",
      "                                    '10210298695977988',\n",
      "                                    '10210420577463300',\n",
      "                                    '1366315270076516'],\n",
      "                      'u_comment_like': ['10210715480937145',\n",
      "                                         '10208748154281568',\n",
      "                                         '10211605572916400',\n",
      "                                         '10211598356499601',\n",
      "                                         '10207972606336031',\n",
      "                                         '10210420577463300',\n",
      "                                         '10208748154281568',\n",
      "                                         '10211598646712057',\n",
      "                                         '10211598646712057']},\n",
      "          'reaction': {'n_angry': 2,\n",
      "                       'n_like': 7,\n",
      "                       'n_love': 1,\n",
      "                       'n_sad': 2,\n",
      "                       'n_wow': 1,\n",
      "                       'u_angry': ['10212238646260525', '10212180453325241'],\n",
      "                       'u_like': ['10211762408165622',\n",
      "                                  '1549940535020779',\n",
      "                                  '1402363236463275',\n",
      "                                  '10211533935010931',\n",
      "                                  '10210346432689891',\n",
      "                                  '10206303887955448',\n",
      "                                  '10209419390136084'],\n",
      "                       'u_love': ['10207630214573140'],\n",
      "                       'u_sad': ['10155677419318357', '10211598356499601'],\n",
      "                       'u_wow': ['10210304701607183']},\n",
      "          'tn_comment': 13,\n",
      "          'tn_comment_like': 9,\n",
      "          'tn_reaction': 13,\n",
      "          'tn_share': 0,\n",
      "          'user': {'n_unique': 25,\n",
      "                   'n_unique_comment': 14,\n",
      "                   'n_unique_like': 25,\n",
      "                   'u_unique': ['10207515377659199',\n",
      "                                '10211598356499601',\n",
      "                                '10209419390136084',\n",
      "                                '10206303887955448',\n",
      "                                '1557237740971350',\n",
      "                                '1549940535020779',\n",
      "                                '10154448460718208',\n",
      "                                '10207972606336031',\n",
      "                                '10206584548767353',\n",
      "                                '10210298695977988',\n",
      "                                '10211598646712057',\n",
      "                                '10209639462477072',\n",
      "                                '10211762408165622',\n",
      "                                '10210346432689891',\n",
      "                                '1366315270076516',\n",
      "                                '1402363236463275',\n",
      "                                '10209699898326288',\n",
      "                                '10155677419318357',\n",
      "                                '10211318220301717',\n",
      "                                '10210420577463300',\n",
      "                                '10211533935010931',\n",
      "                                '10207630214573140',\n",
      "                                '10212238646260525',\n",
      "                                '10210304701607183',\n",
      "                                '10212180453325241'],\n",
      "                   'u_unique_comment': ['10211318220301717',\n",
      "                                        '10209419390136084',\n",
      "                                        '10210298695977988',\n",
      "                                        '10210420577463300',\n",
      "                                        '10209699898326288',\n",
      "                                        '10211598646712057',\n",
      "                                        '1557237740971350',\n",
      "                                        '10209639462477072',\n",
      "                                        '1366315270076516',\n",
      "                                        '10154448460718208',\n",
      "                                        '10207972606336031',\n",
      "                                        '10206584548767353',\n",
      "                                        '10207515377659199',\n",
      "                                        '10212180453325241'],\n",
      "                   'u_unique_like': ['10211598356499601',\n",
      "                                     '10209419390136084',\n",
      "                                     '10206303887955448',\n",
      "                                     '1557237740971350',\n",
      "                                     '1549940535020779',\n",
      "                                     '10154448460718208',\n",
      "                                     '10207972606336031',\n",
      "                                     '10206584548767353',\n",
      "                                     '10210298695977988',\n",
      "                                     '10211598646712057',\n",
      "                                     '10209639462477072',\n",
      "                                     '10211762408165622',\n",
      "                                     '10210346432689891',\n",
      "                                     '1366315270076516',\n",
      "                                     '1402363236463275',\n",
      "                                     '10209699898326288',\n",
      "                                     '10155677419318357',\n",
      "                                     '10207515377659199',\n",
      "                                     '10211318220301717',\n",
      "                                     '10210420577463300',\n",
      "                                     '10211533935010931',\n",
      "                                     '10207630214573140',\n",
      "                                     '10212238646260525',\n",
      "                                     '10210304701607183',\n",
      "                                     '10212180453325241']}},\n",
      " 'type': 'link',\n",
      " 'updated_dt': datetime.datetime(2017, 1, 22, 21, 2, 12, 419128, tzinfo=<UTC>)}\n"
     ]
    }
   ],
   "source": [
    "from database.sample_documents import SampleDocuments\n",
    "from processing.facebook_stats import FbPostStats\n",
    "sd = SampleDocuments()\n",
    "%timeit doc = FbPostStats(sd.facebook_post()).make_post_stats_document()\n",
    "pprint(doc)"
   ]
  },
  {
   "cell_type": "code",
   "execution_count": null,
   "metadata": {
    "collapsed": true
   },
   "outputs": [],
   "source": []
  },
  {
   "cell_type": "code",
   "execution_count": null,
   "metadata": {
    "collapsed": true
   },
   "outputs": [],
   "source": []
  },
  {
   "cell_type": "code",
   "execution_count": 3,
   "metadata": {
    "collapsed": false
   },
   "outputs": [
    {
     "name": "stdout",
     "output_type": "stream",
     "text": [
      "[1309848959,\n",
      " 1309849057,\n",
      " 1309849767,\n",
      " 1309850542,\n",
      " 1309850769,\n",
      " 1309851125,\n",
      " 1309851473,\n",
      " 1309854537,\n",
      " 1309857937,\n",
      " 1309858311,\n",
      " 1309859171,\n",
      " 1309866725,\n",
      " 1309881190,\n",
      " 1309883315]\n",
      "['225981397436464_3316980',\n",
      " '225981397436464_3316991',\n",
      " '225981397436464_3317024',\n",
      " '225981397436464_3317066',\n",
      " '225981397436464_3317100',\n",
      " '225981397436464_3317206',\n",
      " '225981397436464_3317299',\n",
      " '225981397436464_3317596',\n",
      " '225981397436464_3317768',\n",
      " '225981397436464_3317789',\n",
      " '225981397436464_3317838',\n",
      " '225981397436464_3318223',\n",
      " '225981397436464_3319172',\n",
      " '225981397436464_3319349']\n"
     ]
    }
   ],
   "source": [
    "fb_doc = SD.facebook_post()\n",
    "_df = pd.DataFrame(fb_doc['comments'])\n",
    "comment_dt=_df['created_time'].tolist()\n",
    "comment_id=_df['id'].tolist()\n",
    "\n",
    "pprint(comment_dt)\n",
    "pprint (comment_id)"
   ]
  },
  {
   "cell_type": "code",
   "execution_count": 6,
   "metadata": {
    "collapsed": false
   },
   "outputs": [
    {
     "data": {
      "text/plain": [
       "'37823307325'"
      ]
     },
     "execution_count": 6,
     "metadata": {},
     "output_type": "execute_result"
    }
   ],
   "source": [
    "fb_doc['profile']['id']"
   ]
  },
  {
   "cell_type": "code",
   "execution_count": 25,
   "metadata": {
    "collapsed": false
   },
   "outputs": [
    {
     "name": "stdout",
     "output_type": "stream",
     "text": [
      "{'a': 1}\n",
      "{'b': 2}\n"
     ]
    },
    {
     "ename": "AttributeError",
     "evalue": "'list' object has no attribute 'sum'",
     "output_type": "error",
     "traceback": [
      "\u001b[0;31m---------------------------------------------------------------------------\u001b[0m",
      "\u001b[0;31mAttributeError\u001b[0m                            Traceback (most recent call last)",
      "\u001b[0;32m<ipython-input-25-2dc7e331aabc>\u001b[0m in \u001b[0;36m<module>\u001b[0;34m()\u001b[0m\n\u001b[1;32m      2\u001b[0m \u001b[0;32mfor\u001b[0m \u001b[0mi\u001b[0m \u001b[0;32min\u001b[0m \u001b[0md\u001b[0m\u001b[0;34m:\u001b[0m\u001b[0;34m\u001b[0m\u001b[0m\n\u001b[1;32m      3\u001b[0m     \u001b[0;32mprint\u001b[0m \u001b[0;34m{\u001b[0m\u001b[0mi\u001b[0m\u001b[0;34m:\u001b[0m \u001b[0md\u001b[0m\u001b[0;34m[\u001b[0m\u001b[0mi\u001b[0m\u001b[0;34m]\u001b[0m\u001b[0;34m}\u001b[0m\u001b[0;34m\u001b[0m\u001b[0m\n\u001b[0;32m----> 4\u001b[0;31m \u001b[0md\u001b[0m\u001b[0;34m.\u001b[0m\u001b[0mvalues\u001b[0m\u001b[0;34m(\u001b[0m\u001b[0;34m)\u001b[0m\u001b[0;34m.\u001b[0m\u001b[0msum\u001b[0m\u001b[0;34m(\u001b[0m\u001b[0;34m)\u001b[0m\u001b[0;34m\u001b[0m\u001b[0m\n\u001b[0m",
      "\u001b[0;31mAttributeError\u001b[0m: 'list' object has no attribute 'sum'"
     ]
    }
   ],
   "source": [
    "d={'a':1, 'b':2}\n",
    "for i in d:\n",
    "    print {i: d[i]}\n",
    "d.values().sum()"
   ]
  },
  {
   "cell_type": "code",
   "execution_count": 31,
   "metadata": {
    "collapsed": false
   },
   "outputs": [
    {
     "data": {
      "text/plain": [
       "['1', 1, 2, '3', '4']"
      ]
     },
     "execution_count": 31,
     "metadata": {},
     "output_type": "execute_result"
    }
   ],
   "source": [
    "list(set([1,2,'3','1','4','1']))"
   ]
  },
  {
   "cell_type": "code",
   "execution_count": null,
   "metadata": {
    "collapsed": true
   },
   "outputs": [],
   "source": []
  },
  {
   "cell_type": "code",
   "execution_count": null,
   "metadata": {
    "collapsed": true
   },
   "outputs": [],
   "source": []
  },
  {
   "cell_type": "code",
   "execution_count": 202,
   "metadata": {
    "collapsed": false
   },
   "outputs": [
    {
     "name": "stdout",
     "output_type": "stream",
     "text": [
      "[{'id': '10210715480937145',\n",
      "  'link': 'https://www.facebook.com/app_scoped_user_id/10210715480937145/',\n",
      "  'name': 'Cathy Gosseye',\n",
      "  'pic': 'https://scontent.xx.fbcdn.net/v/t1.0-1/p100x100/10857843_10204923336937165_4275600864115090895_n.jpg?oh=8c603b4773b4cf82288e28e08db214f5&oe=59243073',\n",
      "  'picture': {'data': {'is_silhouette': False,\n",
      "                       'url': 'https://scontent.xx.fbcdn.net/v/t1.0-1/p50x50/10857843_10204923336937165_4275600864115090895_n.jpg?oh=04d8fea925a52c8e97cdc722fdef3a77&oe=58DDEF07'}}},\n",
      " {'id': '10208748154281568',\n",
      "  'link': 'https://www.facebook.com/app_scoped_user_id/10208748154281568/',\n",
      "  'name': 'Marleen Heirbaut',\n",
      "  'pic': 'https://scontent.xx.fbcdn.net/v/t1.0-1/p100x100/13901479_10207431804693651_6289610370897175619_n.jpg?oh=34bb38c92d3f35c861a776016915af75&oe=590DF0C7',\n",
      "  'picture': {'data': {'is_silhouette': False,\n",
      "                       'url': 'https://scontent.xx.fbcdn.net/v/t1.0-1/p50x50/13901479_10207431804693651_6289610370897175619_n.jpg?oh=7d0bc1a1b140295688eb88e2ba10ef1f&oe=59105FB3'}}},\n",
      " {'id': '10211605572916400',\n",
      "  'link': 'https://www.facebook.com/app_scoped_user_id/10211605572916400/',\n",
      "  'name': 'Lieve Moeyersoons',\n",
      "  'pic': 'https://scontent.xx.fbcdn.net/v/t1.0-1/p100x100/15219448_10211181489234573_6970982116347236425_n.jpg?oh=2d85a30100edcb5165bd59366cb77827&oe=59227C3D',\n",
      "  'picture': {'data': {'is_silhouette': False,\n",
      "                       'url': 'https://scontent.xx.fbcdn.net/v/t1.0-1/p50x50/15219448_10211181489234573_6970982116347236425_n.jpg?oh=e93dc1d5efc7af2dfef2486ef239d310&oe=58D73949'}}},\n",
      " {'id': '10211598356499601',\n",
      "  'link': 'https://www.facebook.com/app_scoped_user_id/10211598356499601/',\n",
      "  'name': 'Christine de Meester',\n",
      "  'pic': 'https://scontent.xx.fbcdn.net/v/t1.0-1/p100x100/16105775_10211611413306013_2924821283211115299_n.jpg?oh=9340432893cb317f706110cd27656afc&oe=591D0E42',\n",
      "  'picture': {'data': {'is_silhouette': False,\n",
      "                       'url': 'https://scontent.xx.fbcdn.net/v/t1.0-1/p50x50/16105775_10211611413306013_2924821283211115299_n.jpg?oh=b0c9562242e6a293600818f1b51c6773&oe=59127936'}}}]\n"
     ]
    }
   ],
   "source": [
    "pprint(_df['likes'][0]['data'])"
   ]
  },
  {
   "cell_type": "code",
   "execution_count": null,
   "metadata": {
    "collapsed": true
   },
   "outputs": [],
   "source": []
  },
  {
   "cell_type": "code",
   "execution_count": null,
   "metadata": {
    "collapsed": true
   },
   "outputs": [],
   "source": []
  },
  {
   "cell_type": "code",
   "execution_count": null,
   "metadata": {
    "collapsed": true
   },
   "outputs": [],
   "source": []
  },
  {
   "cell_type": "code",
   "execution_count": null,
   "metadata": {
    "collapsed": true
   },
   "outputs": [],
   "source": []
  },
  {
   "cell_type": "code",
   "execution_count": 181,
   "metadata": {
    "collapsed": false
   },
   "outputs": [
    {
     "data": {
      "text/plain": [
       "{'id': '10209419390136084', 'name': 'Ulrich van Draege'}"
      ]
     },
     "execution_count": 181,
     "metadata": {},
     "output_type": "execute_result"
    }
   ],
   "source": [
    "fb_doc['comments'][0]['from']"
   ]
  },
  {
   "cell_type": "code",
   "execution_count": 186,
   "metadata": {
    "collapsed": false
   },
   "outputs": [
    {
     "data": {
      "text/plain": [
       "[10209419390136084,\n",
       " 10209639462477072,\n",
       " 10211598646712057,\n",
       " 10212180453325241,\n",
       " 10209699898326288,\n",
       " 1557237740971350,\n",
       " 10206584548767353,\n",
       " 10211318220301717,\n",
       " 10207972606336031,\n",
       " 10154448460718208,\n",
       " 10207515377659199,\n",
       " 10210298695977988,\n",
       " 10210420577463300,\n",
       " 1366315270076516]"
      ]
     },
     "execution_count": 186,
     "metadata": {},
     "output_type": "execute_result"
    }
   ],
   "source": [
    "[int(comm['from']['id']) for comm in fb_doc['comments']]"
   ]
  },
  {
   "cell_type": "code",
   "execution_count": 206,
   "metadata": {
    "collapsed": false
   },
   "outputs": [
    {
     "ename": "TypeError",
     "evalue": "unhashable type: 'dict'",
     "output_type": "error",
     "traceback": [
      "\u001b[0;31m---------------------------------------------------------------------------\u001b[0m",
      "\u001b[0;31mTypeError\u001b[0m                                 Traceback (most recent call last)",
      "\u001b[0;32m<ipython-input-206-0f7c4a6a5acc>\u001b[0m in \u001b[0;36m<module>\u001b[0;34m()\u001b[0m\n\u001b[1;32m      1\u001b[0m \u001b[0;32mfor\u001b[0m \u001b[0mi\u001b[0m \u001b[0;32min\u001b[0m \u001b[0mdf\u001b[0m\u001b[0;34m[\u001b[0m\u001b[0;34m'likes'\u001b[0m\u001b[0;34m]\u001b[0m\u001b[0;34m:\u001b[0m\u001b[0;34m\u001b[0m\u001b[0m\n\u001b[0;32m----> 2\u001b[0;31m     \u001b[0;32mprint\u001b[0m \u001b[0mdf\u001b[0m\u001b[0;34m[\u001b[0m\u001b[0mi\u001b[0m\u001b[0;34m]\u001b[0m\u001b[0;34m\u001b[0m\u001b[0m\n\u001b[0m",
      "\u001b[0;32m/home/marc/DATA/.virtualenv/ml/local/lib/python2.7/site-packages/pandas/core/frame.pyc\u001b[0m in \u001b[0;36m__getitem__\u001b[0;34m(self, key)\u001b[0m\n\u001b[1;32m   1995\u001b[0m             \u001b[0;32mreturn\u001b[0m \u001b[0mself\u001b[0m\u001b[0;34m.\u001b[0m\u001b[0m_getitem_multilevel\u001b[0m\u001b[0;34m(\u001b[0m\u001b[0mkey\u001b[0m\u001b[0;34m)\u001b[0m\u001b[0;34m\u001b[0m\u001b[0m\n\u001b[1;32m   1996\u001b[0m         \u001b[0;32melse\u001b[0m\u001b[0;34m:\u001b[0m\u001b[0;34m\u001b[0m\u001b[0m\n\u001b[0;32m-> 1997\u001b[0;31m             \u001b[0;32mreturn\u001b[0m \u001b[0mself\u001b[0m\u001b[0;34m.\u001b[0m\u001b[0m_getitem_column\u001b[0m\u001b[0;34m(\u001b[0m\u001b[0mkey\u001b[0m\u001b[0;34m)\u001b[0m\u001b[0;34m\u001b[0m\u001b[0m\n\u001b[0m\u001b[1;32m   1998\u001b[0m \u001b[0;34m\u001b[0m\u001b[0m\n\u001b[1;32m   1999\u001b[0m     \u001b[0;32mdef\u001b[0m \u001b[0m_getitem_column\u001b[0m\u001b[0;34m(\u001b[0m\u001b[0mself\u001b[0m\u001b[0;34m,\u001b[0m \u001b[0mkey\u001b[0m\u001b[0;34m)\u001b[0m\u001b[0;34m:\u001b[0m\u001b[0;34m\u001b[0m\u001b[0m\n",
      "\u001b[0;32m/home/marc/DATA/.virtualenv/ml/local/lib/python2.7/site-packages/pandas/core/frame.pyc\u001b[0m in \u001b[0;36m_getitem_column\u001b[0;34m(self, key)\u001b[0m\n\u001b[1;32m   2002\u001b[0m         \u001b[0;31m# get column\u001b[0m\u001b[0;34m\u001b[0m\u001b[0;34m\u001b[0m\u001b[0m\n\u001b[1;32m   2003\u001b[0m         \u001b[0;32mif\u001b[0m \u001b[0mself\u001b[0m\u001b[0;34m.\u001b[0m\u001b[0mcolumns\u001b[0m\u001b[0;34m.\u001b[0m\u001b[0mis_unique\u001b[0m\u001b[0;34m:\u001b[0m\u001b[0;34m\u001b[0m\u001b[0m\n\u001b[0;32m-> 2004\u001b[0;31m             \u001b[0;32mreturn\u001b[0m \u001b[0mself\u001b[0m\u001b[0;34m.\u001b[0m\u001b[0m_get_item_cache\u001b[0m\u001b[0;34m(\u001b[0m\u001b[0mkey\u001b[0m\u001b[0;34m)\u001b[0m\u001b[0;34m\u001b[0m\u001b[0m\n\u001b[0m\u001b[1;32m   2005\u001b[0m \u001b[0;34m\u001b[0m\u001b[0m\n\u001b[1;32m   2006\u001b[0m         \u001b[0;31m# duplicate columns & possible reduce dimensionality\u001b[0m\u001b[0;34m\u001b[0m\u001b[0;34m\u001b[0m\u001b[0m\n",
      "\u001b[0;32m/home/marc/DATA/.virtualenv/ml/local/lib/python2.7/site-packages/pandas/core/generic.pyc\u001b[0m in \u001b[0;36m_get_item_cache\u001b[0;34m(self, item)\u001b[0m\n\u001b[1;32m   1346\u001b[0m         \u001b[0;34m\"\"\"Return the cached item, item represents a label indexer.\"\"\"\u001b[0m\u001b[0;34m\u001b[0m\u001b[0m\n\u001b[1;32m   1347\u001b[0m         \u001b[0mcache\u001b[0m \u001b[0;34m=\u001b[0m \u001b[0mself\u001b[0m\u001b[0;34m.\u001b[0m\u001b[0m_item_cache\u001b[0m\u001b[0;34m\u001b[0m\u001b[0m\n\u001b[0;32m-> 1348\u001b[0;31m         \u001b[0mres\u001b[0m \u001b[0;34m=\u001b[0m \u001b[0mcache\u001b[0m\u001b[0;34m.\u001b[0m\u001b[0mget\u001b[0m\u001b[0;34m(\u001b[0m\u001b[0mitem\u001b[0m\u001b[0;34m)\u001b[0m\u001b[0;34m\u001b[0m\u001b[0m\n\u001b[0m\u001b[1;32m   1349\u001b[0m         \u001b[0;32mif\u001b[0m \u001b[0mres\u001b[0m \u001b[0;32mis\u001b[0m \u001b[0mNone\u001b[0m\u001b[0;34m:\u001b[0m\u001b[0;34m\u001b[0m\u001b[0m\n\u001b[1;32m   1350\u001b[0m             \u001b[0mvalues\u001b[0m \u001b[0;34m=\u001b[0m \u001b[0mself\u001b[0m\u001b[0;34m.\u001b[0m\u001b[0m_data\u001b[0m\u001b[0;34m.\u001b[0m\u001b[0mget\u001b[0m\u001b[0;34m(\u001b[0m\u001b[0mitem\u001b[0m\u001b[0;34m)\u001b[0m\u001b[0;34m\u001b[0m\u001b[0m\n",
      "\u001b[0;31mTypeError\u001b[0m: unhashable type: 'dict'"
     ]
    }
   ],
   "source": [
    "for i in df:\n",
    "    print df[i]"
   ]
  },
  {
   "cell_type": "code",
   "execution_count": 7,
   "metadata": {
    "collapsed": false
   },
   "outputs": [],
   "source": [
    " _likes=_df['likes'].dropna()\n"
   ]
  },
  {
   "cell_type": "code",
   "execution_count": 8,
   "metadata": {
    "collapsed": false
   },
   "outputs": [
    {
     "data": {
      "text/plain": [
       "[{'id': '10210715480937145',\n",
       "  'link': 'https://www.facebook.com/app_scoped_user_id/10210715480937145/',\n",
       "  'name': 'Cathy Gosseye',\n",
       "  'pic': 'https://scontent.xx.fbcdn.net/v/t1.0-1/p100x100/10857843_10204923336937165_4275600864115090895_n.jpg?oh=8c603b4773b4cf82288e28e08db214f5&oe=59243073',\n",
       "  'picture': {'data': {'is_silhouette': False,\n",
       "    'url': 'https://scontent.xx.fbcdn.net/v/t1.0-1/p50x50/10857843_10204923336937165_4275600864115090895_n.jpg?oh=04d8fea925a52c8e97cdc722fdef3a77&oe=58DDEF07'}}},\n",
       " {'id': '10208748154281568',\n",
       "  'link': 'https://www.facebook.com/app_scoped_user_id/10208748154281568/',\n",
       "  'name': 'Marleen Heirbaut',\n",
       "  'pic': 'https://scontent.xx.fbcdn.net/v/t1.0-1/p100x100/13901479_10207431804693651_6289610370897175619_n.jpg?oh=34bb38c92d3f35c861a776016915af75&oe=590DF0C7',\n",
       "  'picture': {'data': {'is_silhouette': False,\n",
       "    'url': 'https://scontent.xx.fbcdn.net/v/t1.0-1/p50x50/13901479_10207431804693651_6289610370897175619_n.jpg?oh=7d0bc1a1b140295688eb88e2ba10ef1f&oe=59105FB3'}}},\n",
       " {'id': '10211605572916400',\n",
       "  'link': 'https://www.facebook.com/app_scoped_user_id/10211605572916400/',\n",
       "  'name': 'Lieve Moeyersoons',\n",
       "  'pic': 'https://scontent.xx.fbcdn.net/v/t1.0-1/p100x100/15219448_10211181489234573_6970982116347236425_n.jpg?oh=2d85a30100edcb5165bd59366cb77827&oe=59227C3D',\n",
       "  'picture': {'data': {'is_silhouette': False,\n",
       "    'url': 'https://scontent.xx.fbcdn.net/v/t1.0-1/p50x50/15219448_10211181489234573_6970982116347236425_n.jpg?oh=e93dc1d5efc7af2dfef2486ef239d310&oe=58D73949'}}},\n",
       " {'id': '10211598356499601',\n",
       "  'link': 'https://www.facebook.com/app_scoped_user_id/10211598356499601/',\n",
       "  'name': 'Christine de Meester',\n",
       "  'pic': 'https://scontent.xx.fbcdn.net/v/t1.0-1/p100x100/16105775_10211611413306013_2924821283211115299_n.jpg?oh=9340432893cb317f706110cd27656afc&oe=591D0E42',\n",
       "  'picture': {'data': {'is_silhouette': False,\n",
       "    'url': 'https://scontent.xx.fbcdn.net/v/t1.0-1/p50x50/16105775_10211611413306013_2924821283211115299_n.jpg?oh=b0c9562242e6a293600818f1b51c6773&oe=59127936'}}}]"
      ]
     },
     "execution_count": 8,
     "metadata": {},
     "output_type": "execute_result"
    }
   ],
   "source": [
    "_likes[0]['data']"
   ]
  },
  {
   "cell_type": "code",
   "execution_count": 9,
   "metadata": {
    "collapsed": false
   },
   "outputs": [
    {
     "name": "stdout",
     "output_type": "stream",
     "text": [
      "['10210715480937145', '10208748154281568', '10211605572916400', '10211598356499601', '10207972606336031', '10210420577463300', '10208748154281568', '10211598646712057', '10211598646712057']\n"
     ]
    }
   ],
   "source": [
    "lst=[]\n",
    "[lst.extend(map(lambda x: x['id'],lks['data'])) for lks in _likes]\n",
    "print lst"
   ]
  },
  {
   "cell_type": "code",
   "execution_count": 4,
   "metadata": {
    "collapsed": false
   },
   "outputs": [
    {
     "ename": "NameError",
     "evalue": "name '_likes' is not defined",
     "output_type": "error",
     "traceback": [
      "\u001b[0;31m---------------------------------------------------------------------------\u001b[0m",
      "\u001b[0;31mNameError\u001b[0m                                 Traceback (most recent call last)",
      "\u001b[0;32m<ipython-input-4-d9e64612aadf>\u001b[0m in \u001b[0;36m<module>\u001b[0;34m()\u001b[0m\n\u001b[1;32m      1\u001b[0m \u001b[0mxxx\u001b[0m\u001b[0;34m=\u001b[0m\u001b[0;34m[\u001b[0m\u001b[0;34m]\u001b[0m\u001b[0;34m\u001b[0m\u001b[0m\n\u001b[0;32m----> 2\u001b[0;31m \u001b[0mxxx\u001b[0m\u001b[0;34m=\u001b[0m\u001b[0;34m[\u001b[0m\u001b[0mmap\u001b[0m\u001b[0;34m(\u001b[0m\u001b[0;32mlambda\u001b[0m \u001b[0mx\u001b[0m\u001b[0;34m:\u001b[0m \u001b[0mx\u001b[0m\u001b[0;34m[\u001b[0m\u001b[0;34m'id'\u001b[0m\u001b[0;34m]\u001b[0m\u001b[0;34m,\u001b[0m \u001b[0ml\u001b[0m\u001b[0;34m[\u001b[0m\u001b[0;34m'data'\u001b[0m\u001b[0;34m]\u001b[0m\u001b[0;34m)\u001b[0m \u001b[0;32mfor\u001b[0m \u001b[0ml\u001b[0m \u001b[0;32min\u001b[0m \u001b[0m_likes\u001b[0m\u001b[0;34m]\u001b[0m\u001b[0;34m\u001b[0m\u001b[0m\n\u001b[0m\u001b[1;32m      3\u001b[0m \u001b[0mxxx\u001b[0m\u001b[0;34m\u001b[0m\u001b[0m\n\u001b[1;32m      4\u001b[0m \u001b[0;31m# print l.extend([1,2,3])\u001b[0m\u001b[0;34m\u001b[0m\u001b[0;34m\u001b[0m\u001b[0m\n",
      "\u001b[0;31mNameError\u001b[0m: name '_likes' is not defined"
     ]
    }
   ],
   "source": [
    "xxx=[]\n",
    "xxx=[map(lambda x: x['id'], l['data']) for l in _likes]\n",
    "xxx\n",
    "# print l.extend([1,2,3])\n"
   ]
  },
  {
   "cell_type": "code",
   "execution_count": null,
   "metadata": {
    "collapsed": true
   },
   "outputs": [],
   "source": []
  },
  {
   "cell_type": "code",
   "execution_count": null,
   "metadata": {
    "collapsed": true
   },
   "outputs": [],
   "source": []
  },
  {
   "cell_type": "code",
   "execution_count": null,
   "metadata": {
    "collapsed": true
   },
   "outputs": [],
   "source": []
  },
  {
   "cell_type": "code",
   "execution_count": null,
   "metadata": {
    "collapsed": true
   },
   "outputs": [],
   "source": []
  },
  {
   "cell_type": "code",
   "execution_count": null,
   "metadata": {
    "collapsed": true
   },
   "outputs": [],
   "source": []
  },
  {
   "cell_type": "code",
   "execution_count": 227,
   "metadata": {
    "collapsed": false
   },
   "outputs": [
    {
     "ename": "SyntaxError",
     "evalue": "Generator expression must be parenthesized if not sole argument (<ipython-input-227-6da6b7dcdffc>, line 1)",
     "output_type": "error",
     "traceback": [
      "\u001b[0;36m  File \u001b[0;32m\"<ipython-input-227-6da6b7dcdffc>\"\u001b[0;36m, line \u001b[0;32m1\u001b[0m\n\u001b[0;31m    map(lambda x: x['id'], i['data'] for i in _likes )\u001b[0m\n\u001b[0;31mSyntaxError\u001b[0m\u001b[0;31m:\u001b[0m Generator expression must be parenthesized if not sole argument\n"
     ]
    }
   ],
   "source": [
    "map(lambda x: x['id'], i['data'] for i in _likes )"
   ]
  },
  {
   "cell_type": "code",
   "execution_count": 230,
   "metadata": {
    "collapsed": false
   },
   "outputs": [
    {
     "data": {
      "text/plain": [
       "0    {u'paging': {u'cursors': {u'after': u'MTAyMTE1...\n",
       "4    {u'paging': {u'cursors': {u'after': u'MTAyMDc5...\n",
       "5    {u'paging': {u'cursors': {u'after': u'MTAyMTA0...\n",
       "6    {u'paging': {u'cursors': {u'after': u'MTAyMDg3...\n",
       "8    {u'paging': {u'cursors': {u'after': u'MTAyMTE1...\n",
       "9    {u'paging': {u'cursors': {u'after': u'MTAyMTE1...\n",
       "Name: likes, dtype: object"
      ]
     },
     "execution_count": 230,
     "metadata": {},
     "output_type": "execute_result"
    }
   ],
   "source": [
    "_likes"
   ]
  },
  {
   "cell_type": "code",
   "execution_count": null,
   "metadata": {
    "collapsed": true
   },
   "outputs": [],
   "source": []
  },
  {
   "cell_type": "code",
   "execution_count": null,
   "metadata": {
    "collapsed": true
   },
   "outputs": [],
   "source": []
  },
  {
   "cell_type": "code",
   "execution_count": null,
   "metadata": {
    "collapsed": true
   },
   "outputs": [],
   "source": []
  },
  {
   "cell_type": "code",
   "execution_count": null,
   "metadata": {
    "collapsed": true
   },
   "outputs": [],
   "source": []
  },
  {
   "cell_type": "code",
   "execution_count": null,
   "metadata": {
    "collapsed": true
   },
   "outputs": [],
   "source": []
  },
  {
   "cell_type": "code",
   "execution_count": 79,
   "metadata": {
    "collapsed": false
   },
   "outputs": [],
   "source": [
    "def _calculateReactions(fb_doc=fb_doc):\n",
    "    _types = ['like', 'love', 'haha', 'sad', 'angry']\n",
    "    _val = [0] * len(_types)\n",
    "    reactions = dict(zip(_types, _val))\n",
    "\n",
    "    _df = pd.DataFrame(fb_doc['reactions'])[['id', 'type']]\n",
    "    _df['type'] = _df['type'].str.lower()\n",
    "    xx=_df.copy()\n",
    "    _dfg = _df.groupby(['type']).count()\n",
    "    _reacts = _dfg.to_dict()['id']\n",
    "    reactions.update(_reacts)\n",
    "    \n",
    "    \n",
    "    \n",
    "    return reactions"
   ]
  },
  {
   "cell_type": "code",
   "execution_count": 124,
   "metadata": {
    "collapsed": true
   },
   "outputs": [],
   "source": [
    "_df = pd.DataFrame(fb_doc['reactions'])[['id', 'type']]\n",
    "_df['type'] = _df['type'].str.lower()\n",
    "xx=_df.copy()\n",
    "_dfg = _df.groupby(['type']) # tuple of (str,df) \n"
   ]
  },
  {
   "cell_type": "code",
   "execution_count": 147,
   "metadata": {
    "collapsed": false
   },
   "outputs": [
    {
     "name": "stdout",
     "output_type": "stream",
     "text": [
      "{'angry': ['10212238646260525', '10212180453325241']}\n",
      "xxxxxxxxxxxxxxxxxxxxxxxxxxxxxxxxxx\n",
      "{'like': ['10211762408165622', '1549940535020779', '1402363236463275', '10211533935010931', '10210346432689891', '10206303887955448', '10209419390136084']}\n",
      "xxxxxxxxxxxxxxxxxxxxxxxxxxxxxxxxxx\n",
      "{'love': ['10207630214573140']}\n",
      "xxxxxxxxxxxxxxxxxxxxxxxxxxxxxxxxxx\n",
      "{'sad': ['10155677419318357', '10211598356499601']}\n",
      "xxxxxxxxxxxxxxxxxxxxxxxxxxxxxxxxxx\n",
      "{'wow': ['10210304701607183']}\n",
      "xxxxxxxxxxxxxxxxxxxxxxxxxxxxxxxxxx\n",
      "<type 'list'>\n"
     ]
    }
   ],
   "source": [
    "for i in _dfg:\n",
    "    print {i[0]:i[1]['id'].tolist()}  #.as_matrix().tolist()\n",
    "    print 'xxxxxxxxxxxxxxxxxxxxxxxxxxxxxxxxxx'\n",
    "print type(i[1]['id'].tolist())"
   ]
  },
  {
   "cell_type": "code",
   "execution_count": 149,
   "metadata": {
    "collapsed": false
   },
   "outputs": [
    {
     "data": {
      "text/html": [
       "<div>\n",
       "<table border=\"1\" class=\"dataframe\">\n",
       "  <thead>\n",
       "    <tr style=\"text-align: right;\">\n",
       "      <th></th>\n",
       "      <th>comment_count</th>\n",
       "      <th>created_time</th>\n",
       "      <th>from</th>\n",
       "      <th>id</th>\n",
       "      <th>like_count</th>\n",
       "      <th>likes</th>\n",
       "      <th>message</th>\n",
       "    </tr>\n",
       "  </thead>\n",
       "  <tbody>\n",
       "    <tr>\n",
       "      <th>0</th>\n",
       "      <td>0</td>\n",
       "      <td>1309848959</td>\n",
       "      <td>{u'name': u'Ulrich van Draege', u'id': u'10209...</td>\n",
       "      <td>225981397436464_3316980</td>\n",
       "      <td>4</td>\n",
       "      <td>{u'paging': {u'cursors': {u'after': u'MTAyMTE1...</td>\n",
       "      <td>als nen mens da al niemeer mag doen :p</td>\n",
       "    </tr>\n",
       "    <tr>\n",
       "      <th>1</th>\n",
       "      <td>0</td>\n",
       "      <td>1309849057</td>\n",
       "      <td>{u'name': u'Chantal Van Laere', u'id': u'10209...</td>\n",
       "      <td>225981397436464_3316991</td>\n",
       "      <td>0</td>\n",
       "      <td>NaN</td>\n",
       "      <td>amai, puriteinen opstap?</td>\n",
       "    </tr>\n",
       "    <tr>\n",
       "      <th>2</th>\n",
       "      <td>0</td>\n",
       "      <td>1309849767</td>\n",
       "      <td>{u'name': u'Dirk L. Foubert', u'id': u'1021159...</td>\n",
       "      <td>225981397436464_3317024</td>\n",
       "      <td>0</td>\n",
       "      <td>NaN</td>\n",
       "      <td>ochere, ocharme.....</td>\n",
       "    </tr>\n",
       "    <tr>\n",
       "      <th>3</th>\n",
       "      <td>0</td>\n",
       "      <td>1309850542</td>\n",
       "      <td>{u'name': u'Jos De Jonghe', u'id': u'102121804...</td>\n",
       "      <td>225981397436464_3317066</td>\n",
       "      <td>0</td>\n",
       "      <td>NaN</td>\n",
       "      <td>Je zal toch nooit zien wat ze niet heeft?.. Of...</td>\n",
       "    </tr>\n",
       "    <tr>\n",
       "      <th>4</th>\n",
       "      <td>0</td>\n",
       "      <td>1309850769</td>\n",
       "      <td>{u'name': u'William De Groote', u'id': u'10209...</td>\n",
       "      <td>225981397436464_3317100</td>\n",
       "      <td>1</td>\n",
       "      <td>{u'paging': {u'cursors': {u'after': u'MTAyMDc5...</td>\n",
       "      <td>pff wat een trut...</td>\n",
       "    </tr>\n",
       "    <tr>\n",
       "      <th>5</th>\n",
       "      <td>0</td>\n",
       "      <td>1309851125</td>\n",
       "      <td>{u'name': u'Yo Dhaese', u'id': u'1557237740971...</td>\n",
       "      <td>225981397436464_3317206</td>\n",
       "      <td>1</td>\n",
       "      <td>{u'paging': {u'cursors': {u'after': u'MTAyMTA0...</td>\n",
       "      <td>daar mag je alleen maar  naar kijken maar aank...</td>\n",
       "    </tr>\n",
       "    <tr>\n",
       "      <th>6</th>\n",
       "      <td>0</td>\n",
       "      <td>1309851473</td>\n",
       "      <td>{u'name': u'Rocco Logie', u'id': u'10206584548...</td>\n",
       "      <td>225981397436464_3317299</td>\n",
       "      <td>1</td>\n",
       "      <td>{u'paging': {u'cursors': {u'after': u'MTAyMDg3...</td>\n",
       "      <td>niets mag we nog en we zijn juist gezond lol</td>\n",
       "    </tr>\n",
       "    <tr>\n",
       "      <th>7</th>\n",
       "      <td>0</td>\n",
       "      <td>1309854537</td>\n",
       "      <td>{u'name': u'Bruyndonckx Marc', u'id': u'102113...</td>\n",
       "      <td>225981397436464_3317596</td>\n",
       "      <td>0</td>\n",
       "      <td>NaN</td>\n",
       "      <td>seut</td>\n",
       "    </tr>\n",
       "    <tr>\n",
       "      <th>8</th>\n",
       "      <td>0</td>\n",
       "      <td>1309857937</td>\n",
       "      <td>{u'name': u'Jessica Kellers', u'id': u'1020797...</td>\n",
       "      <td>225981397436464_3317768</td>\n",
       "      <td>1</td>\n",
       "      <td>{u'paging': {u'cursors': {u'after': u'MTAyMTE1...</td>\n",
       "      <td>volgende stap:burka?</td>\n",
       "    </tr>\n",
       "    <tr>\n",
       "      <th>9</th>\n",
       "      <td>0</td>\n",
       "      <td>1309858311</td>\n",
       "      <td>{u'name': u'Kenneth Deryckere', u'id': u'10154...</td>\n",
       "      <td>225981397436464_3317789</td>\n",
       "      <td>1</td>\n",
       "      <td>{u'paging': {u'cursors': {u'after': u'MTAyMTE1...</td>\n",
       "      <td>the end of an area :( wat een trut!</td>\n",
       "    </tr>\n",
       "    <tr>\n",
       "      <th>10</th>\n",
       "      <td>0</td>\n",
       "      <td>1309859171</td>\n",
       "      <td>{u'name': u'Bart Ravyts', u'id': u'10207515377...</td>\n",
       "      <td>225981397436464_3317838</td>\n",
       "      <td>0</td>\n",
       "      <td>NaN</td>\n",
       "      <td>Spijtig ;)</td>\n",
       "    </tr>\n",
       "    <tr>\n",
       "      <th>11</th>\n",
       "      <td>0</td>\n",
       "      <td>1309866725</td>\n",
       "      <td>{u'name': u'Gino Callewaert', u'id': u'1021029...</td>\n",
       "      <td>225981397436464_3318223</td>\n",
       "      <td>0</td>\n",
       "      <td>NaN</td>\n",
       "      <td>'vind ik niet leuk'</td>\n",
       "    </tr>\n",
       "    <tr>\n",
       "      <th>12</th>\n",
       "      <td>0</td>\n",
       "      <td>1309881190</td>\n",
       "      <td>{u'name': u'Joaquin Adan Adan', u'id': u'10210...</td>\n",
       "      <td>225981397436464_3319172</td>\n",
       "      <td>0</td>\n",
       "      <td>NaN</td>\n",
       "      <td>Aleez ni goe,ben weg,ga even naar de naaktstrand.</td>\n",
       "    </tr>\n",
       "    <tr>\n",
       "      <th>13</th>\n",
       "      <td>0</td>\n",
       "      <td>1309883315</td>\n",
       "      <td>{u'name': u'Luc van den Broecke', u'id': u'136...</td>\n",
       "      <td>225981397436464_3319349</td>\n",
       "      <td>0</td>\n",
       "      <td>NaN</td>\n",
       "      <td>komt weer uit het puritainse amerika</td>\n",
       "    </tr>\n",
       "  </tbody>\n",
       "</table>\n",
       "</div>"
      ],
      "text/plain": [
       "    comment_count  created_time  \\\n",
       "0               0    1309848959   \n",
       "1               0    1309849057   \n",
       "2               0    1309849767   \n",
       "3               0    1309850542   \n",
       "4               0    1309850769   \n",
       "5               0    1309851125   \n",
       "6               0    1309851473   \n",
       "7               0    1309854537   \n",
       "8               0    1309857937   \n",
       "9               0    1309858311   \n",
       "10              0    1309859171   \n",
       "11              0    1309866725   \n",
       "12              0    1309881190   \n",
       "13              0    1309883315   \n",
       "\n",
       "                                                 from  \\\n",
       "0   {u'name': u'Ulrich van Draege', u'id': u'10209...   \n",
       "1   {u'name': u'Chantal Van Laere', u'id': u'10209...   \n",
       "2   {u'name': u'Dirk L. Foubert', u'id': u'1021159...   \n",
       "3   {u'name': u'Jos De Jonghe', u'id': u'102121804...   \n",
       "4   {u'name': u'William De Groote', u'id': u'10209...   \n",
       "5   {u'name': u'Yo Dhaese', u'id': u'1557237740971...   \n",
       "6   {u'name': u'Rocco Logie', u'id': u'10206584548...   \n",
       "7   {u'name': u'Bruyndonckx Marc', u'id': u'102113...   \n",
       "8   {u'name': u'Jessica Kellers', u'id': u'1020797...   \n",
       "9   {u'name': u'Kenneth Deryckere', u'id': u'10154...   \n",
       "10  {u'name': u'Bart Ravyts', u'id': u'10207515377...   \n",
       "11  {u'name': u'Gino Callewaert', u'id': u'1021029...   \n",
       "12  {u'name': u'Joaquin Adan Adan', u'id': u'10210...   \n",
       "13  {u'name': u'Luc van den Broecke', u'id': u'136...   \n",
       "\n",
       "                         id  like_count  \\\n",
       "0   225981397436464_3316980           4   \n",
       "1   225981397436464_3316991           0   \n",
       "2   225981397436464_3317024           0   \n",
       "3   225981397436464_3317066           0   \n",
       "4   225981397436464_3317100           1   \n",
       "5   225981397436464_3317206           1   \n",
       "6   225981397436464_3317299           1   \n",
       "7   225981397436464_3317596           0   \n",
       "8   225981397436464_3317768           1   \n",
       "9   225981397436464_3317789           1   \n",
       "10  225981397436464_3317838           0   \n",
       "11  225981397436464_3318223           0   \n",
       "12  225981397436464_3319172           0   \n",
       "13  225981397436464_3319349           0   \n",
       "\n",
       "                                                likes  \\\n",
       "0   {u'paging': {u'cursors': {u'after': u'MTAyMTE1...   \n",
       "1                                                 NaN   \n",
       "2                                                 NaN   \n",
       "3                                                 NaN   \n",
       "4   {u'paging': {u'cursors': {u'after': u'MTAyMDc5...   \n",
       "5   {u'paging': {u'cursors': {u'after': u'MTAyMTA0...   \n",
       "6   {u'paging': {u'cursors': {u'after': u'MTAyMDg3...   \n",
       "7                                                 NaN   \n",
       "8   {u'paging': {u'cursors': {u'after': u'MTAyMTE1...   \n",
       "9   {u'paging': {u'cursors': {u'after': u'MTAyMTE1...   \n",
       "10                                                NaN   \n",
       "11                                                NaN   \n",
       "12                                                NaN   \n",
       "13                                                NaN   \n",
       "\n",
       "                                              message  \n",
       "0              als nen mens da al niemeer mag doen :p  \n",
       "1                            amai, puriteinen opstap?  \n",
       "2                                ochere, ocharme.....  \n",
       "3   Je zal toch nooit zien wat ze niet heeft?.. Of...  \n",
       "4                                 pff wat een trut...  \n",
       "5   daar mag je alleen maar  naar kijken maar aank...  \n",
       "6        niets mag we nog en we zijn juist gezond lol  \n",
       "7                                                seut  \n",
       "8                                volgende stap:burka?  \n",
       "9                 the end of an area :( wat een trut!  \n",
       "10                                         Spijtig ;)  \n",
       "11                                'vind ik niet leuk'  \n",
       "12  Aleez ni goe,ben weg,ga even naar de naaktstrand.  \n",
       "13               komt weer uit het puritainse amerika  "
      ]
     },
     "execution_count": 149,
     "metadata": {},
     "output_type": "execute_result"
    }
   ],
   "source": [
    "pd.DataFrame(fb_doc['comments'])"
   ]
  },
  {
   "cell_type": "code",
   "execution_count": 117,
   "metadata": {
    "collapsed": false
   },
   "outputs": [
    {
     "ename": "TypeError",
     "evalue": "'DataFrameGroupBy' object is not callable",
     "output_type": "error",
     "traceback": [
      "\u001b[0;31m---------------------------------------------------------------------------\u001b[0m",
      "\u001b[0;31mTypeError\u001b[0m                                 Traceback (most recent call last)",
      "\u001b[0;32m<ipython-input-117-6159a143505f>\u001b[0m in \u001b[0;36m<module>\u001b[0;34m()\u001b[0m\n\u001b[0;32m----> 1\u001b[0;31m \u001b[0m_dfg\u001b[0m\u001b[0;34m(\u001b[0m\u001b[0;34m)\u001b[0m\u001b[0;34m.\u001b[0m\u001b[0mto_dict\u001b[0m\u001b[0;34m(\u001b[0m\u001b[0;34m)\u001b[0m\u001b[0;34m\u001b[0m\u001b[0m\n\u001b[0m",
      "\u001b[0;31mTypeError\u001b[0m: 'DataFrameGroupBy' object is not callable"
     ]
    }
   ],
   "source": [
    "_dfg.to_dict()"
   ]
  },
  {
   "cell_type": "code",
   "execution_count": 80,
   "metadata": {
    "collapsed": false,
    "scrolled": true
   },
   "outputs": [
    {
     "name": "stdout",
     "output_type": "stream",
     "text": [
      "                   id   type\n",
      "0   10211762408165622   like\n",
      "1   10210304701607183    wow\n",
      "2    1549940535020779   like\n",
      "3   10207630214573140   love\n",
      "4    1402363236463275   like\n",
      "5   10212238646260525  angry\n",
      "6   10211533935010931   like\n",
      "7   10210346432689891   like\n",
      "8   10212180453325241  angry\n",
      "9   10206303887955448   like\n",
      "10  10155677419318357    sad\n",
      "11  10211598356499601    sad\n",
      "12  10209419390136084   like\n",
      "{'love': 1, 'like': 7, 'angry': 2, 'haha': 0, 'sad': 2, 'wow': 1}\n"
     ]
    }
   ],
   "source": [
    "print(_calculateReactions())"
   ]
  },
  {
   "cell_type": "code",
   "execution_count": 71,
   "metadata": {
    "collapsed": false
   },
   "outputs": [
    {
     "name": "stdout",
     "output_type": "stream",
     "text": [
      "[{'id': '10211762408165622',\n",
      "  'name': 'Gwendolyn Michielsen',\n",
      "  'pic': 'https://scontent.xx.fbcdn.net/v/t1.0-1/p100x100/15171291_10211209558944737_5895021682070643934_n.jpg?oh=213e25de086e6b16bc3f80747e741c8c&oe=58D69876',\n",
      "  'type': 'LIKE'},\n",
      " {'id': '10210304701607183',\n",
      "  'name': 'Helga Van den Steen',\n",
      "  'pic': 'https://scontent.xx.fbcdn.net/v/t1.0-1/p100x100/15589777_10210083181109309_4834150135717031148_n.jpg?oh=306830eccf82089aa7757ec579b506a6&oe=5908D41C',\n",
      "  'type': 'WOW'},\n",
      " {'id': '1549940535020779',\n",
      "  'name': 'Sophie Viaene',\n",
      "  'pic': 'https://scontent.xx.fbcdn.net/v/t1.0-1/s100x100/13880302_1371205369560964_8315222331458253226_n.jpg?oh=aacad5ea27f4d6908c1540be747dedc1&oe=58D93282',\n",
      "  'type': 'LIKE'},\n",
      " {'id': '10207630214573140',\n",
      "  'name': 'Brenda Stankevitck',\n",
      "  'pic': 'https://scontent.xx.fbcdn.net/v/t1.0-1/s100x100/10482280_10202741833446667_60763361237739772_n.jpg?oh=ea8d809d14739344e467ab14c84f576d&oe=58DE9702',\n",
      "  'type': 'LOVE'},\n",
      " {'id': '1402363236463275',\n",
      "  'name': 'Natascha Kestens',\n",
      "  'pic': 'https://scontent.xx.fbcdn.net/v/t1.0-1/s100x100/13901406_1228315123868088_6081379265590412057_n.jpg?oh=b4ee51bea06dc8069d2dbe0ce13c55a5&oe=590DF6DC',\n",
      "  'type': 'LIKE'},\n",
      " {'id': '10212238646260525',\n",
      "  'name': 'Christel Mulleman',\n",
      "  'pic': 'https://scontent.xx.fbcdn.net/v/t1.0-1/p100x100/15740822_10212067824510088_7377995889594758476_n.jpg?oh=40341bcd3c53c9e7846e21278fcf1b6f&oe=591ED311',\n",
      "  'type': 'ANGRY'},\n",
      " {'id': '10211533935010931',\n",
      "  'name': 'Cindy De Winter',\n",
      "  'pic': 'https://scontent.xx.fbcdn.net/v/t1.0-1/p100x100/14051566_10210101191233232_1104058668417158265_n.jpg?oh=e29fa3773a9987dc7d548b6c7558f337&oe=590D7405',\n",
      "  'type': 'LIKE'},\n",
      " {'id': '10210346432689891',\n",
      "  'name': 'Kim De Schutter',\n",
      "  'pic': 'https://scontent.xx.fbcdn.net/v/t1.0-1/s100x100/16002926_10210343101526614_360565996233084051_n.jpg?oh=7e903eeb946d6e22ab7a1325a10e7389&oe=590C7317',\n",
      "  'type': 'LIKE'},\n",
      " {'id': '10212180453325241',\n",
      "  'name': 'Jos De Jonghe',\n",
      "  'pic': 'https://scontent.xx.fbcdn.net/v/t1.0-1/s100x100/77057_1747519686493_4873115_n.jpg?oh=0f71556e6d9fe06b2750320f5fc751cf&oe=590FA8A7',\n",
      "  'type': 'ANGRY'},\n",
      " {'id': '10206303887955448',\n",
      "  'name': 'Caroline Declercq',\n",
      "  'pic': 'https://scontent.xx.fbcdn.net/v/t1.0-1/p100x100/15895308_10206280339166743_7903556985111907951_n.jpg?oh=4ecb46239100a29fd5df3cb997e72c57&oe=591136CA',\n",
      "  'type': 'LIKE'},\n",
      " {'id': '10155677419318357',\n",
      "  'name': 'Bob Van Peteghem',\n",
      "  'pic': 'https://scontent.xx.fbcdn.net/v/t1.0-1/s100x100/196942_10150113737263357_1583080_n.jpg?oh=2a62c886829ff872b0b5b4b7cc670df4&oe=58DCB348',\n",
      "  'type': 'SAD'},\n",
      " {'id': '10211598356499601',\n",
      "  'name': 'Christine de Meester',\n",
      "  'pic': 'https://scontent.xx.fbcdn.net/v/t1.0-1/p100x100/16105775_10211611413306013_2924821283211115299_n.jpg?oh=9340432893cb317f706110cd27656afc&oe=591D0E42',\n",
      "  'type': 'SAD'},\n",
      " {'id': '10209419390136084',\n",
      "  'name': 'Ulrich van Draege',\n",
      "  'pic': 'https://scontent.xx.fbcdn.net/v/t1.0-1/p100x100/15940386_10209442490073568_7091399423385102038_n.jpg?oh=53a852661ca094d7b955baac6165e314&oe=58DCA7BB',\n",
      "  'type': 'LIKE'}]\n"
     ]
    }
   ],
   "source": [
    "pprint(fb_doc['reactions'])"
   ]
  },
  {
   "cell_type": "code",
   "execution_count": 64,
   "metadata": {
    "collapsed": false
   },
   "outputs": [
    {
     "ename": "TypeError",
     "evalue": "list indices must be integers, not list",
     "output_type": "error",
     "traceback": [
      "\u001b[0;31m---------------------------------------------------------------------------\u001b[0m",
      "\u001b[0;31mTypeError\u001b[0m                                 Traceback (most recent call last)",
      "\u001b[0;32m<ipython-input-64-4f2038c98f16>\u001b[0m in \u001b[0;36m<module>\u001b[0;34m()\u001b[0m\n\u001b[0;32m----> 1\u001b[0;31m \u001b[0;32mprint\u001b[0m\u001b[0;34m(\u001b[0m\u001b[0mfb_doc\u001b[0m\u001b[0;34m[\u001b[0m\u001b[0;34m'comments'\u001b[0m\u001b[0;34m]\u001b[0m\u001b[0;34m[\u001b[0m\u001b[0;34m[\u001b[0m\u001b[0;34m'id'\u001b[0m\u001b[0;34m,\u001b[0m \u001b[0;34m'type'\u001b[0m\u001b[0;34m]\u001b[0m\u001b[0;34m]\u001b[0m\u001b[0;34m)\u001b[0m\u001b[0;34m\u001b[0m\u001b[0m\n\u001b[0m",
      "\u001b[0;31mTypeError\u001b[0m: list indices must be integers, not list"
     ]
    }
   ],
   "source": [
    "print(fb_doc['comments'][['id', 'type']])\n"
   ]
  },
  {
   "cell_type": "code",
   "execution_count": 50,
   "metadata": {
    "collapsed": false
   },
   "outputs": [
    {
     "data": {
      "text/plain": [
       "[1309848959,\n",
       " 1309849057,\n",
       " 1309849767,\n",
       " 1309850542,\n",
       " 1309850769,\n",
       " 1309851125,\n",
       " 1309851473,\n",
       " 1309854537,\n",
       " 1309857937,\n",
       " 1309858311,\n",
       " 1309859171,\n",
       " 1309866725,\n",
       " 1309881190,\n",
       " 1309883315]"
      ]
     },
     "execution_count": 50,
     "metadata": {},
     "output_type": "execute_result"
    }
   ],
   "source": [
    "comments=fb_post['comments']\n",
    "\n",
    "[i['created_time'] for i in comments ]"
   ]
  },
  {
   "cell_type": "code",
   "execution_count": 98,
   "metadata": {
    "collapsed": false
   },
   "outputs": [
    {
     "ename": "KeyError",
     "evalue": "'likes'",
     "output_type": "error",
     "traceback": [
      "\u001b[1;31m---------------------------------------------------------------------------\u001b[0m",
      "\u001b[1;31mKeyError\u001b[0m                                  Traceback (most recent call last)",
      "\u001b[1;32m<ipython-input-98-2ee4ff5c1320>\u001b[0m in \u001b[0;36m<module>\u001b[1;34m()\u001b[0m\n\u001b[0;32m      1\u001b[0m x = [{'comments':(c['from']['id']) , 'comment_dt':c['created_time'], \n\u001b[1;32m----> 2\u001b[1;33m       'xxx':c['likes']} for c in fb_post['comments']]\n\u001b[0m",
      "\u001b[1;31mKeyError\u001b[0m: 'likes'"
     ]
    }
   ],
   "source": [
    "x = [{'comments':(c['from']['id']) , 'comment_dt':c['created_time'], \n",
    "      'xxx':c['likes']} for c in fb_post['comments']]"
   ]
  },
  {
   "cell_type": "code",
   "execution_count": 88,
   "metadata": {
    "collapsed": false
   },
   "outputs": [
    {
     "data": {
      "text/plain": [
       "[{'comment_dt': 1309848959, 'comments': '10209419390136084'},\n",
       " {'comment_dt': 1309849057, 'comments': '10209639462477072'},\n",
       " {'comment_dt': 1309849767, 'comments': '10211598646712057'},\n",
       " {'comment_dt': 1309850542, 'comments': '10212180453325241'},\n",
       " {'comment_dt': 1309850769, 'comments': '10209699898326288'},\n",
       " {'comment_dt': 1309851125, 'comments': '1557237740971350'},\n",
       " {'comment_dt': 1309851473, 'comments': '10206584548767353'},\n",
       " {'comment_dt': 1309854537, 'comments': '10211318220301717'},\n",
       " {'comment_dt': 1309857937, 'comments': '10207972606336031'},\n",
       " {'comment_dt': 1309858311, 'comments': '10154448460718208'},\n",
       " {'comment_dt': 1309859171, 'comments': '10207515377659199'},\n",
       " {'comment_dt': 1309866725, 'comments': '10210298695977988'},\n",
       " {'comment_dt': 1309881190, 'comments': '10210420577463300'},\n",
       " {'comment_dt': 1309883315, 'comments': '1366315270076516'}]"
      ]
     },
     "execution_count": 88,
     "metadata": {},
     "output_type": "execute_result"
    }
   ],
   "source": [
    "x"
   ]
  },
  {
   "cell_type": "code",
   "execution_count": 99,
   "metadata": {
    "collapsed": false
   },
   "outputs": [
    {
     "data": {
      "text/plain": [
       "[{'comment_count': 0,\n",
       "  'created_time': 1309848959,\n",
       "  'from': {'id': '10209419390136084', 'name': 'Ulrich van Draege'},\n",
       "  'id': '225981397436464_3316980',\n",
       "  'like_count': 4,\n",
       "  'likes': {'data': [{'id': '10210715480937145',\n",
       "     'link': 'https://www.facebook.com/app_scoped_user_id/10210715480937145/',\n",
       "     'name': 'Cathy Gosseye',\n",
       "     'pic': 'https://scontent.xx.fbcdn.net/v/t1.0-1/p100x100/10857843_10204923336937165_4275600864115090895_n.jpg?oh=8c603b4773b4cf82288e28e08db214f5&oe=59243073',\n",
       "     'picture': {'data': {'is_silhouette': False,\n",
       "       'url': 'https://scontent.xx.fbcdn.net/v/t1.0-1/p50x50/10857843_10204923336937165_4275600864115090895_n.jpg?oh=04d8fea925a52c8e97cdc722fdef3a77&oe=58DDEF07'}}},\n",
       "    {'id': '10208748154281568',\n",
       "     'link': 'https://www.facebook.com/app_scoped_user_id/10208748154281568/',\n",
       "     'name': 'Marleen Heirbaut',\n",
       "     'pic': 'https://scontent.xx.fbcdn.net/v/t1.0-1/p100x100/13901479_10207431804693651_6289610370897175619_n.jpg?oh=34bb38c92d3f35c861a776016915af75&oe=590DF0C7',\n",
       "     'picture': {'data': {'is_silhouette': False,\n",
       "       'url': 'https://scontent.xx.fbcdn.net/v/t1.0-1/p50x50/13901479_10207431804693651_6289610370897175619_n.jpg?oh=7d0bc1a1b140295688eb88e2ba10ef1f&oe=59105FB3'}}},\n",
       "    {'id': '10211605572916400',\n",
       "     'link': 'https://www.facebook.com/app_scoped_user_id/10211605572916400/',\n",
       "     'name': 'Lieve Moeyersoons',\n",
       "     'pic': 'https://scontent.xx.fbcdn.net/v/t1.0-1/p100x100/15219448_10211181489234573_6970982116347236425_n.jpg?oh=2d85a30100edcb5165bd59366cb77827&oe=59227C3D',\n",
       "     'picture': {'data': {'is_silhouette': False,\n",
       "       'url': 'https://scontent.xx.fbcdn.net/v/t1.0-1/p50x50/15219448_10211181489234573_6970982116347236425_n.jpg?oh=e93dc1d5efc7af2dfef2486ef239d310&oe=58D73949'}}},\n",
       "    {'id': '10211598356499601',\n",
       "     'link': 'https://www.facebook.com/app_scoped_user_id/10211598356499601/',\n",
       "     'name': 'Christine de Meester',\n",
       "     'pic': 'https://scontent.xx.fbcdn.net/v/t1.0-1/p100x100/16105775_10211611413306013_2924821283211115299_n.jpg?oh=9340432893cb317f706110cd27656afc&oe=591D0E42',\n",
       "     'picture': {'data': {'is_silhouette': False,\n",
       "       'url': 'https://scontent.xx.fbcdn.net/v/t1.0-1/p50x50/16105775_10211611413306013_2924821283211115299_n.jpg?oh=b0c9562242e6a293600818f1b51c6773&oe=59127936'}}}],\n",
       "   'paging': {'cursors': {'after': 'MTAyMTE1OTgzNTY0OTk2MDEZD',\n",
       "     'before': 'MTAyMTA3MTU0ODA5MzcxNDUZD'}}},\n",
       "  'message': 'als nen mens da al niemeer mag doen :p'},\n",
       " {'comment_count': 0,\n",
       "  'created_time': 1309849057,\n",
       "  'from': {'id': '10209639462477072', 'name': 'Chantal Van Laere'},\n",
       "  'id': '225981397436464_3316991',\n",
       "  'like_count': 0,\n",
       "  'message': 'amai, puriteinen opstap?'},\n",
       " {'comment_count': 0,\n",
       "  'created_time': 1309849767,\n",
       "  'from': {'id': '10211598646712057', 'name': 'Dirk L. Foubert'},\n",
       "  'id': '225981397436464_3317024',\n",
       "  'like_count': 0,\n",
       "  'message': 'ochere, ocharme.....'},\n",
       " {'comment_count': 0,\n",
       "  'created_time': 1309850542,\n",
       "  'from': {'id': '10212180453325241', 'name': 'Jos De Jonghe'},\n",
       "  'id': '225981397436464_3317066',\n",
       "  'like_count': 0,\n",
       "  'message': 'Je zal toch nooit zien wat ze niet heeft?.. Of is het precies om de camouflage te vervolledigen? Te perfectioneren?.. Neen, ik begrijp het volkomen. Bij zakelijke besprekingen moet de jager geen prooi zoeken... Eveneens waar is dat de prooi ook geen lokaas moet uitzetten om de jager te \"misleiden\"...'},\n",
       " {'comment_count': 0,\n",
       "  'created_time': 1309850769,\n",
       "  'from': {'id': '10209699898326288', 'name': 'William De Groote'},\n",
       "  'id': '225981397436464_3317100',\n",
       "  'like_count': 1,\n",
       "  'likes': {'data': [{'id': '10207972606336031',\n",
       "     'link': 'https://www.facebook.com/app_scoped_user_id/10207972606336031/',\n",
       "     'name': 'Jessica Kellers',\n",
       "     'pic': 'https://scontent.xx.fbcdn.net/v/t1.0-1/p100x100/15894596_10207956060762402_2629548848096583724_n.jpg?oh=59a65393cde332f1f54b9389a9af3da5&oe=59182B94',\n",
       "     'picture': {'data': {'is_silhouette': False,\n",
       "       'url': 'https://scontent.xx.fbcdn.net/v/t1.0-1/p50x50/15894596_10207956060762402_2629548848096583724_n.jpg?oh=0b89c8d8bd2b66855f69cc9ebd1b5f30&oe=5911A0E0'}}}],\n",
       "   'paging': {'cursors': {'after': 'MTAyMDc5NzI2MDYzMzYwMzEZD',\n",
       "     'before': 'MTAyMDc5NzI2MDYzMzYwMzEZD'}}},\n",
       "  'message': 'pff wat een trut...'},\n",
       " {'comment_count': 0,\n",
       "  'created_time': 1309851125,\n",
       "  'from': {'id': '1557237740971350', 'name': 'Yo Dhaese'},\n",
       "  'id': '225981397436464_3317206',\n",
       "  'like_count': 1,\n",
       "  'likes': {'data': [{'id': '10210420577463300',\n",
       "     'link': 'https://www.facebook.com/app_scoped_user_id/10210420577463300/',\n",
       "     'name': 'Joaquin Adan Adan',\n",
       "     'pic': 'https://scontent.xx.fbcdn.net/v/t1.0-1/s100x100/15966192_10210441559907848_4815060662907336841_n.jpg?oh=75e8a6bd0dd6948144ca6e063f432744&oe=5922347F',\n",
       "     'picture': {'data': {'is_silhouette': False,\n",
       "       'url': 'https://scontent.xx.fbcdn.net/v/t1.0-1/p50x50/15966192_10210441559907848_4815060662907336841_n.jpg?oh=24a85462f5a999c658a949a788cb0aa9&oe=590BB94A'}}}],\n",
       "   'paging': {'cursors': {'after': 'MTAyMTA0MjA1Nzc0NjMzMDAZD',\n",
       "     'before': 'MTAyMTA0MjA1Nzc0NjMzMDAZD'}}},\n",
       "  'message': 'daar mag je alleen maar  naar kijken maar aankomen niet, dus ook verleden tijd!'},\n",
       " {'comment_count': 0,\n",
       "  'created_time': 1309851473,\n",
       "  'from': {'id': '10206584548767353', 'name': 'Rocco Logie'},\n",
       "  'id': '225981397436464_3317299',\n",
       "  'like_count': 1,\n",
       "  'likes': {'data': [{'id': '10208748154281568',\n",
       "     'link': 'https://www.facebook.com/app_scoped_user_id/10208748154281568/',\n",
       "     'name': 'Marleen Heirbaut',\n",
       "     'pic': 'https://scontent.xx.fbcdn.net/v/t1.0-1/p100x100/13901479_10207431804693651_6289610370897175619_n.jpg?oh=34bb38c92d3f35c861a776016915af75&oe=590DF0C7',\n",
       "     'picture': {'data': {'is_silhouette': False,\n",
       "       'url': 'https://scontent.xx.fbcdn.net/v/t1.0-1/p50x50/13901479_10207431804693651_6289610370897175619_n.jpg?oh=7d0bc1a1b140295688eb88e2ba10ef1f&oe=59105FB3'}}}],\n",
       "   'paging': {'cursors': {'after': 'MTAyMDg3NDgxNTQyODE1NjgZD',\n",
       "     'before': 'MTAyMDg3NDgxNTQyODE1NjgZD'}}},\n",
       "  'message': 'niets mag we nog en we zijn juist gezond lol'},\n",
       " {'comment_count': 0,\n",
       "  'created_time': 1309854537,\n",
       "  'from': {'id': '10211318220301717', 'name': 'Bruyndonckx Marc'},\n",
       "  'id': '225981397436464_3317596',\n",
       "  'like_count': 0,\n",
       "  'message': 'seut'},\n",
       " {'comment_count': 0,\n",
       "  'created_time': 1309857937,\n",
       "  'from': {'id': '10207972606336031', 'name': 'Jessica Kellers'},\n",
       "  'id': '225981397436464_3317768',\n",
       "  'like_count': 1,\n",
       "  'likes': {'data': [{'id': '10211598646712057',\n",
       "     'link': 'https://www.facebook.com/app_scoped_user_id/10211598646712057/',\n",
       "     'name': 'Dirk L. Foubert',\n",
       "     'pic': 'https://scontent.xx.fbcdn.net/v/t1.0-1/s100x100/395081_4682131621575_1558881924_n.jpg?oh=69e9d143922871e4134a521a4e48ab16&oe=59245359',\n",
       "     'picture': {'data': {'is_silhouette': False,\n",
       "       'url': 'https://scontent.xx.fbcdn.net/v/t1.0-1/c113.33.414.414/s50x50/395081_4682131621575_1558881924_n.jpg?oh=7fa153bd71ed971aa83d432606f6cd43&oe=58DB5A45'}}}],\n",
       "   'paging': {'cursors': {'after': 'MTAyMTE1OTg2NDY3MTIwNTcZD',\n",
       "     'before': 'MTAyMTE1OTg2NDY3MTIwNTcZD'}}},\n",
       "  'message': 'volgende stap:burka?'},\n",
       " {'comment_count': 0,\n",
       "  'created_time': 1309858311,\n",
       "  'from': {'id': '10154448460718208', 'name': 'Kenneth Deryckere'},\n",
       "  'id': '225981397436464_3317789',\n",
       "  'like_count': 1,\n",
       "  'likes': {'data': [{'id': '10211598646712057',\n",
       "     'link': 'https://www.facebook.com/app_scoped_user_id/10211598646712057/',\n",
       "     'name': 'Dirk L. Foubert',\n",
       "     'pic': 'https://scontent.xx.fbcdn.net/v/t1.0-1/s100x100/395081_4682131621575_1558881924_n.jpg?oh=69e9d143922871e4134a521a4e48ab16&oe=59245359',\n",
       "     'picture': {'data': {'is_silhouette': False,\n",
       "       'url': 'https://scontent.xx.fbcdn.net/v/t1.0-1/c113.33.414.414/s50x50/395081_4682131621575_1558881924_n.jpg?oh=7fa153bd71ed971aa83d432606f6cd43&oe=58DB5A45'}}}],\n",
       "   'paging': {'cursors': {'after': 'MTAyMTE1OTg2NDY3MTIwNTcZD',\n",
       "     'before': 'MTAyMTE1OTg2NDY3MTIwNTcZD'}}},\n",
       "  'message': 'the end of an area :( wat een trut!'},\n",
       " {'comment_count': 0,\n",
       "  'created_time': 1309859171,\n",
       "  'from': {'id': '10207515377659199', 'name': 'Bart Ravyts'},\n",
       "  'id': '225981397436464_3317838',\n",
       "  'like_count': 0,\n",
       "  'message': 'Spijtig ;)'},\n",
       " {'comment_count': 0,\n",
       "  'created_time': 1309866725,\n",
       "  'from': {'id': '10210298695977988', 'name': 'Gino Callewaert'},\n",
       "  'id': '225981397436464_3318223',\n",
       "  'like_count': 0,\n",
       "  'message': \"'vind ik niet leuk'\"},\n",
       " {'comment_count': 0,\n",
       "  'created_time': 1309881190,\n",
       "  'from': {'id': '10210420577463300', 'name': 'Joaquin Adan Adan'},\n",
       "  'id': '225981397436464_3319172',\n",
       "  'like_count': 0,\n",
       "  'message': 'Aleez ni goe,ben weg,ga even naar de naaktstrand.'},\n",
       " {'comment_count': 0,\n",
       "  'created_time': 1309883315,\n",
       "  'from': {'id': '1366315270076516', 'name': 'Luc van den Broecke'},\n",
       "  'id': '225981397436464_3319349',\n",
       "  'like_count': 0,\n",
       "  'message': 'komt weer uit het puritainse amerika'}]"
      ]
     },
     "execution_count": 99,
     "metadata": {},
     "output_type": "execute_result"
    }
   ],
   "source": [
    "fb_post['comments']\n"
   ]
  },
  {
   "cell_type": "code",
   "execution_count": 94,
   "metadata": {
    "collapsed": false
   },
   "outputs": [],
   "source": [
    "dl2 = {key:[item[key] for item in x] for key in x[0].keys() }"
   ]
  },
  {
   "cell_type": "code",
   "execution_count": 95,
   "metadata": {
    "collapsed": false
   },
   "outputs": [
    {
     "data": {
      "text/plain": [
       "{'comment_dt': [1309848959,\n",
       "  1309849057,\n",
       "  1309849767,\n",
       "  1309850542,\n",
       "  1309850769,\n",
       "  1309851125,\n",
       "  1309851473,\n",
       "  1309854537,\n",
       "  1309857937,\n",
       "  1309858311,\n",
       "  1309859171,\n",
       "  1309866725,\n",
       "  1309881190,\n",
       "  1309883315],\n",
       " 'comments': ['10209419390136084',\n",
       "  '10209639462477072',\n",
       "  '10211598646712057',\n",
       "  '10212180453325241',\n",
       "  '10209699898326288',\n",
       "  '1557237740971350',\n",
       "  '10206584548767353',\n",
       "  '10211318220301717',\n",
       "  '10207972606336031',\n",
       "  '10154448460718208',\n",
       "  '10207515377659199',\n",
       "  '10210298695977988',\n",
       "  '10210420577463300',\n",
       "  '1366315270076516']}"
      ]
     },
     "execution_count": 95,
     "metadata": {},
     "output_type": "execute_result"
    }
   ],
   "source": [
    "dl2"
   ]
  },
  {
   "cell_type": "code",
   "execution_count": null,
   "metadata": {
    "collapsed": true
   },
   "outputs": [],
   "source": []
  },
  {
   "cell_type": "code",
   "execution_count": 43,
   "metadata": {
    "collapsed": false
   },
   "outputs": [
    {
     "name": "stdout",
     "output_type": "stream",
     "text": [
      "['10209419390136084', '10209639462477072', '10211598646712057', '10212180453325241', '10209699898326288', '1557237740971350', '10206584548767353', '10211318220301717', '10207972606336031', '10154448460718208', '10207515377659199', '10210298695977988', '10210420577463300', '1366315270076516']\n"
     ]
    }
   ],
   "source": [
    "print [k['id'] for k in df['from']]\n"
   ]
  },
  {
   "cell_type": "code",
   "execution_count": 37,
   "metadata": {
    "collapsed": false
   },
   "outputs": [
    {
     "ename": "KeyError",
     "evalue": "'type'",
     "output_type": "error",
     "traceback": [
      "\u001b[1;31m---------------------------------------------------------------------------\u001b[0m",
      "\u001b[1;31mKeyError\u001b[0m                                  Traceback (most recent call last)",
      "\u001b[1;32m<ipython-input-37-96a453a08a01>\u001b[0m in \u001b[0;36m<module>\u001b[1;34m()\u001b[0m\n\u001b[1;32m----> 1\u001b[1;33m \u001b[1;32mfor\u001b[0m \u001b[0mk\u001b[0m\u001b[1;33m,\u001b[0m \u001b[0mv\u001b[0m \u001b[1;32min\u001b[0m \u001b[0mdf\u001b[0m\u001b[1;33m.\u001b[0m\u001b[0mgroupby\u001b[0m\u001b[1;33m(\u001b[0m\u001b[1;34m'type'\u001b[0m\u001b[1;33m)\u001b[0m\u001b[1;33m[\u001b[0m\u001b[1;34m'id'\u001b[0m\u001b[1;33m]\u001b[0m\u001b[1;33m:\u001b[0m\u001b[1;33m\u001b[0m\u001b[0m\n\u001b[0m\u001b[0;32m      2\u001b[0m \u001b[1;31m#     print type(k),type(v)\u001b[0m\u001b[1;33m\u001b[0m\u001b[1;33m\u001b[0m\u001b[0m\n\u001b[0;32m      3\u001b[0m     \u001b[1;32mprint\u001b[0m \u001b[0mk\u001b[0m\u001b[1;33m,\u001b[0m\u001b[0mv\u001b[0m\u001b[1;33m.\u001b[0m\u001b[0mas_matrix\u001b[0m\u001b[1;33m(\u001b[0m\u001b[1;33m)\u001b[0m\u001b[1;33m\u001b[0m\u001b[0m\n",
      "\u001b[1;32m/home/marc/DATA/.virtualenv/ml/local/lib/python2.7/site-packages/pandas/core/generic.pyc\u001b[0m in \u001b[0;36mgroupby\u001b[1;34m(self, by, axis, level, as_index, sort, group_keys, squeeze, **kwargs)\u001b[0m\n\u001b[0;32m   3776\u001b[0m         return groupby(self, by=by, axis=axis, level=level, as_index=as_index,\n\u001b[0;32m   3777\u001b[0m                        \u001b[0msort\u001b[0m\u001b[1;33m=\u001b[0m\u001b[0msort\u001b[0m\u001b[1;33m,\u001b[0m \u001b[0mgroup_keys\u001b[0m\u001b[1;33m=\u001b[0m\u001b[0mgroup_keys\u001b[0m\u001b[1;33m,\u001b[0m \u001b[0msqueeze\u001b[0m\u001b[1;33m=\u001b[0m\u001b[0msqueeze\u001b[0m\u001b[1;33m,\u001b[0m\u001b[1;33m\u001b[0m\u001b[0m\n\u001b[1;32m-> 3778\u001b[1;33m                        **kwargs)\n\u001b[0m\u001b[0;32m   3779\u001b[0m \u001b[1;33m\u001b[0m\u001b[0m\n\u001b[0;32m   3780\u001b[0m     \u001b[1;32mdef\u001b[0m \u001b[0masfreq\u001b[0m\u001b[1;33m(\u001b[0m\u001b[0mself\u001b[0m\u001b[1;33m,\u001b[0m \u001b[0mfreq\u001b[0m\u001b[1;33m,\u001b[0m \u001b[0mmethod\u001b[0m\u001b[1;33m=\u001b[0m\u001b[0mNone\u001b[0m\u001b[1;33m,\u001b[0m \u001b[0mhow\u001b[0m\u001b[1;33m=\u001b[0m\u001b[0mNone\u001b[0m\u001b[1;33m,\u001b[0m \u001b[0mnormalize\u001b[0m\u001b[1;33m=\u001b[0m\u001b[0mFalse\u001b[0m\u001b[1;33m)\u001b[0m\u001b[1;33m:\u001b[0m\u001b[1;33m\u001b[0m\u001b[0m\n",
      "\u001b[1;32m/home/marc/DATA/.virtualenv/ml/local/lib/python2.7/site-packages/pandas/core/groupby.pyc\u001b[0m in \u001b[0;36mgroupby\u001b[1;34m(obj, by, **kwds)\u001b[0m\n\u001b[0;32m   1425\u001b[0m         \u001b[1;32mraise\u001b[0m \u001b[0mTypeError\u001b[0m\u001b[1;33m(\u001b[0m\u001b[1;34m'invalid type: %s'\u001b[0m \u001b[1;33m%\u001b[0m \u001b[0mtype\u001b[0m\u001b[1;33m(\u001b[0m\u001b[0mobj\u001b[0m\u001b[1;33m)\u001b[0m\u001b[1;33m)\u001b[0m\u001b[1;33m\u001b[0m\u001b[0m\n\u001b[0;32m   1426\u001b[0m \u001b[1;33m\u001b[0m\u001b[0m\n\u001b[1;32m-> 1427\u001b[1;33m     \u001b[1;32mreturn\u001b[0m \u001b[0mklass\u001b[0m\u001b[1;33m(\u001b[0m\u001b[0mobj\u001b[0m\u001b[1;33m,\u001b[0m \u001b[0mby\u001b[0m\u001b[1;33m,\u001b[0m \u001b[1;33m**\u001b[0m\u001b[0mkwds\u001b[0m\u001b[1;33m)\u001b[0m\u001b[1;33m\u001b[0m\u001b[0m\n\u001b[0m\u001b[0;32m   1428\u001b[0m \u001b[1;33m\u001b[0m\u001b[0m\n\u001b[0;32m   1429\u001b[0m \u001b[1;33m\u001b[0m\u001b[0m\n",
      "\u001b[1;32m/home/marc/DATA/.virtualenv/ml/local/lib/python2.7/site-packages/pandas/core/groupby.pyc\u001b[0m in \u001b[0;36m__init__\u001b[1;34m(self, obj, keys, axis, level, grouper, exclusions, selection, as_index, sort, group_keys, squeeze, **kwargs)\u001b[0m\n\u001b[0;32m    352\u001b[0m                                                     \u001b[0mlevel\u001b[0m\u001b[1;33m=\u001b[0m\u001b[0mlevel\u001b[0m\u001b[1;33m,\u001b[0m\u001b[1;33m\u001b[0m\u001b[0m\n\u001b[0;32m    353\u001b[0m                                                     \u001b[0msort\u001b[0m\u001b[1;33m=\u001b[0m\u001b[0msort\u001b[0m\u001b[1;33m,\u001b[0m\u001b[1;33m\u001b[0m\u001b[0m\n\u001b[1;32m--> 354\u001b[1;33m                                                     mutated=self.mutated)\n\u001b[0m\u001b[0;32m    355\u001b[0m \u001b[1;33m\u001b[0m\u001b[0m\n\u001b[0;32m    356\u001b[0m         \u001b[0mself\u001b[0m\u001b[1;33m.\u001b[0m\u001b[0mobj\u001b[0m \u001b[1;33m=\u001b[0m \u001b[0mobj\u001b[0m\u001b[1;33m\u001b[0m\u001b[0m\n",
      "\u001b[1;32m/home/marc/DATA/.virtualenv/ml/local/lib/python2.7/site-packages/pandas/core/groupby.pyc\u001b[0m in \u001b[0;36m_get_grouper\u001b[1;34m(obj, key, axis, level, sort, mutated)\u001b[0m\n\u001b[0;32m   2381\u001b[0m \u001b[1;33m\u001b[0m\u001b[0m\n\u001b[0;32m   2382\u001b[0m         \u001b[1;32melif\u001b[0m \u001b[0mis_in_axis\u001b[0m\u001b[1;33m(\u001b[0m\u001b[0mgpr\u001b[0m\u001b[1;33m)\u001b[0m\u001b[1;33m:\u001b[0m  \u001b[1;31m# df.groupby('name')\u001b[0m\u001b[1;33m\u001b[0m\u001b[0m\n\u001b[1;32m-> 2383\u001b[1;33m             \u001b[0min_axis\u001b[0m\u001b[1;33m,\u001b[0m \u001b[0mname\u001b[0m\u001b[1;33m,\u001b[0m \u001b[0mgpr\u001b[0m \u001b[1;33m=\u001b[0m \u001b[0mTrue\u001b[0m\u001b[1;33m,\u001b[0m \u001b[0mgpr\u001b[0m\u001b[1;33m,\u001b[0m \u001b[0mobj\u001b[0m\u001b[1;33m[\u001b[0m\u001b[0mgpr\u001b[0m\u001b[1;33m]\u001b[0m\u001b[1;33m\u001b[0m\u001b[0m\n\u001b[0m\u001b[0;32m   2384\u001b[0m             \u001b[0mexclusions\u001b[0m\u001b[1;33m.\u001b[0m\u001b[0mappend\u001b[0m\u001b[1;33m(\u001b[0m\u001b[0mname\u001b[0m\u001b[1;33m)\u001b[0m\u001b[1;33m\u001b[0m\u001b[0m\n\u001b[0;32m   2385\u001b[0m \u001b[1;33m\u001b[0m\u001b[0m\n",
      "\u001b[1;32m/home/marc/DATA/.virtualenv/ml/local/lib/python2.7/site-packages/pandas/core/frame.pyc\u001b[0m in \u001b[0;36m__getitem__\u001b[1;34m(self, key)\u001b[0m\n\u001b[0;32m   1995\u001b[0m             \u001b[1;32mreturn\u001b[0m \u001b[0mself\u001b[0m\u001b[1;33m.\u001b[0m\u001b[0m_getitem_multilevel\u001b[0m\u001b[1;33m(\u001b[0m\u001b[0mkey\u001b[0m\u001b[1;33m)\u001b[0m\u001b[1;33m\u001b[0m\u001b[0m\n\u001b[0;32m   1996\u001b[0m         \u001b[1;32melse\u001b[0m\u001b[1;33m:\u001b[0m\u001b[1;33m\u001b[0m\u001b[0m\n\u001b[1;32m-> 1997\u001b[1;33m             \u001b[1;32mreturn\u001b[0m \u001b[0mself\u001b[0m\u001b[1;33m.\u001b[0m\u001b[0m_getitem_column\u001b[0m\u001b[1;33m(\u001b[0m\u001b[0mkey\u001b[0m\u001b[1;33m)\u001b[0m\u001b[1;33m\u001b[0m\u001b[0m\n\u001b[0m\u001b[0;32m   1998\u001b[0m \u001b[1;33m\u001b[0m\u001b[0m\n\u001b[0;32m   1999\u001b[0m     \u001b[1;32mdef\u001b[0m \u001b[0m_getitem_column\u001b[0m\u001b[1;33m(\u001b[0m\u001b[0mself\u001b[0m\u001b[1;33m,\u001b[0m \u001b[0mkey\u001b[0m\u001b[1;33m)\u001b[0m\u001b[1;33m:\u001b[0m\u001b[1;33m\u001b[0m\u001b[0m\n",
      "\u001b[1;32m/home/marc/DATA/.virtualenv/ml/local/lib/python2.7/site-packages/pandas/core/frame.pyc\u001b[0m in \u001b[0;36m_getitem_column\u001b[1;34m(self, key)\u001b[0m\n\u001b[0;32m   2002\u001b[0m         \u001b[1;31m# get column\u001b[0m\u001b[1;33m\u001b[0m\u001b[1;33m\u001b[0m\u001b[0m\n\u001b[0;32m   2003\u001b[0m         \u001b[1;32mif\u001b[0m \u001b[0mself\u001b[0m\u001b[1;33m.\u001b[0m\u001b[0mcolumns\u001b[0m\u001b[1;33m.\u001b[0m\u001b[0mis_unique\u001b[0m\u001b[1;33m:\u001b[0m\u001b[1;33m\u001b[0m\u001b[0m\n\u001b[1;32m-> 2004\u001b[1;33m             \u001b[1;32mreturn\u001b[0m \u001b[0mself\u001b[0m\u001b[1;33m.\u001b[0m\u001b[0m_get_item_cache\u001b[0m\u001b[1;33m(\u001b[0m\u001b[0mkey\u001b[0m\u001b[1;33m)\u001b[0m\u001b[1;33m\u001b[0m\u001b[0m\n\u001b[0m\u001b[0;32m   2005\u001b[0m \u001b[1;33m\u001b[0m\u001b[0m\n\u001b[0;32m   2006\u001b[0m         \u001b[1;31m# duplicate columns & possible reduce dimensionality\u001b[0m\u001b[1;33m\u001b[0m\u001b[1;33m\u001b[0m\u001b[0m\n",
      "\u001b[1;32m/home/marc/DATA/.virtualenv/ml/local/lib/python2.7/site-packages/pandas/core/generic.pyc\u001b[0m in \u001b[0;36m_get_item_cache\u001b[1;34m(self, item)\u001b[0m\n\u001b[0;32m   1348\u001b[0m         \u001b[0mres\u001b[0m \u001b[1;33m=\u001b[0m \u001b[0mcache\u001b[0m\u001b[1;33m.\u001b[0m\u001b[0mget\u001b[0m\u001b[1;33m(\u001b[0m\u001b[0mitem\u001b[0m\u001b[1;33m)\u001b[0m\u001b[1;33m\u001b[0m\u001b[0m\n\u001b[0;32m   1349\u001b[0m         \u001b[1;32mif\u001b[0m \u001b[0mres\u001b[0m \u001b[1;32mis\u001b[0m \u001b[0mNone\u001b[0m\u001b[1;33m:\u001b[0m\u001b[1;33m\u001b[0m\u001b[0m\n\u001b[1;32m-> 1350\u001b[1;33m             \u001b[0mvalues\u001b[0m \u001b[1;33m=\u001b[0m \u001b[0mself\u001b[0m\u001b[1;33m.\u001b[0m\u001b[0m_data\u001b[0m\u001b[1;33m.\u001b[0m\u001b[0mget\u001b[0m\u001b[1;33m(\u001b[0m\u001b[0mitem\u001b[0m\u001b[1;33m)\u001b[0m\u001b[1;33m\u001b[0m\u001b[0m\n\u001b[0m\u001b[0;32m   1351\u001b[0m             \u001b[0mres\u001b[0m \u001b[1;33m=\u001b[0m \u001b[0mself\u001b[0m\u001b[1;33m.\u001b[0m\u001b[0m_box_item_values\u001b[0m\u001b[1;33m(\u001b[0m\u001b[0mitem\u001b[0m\u001b[1;33m,\u001b[0m \u001b[0mvalues\u001b[0m\u001b[1;33m)\u001b[0m\u001b[1;33m\u001b[0m\u001b[0m\n\u001b[0;32m   1352\u001b[0m             \u001b[0mcache\u001b[0m\u001b[1;33m[\u001b[0m\u001b[0mitem\u001b[0m\u001b[1;33m]\u001b[0m \u001b[1;33m=\u001b[0m \u001b[0mres\u001b[0m\u001b[1;33m\u001b[0m\u001b[0m\n",
      "\u001b[1;32m/home/marc/DATA/.virtualenv/ml/local/lib/python2.7/site-packages/pandas/core/internals.pyc\u001b[0m in \u001b[0;36mget\u001b[1;34m(self, item, fastpath)\u001b[0m\n\u001b[0;32m   3288\u001b[0m \u001b[1;33m\u001b[0m\u001b[0m\n\u001b[0;32m   3289\u001b[0m             \u001b[1;32mif\u001b[0m \u001b[1;32mnot\u001b[0m \u001b[0misnull\u001b[0m\u001b[1;33m(\u001b[0m\u001b[0mitem\u001b[0m\u001b[1;33m)\u001b[0m\u001b[1;33m:\u001b[0m\u001b[1;33m\u001b[0m\u001b[0m\n\u001b[1;32m-> 3290\u001b[1;33m                 \u001b[0mloc\u001b[0m \u001b[1;33m=\u001b[0m \u001b[0mself\u001b[0m\u001b[1;33m.\u001b[0m\u001b[0mitems\u001b[0m\u001b[1;33m.\u001b[0m\u001b[0mget_loc\u001b[0m\u001b[1;33m(\u001b[0m\u001b[0mitem\u001b[0m\u001b[1;33m)\u001b[0m\u001b[1;33m\u001b[0m\u001b[0m\n\u001b[0m\u001b[0;32m   3291\u001b[0m             \u001b[1;32melse\u001b[0m\u001b[1;33m:\u001b[0m\u001b[1;33m\u001b[0m\u001b[0m\n\u001b[0;32m   3292\u001b[0m                 \u001b[0mindexer\u001b[0m \u001b[1;33m=\u001b[0m \u001b[0mnp\u001b[0m\u001b[1;33m.\u001b[0m\u001b[0marange\u001b[0m\u001b[1;33m(\u001b[0m\u001b[0mlen\u001b[0m\u001b[1;33m(\u001b[0m\u001b[0mself\u001b[0m\u001b[1;33m.\u001b[0m\u001b[0mitems\u001b[0m\u001b[1;33m)\u001b[0m\u001b[1;33m)\u001b[0m\u001b[1;33m[\u001b[0m\u001b[0misnull\u001b[0m\u001b[1;33m(\u001b[0m\u001b[0mself\u001b[0m\u001b[1;33m.\u001b[0m\u001b[0mitems\u001b[0m\u001b[1;33m)\u001b[0m\u001b[1;33m]\u001b[0m\u001b[1;33m\u001b[0m\u001b[0m\n",
      "\u001b[1;32m/home/marc/DATA/.virtualenv/ml/local/lib/python2.7/site-packages/pandas/indexes/base.pyc\u001b[0m in \u001b[0;36mget_loc\u001b[1;34m(self, key, method, tolerance)\u001b[0m\n\u001b[0;32m   1945\u001b[0m                 \u001b[1;32mreturn\u001b[0m \u001b[0mself\u001b[0m\u001b[1;33m.\u001b[0m\u001b[0m_engine\u001b[0m\u001b[1;33m.\u001b[0m\u001b[0mget_loc\u001b[0m\u001b[1;33m(\u001b[0m\u001b[0mkey\u001b[0m\u001b[1;33m)\u001b[0m\u001b[1;33m\u001b[0m\u001b[0m\n\u001b[0;32m   1946\u001b[0m             \u001b[1;32mexcept\u001b[0m \u001b[0mKeyError\u001b[0m\u001b[1;33m:\u001b[0m\u001b[1;33m\u001b[0m\u001b[0m\n\u001b[1;32m-> 1947\u001b[1;33m                 \u001b[1;32mreturn\u001b[0m \u001b[0mself\u001b[0m\u001b[1;33m.\u001b[0m\u001b[0m_engine\u001b[0m\u001b[1;33m.\u001b[0m\u001b[0mget_loc\u001b[0m\u001b[1;33m(\u001b[0m\u001b[0mself\u001b[0m\u001b[1;33m.\u001b[0m\u001b[0m_maybe_cast_indexer\u001b[0m\u001b[1;33m(\u001b[0m\u001b[0mkey\u001b[0m\u001b[1;33m)\u001b[0m\u001b[1;33m)\u001b[0m\u001b[1;33m\u001b[0m\u001b[0m\n\u001b[0m\u001b[0;32m   1948\u001b[0m \u001b[1;33m\u001b[0m\u001b[0m\n\u001b[0;32m   1949\u001b[0m         \u001b[0mindexer\u001b[0m \u001b[1;33m=\u001b[0m \u001b[0mself\u001b[0m\u001b[1;33m.\u001b[0m\u001b[0mget_indexer\u001b[0m\u001b[1;33m(\u001b[0m\u001b[1;33m[\u001b[0m\u001b[0mkey\u001b[0m\u001b[1;33m]\u001b[0m\u001b[1;33m,\u001b[0m \u001b[0mmethod\u001b[0m\u001b[1;33m=\u001b[0m\u001b[0mmethod\u001b[0m\u001b[1;33m,\u001b[0m \u001b[0mtolerance\u001b[0m\u001b[1;33m=\u001b[0m\u001b[0mtolerance\u001b[0m\u001b[1;33m)\u001b[0m\u001b[1;33m\u001b[0m\u001b[0m\n",
      "\u001b[1;32mpandas/index.pyx\u001b[0m in \u001b[0;36mpandas.index.IndexEngine.get_loc (pandas/index.c:4154)\u001b[1;34m()\u001b[0m\n",
      "\u001b[1;32mpandas/index.pyx\u001b[0m in \u001b[0;36mpandas.index.IndexEngine.get_loc (pandas/index.c:4018)\u001b[1;34m()\u001b[0m\n",
      "\u001b[1;32mpandas/hashtable.pyx\u001b[0m in \u001b[0;36mpandas.hashtable.PyObjectHashTable.get_item (pandas/hashtable.c:12368)\u001b[1;34m()\u001b[0m\n",
      "\u001b[1;32mpandas/hashtable.pyx\u001b[0m in \u001b[0;36mpandas.hashtable.PyObjectHashTable.get_item (pandas/hashtable.c:12322)\u001b[1;34m()\u001b[0m\n",
      "\u001b[1;31mKeyError\u001b[0m: 'type'"
     ]
    }
   ],
   "source": [
    "for k, v in df.groupby('type')['id']:\n",
    "#     print type(k),type(v)\n",
    "    print k,v.as_matrix()"
   ]
  },
  {
   "cell_type": "code",
   "execution_count": null,
   "metadata": {
    "collapsed": true
   },
   "outputs": [],
   "source": []
  },
  {
   "cell_type": "code",
   "execution_count": null,
   "metadata": {
    "collapsed": true
   },
   "outputs": [],
   "source": []
  },
  {
   "cell_type": "code",
   "execution_count": 92,
   "metadata": {
    "collapsed": true
   },
   "outputs": [],
   "source": [
    "_types = ['like', 'love', 'haha', 'sad', 'angry','comments','comments_like']\n",
    "_val = [[]] * len(_types)\n",
    "people = dict(zip(_types, _val))"
   ]
  },
  {
   "cell_type": "code",
   "execution_count": 93,
   "metadata": {
    "collapsed": false
   },
   "outputs": [
    {
     "data": {
      "text/plain": [
       "{'angry': [],\n",
       " 'comments': [],\n",
       " 'comments_like': [],\n",
       " 'haha': [],\n",
       " 'like': [],\n",
       " 'love': [],\n",
       " 'sad': []}"
      ]
     },
     "execution_count": 93,
     "metadata": {},
     "output_type": "execute_result"
    }
   ],
   "source": [
    "people"
   ]
  },
  {
   "cell_type": "code",
   "execution_count": 45,
   "metadata": {
    "collapsed": true
   },
   "outputs": [
    {
     "ename": "KeyError",
     "evalue": "'type'",
     "output_type": "error",
     "traceback": [
      "\u001b[1;31m---------------------------------------------------------------------------\u001b[0m",
      "\u001b[1;31mKeyError\u001b[0m                                  Traceback (most recent call last)",
      "\u001b[1;32m<ipython-input-45-8b32f8967e66>\u001b[0m in \u001b[0;36m<module>\u001b[1;34m()\u001b[0m\n\u001b[1;32m----> 1\u001b[1;33m \u001b[0mdf\u001b[0m\u001b[1;33m[\u001b[0m\u001b[1;34m'type'\u001b[0m\u001b[1;33m]\u001b[0m\u001b[1;33m=\u001b[0m \u001b[0mdf\u001b[0m\u001b[1;33m[\u001b[0m\u001b[1;34m'type'\u001b[0m\u001b[1;33m]\u001b[0m\u001b[1;33m.\u001b[0m\u001b[0mstr\u001b[0m\u001b[1;33m.\u001b[0m\u001b[0mlower\u001b[0m\u001b[1;33m(\u001b[0m\u001b[1;33m)\u001b[0m\u001b[1;33m\u001b[0m\u001b[0m\n\u001b[0m",
      "\u001b[1;32m/home/marc/DATA/.virtualenv/ml/local/lib/python2.7/site-packages/pandas/core/frame.pyc\u001b[0m in \u001b[0;36m__getitem__\u001b[1;34m(self, key)\u001b[0m\n\u001b[0;32m   1995\u001b[0m             \u001b[1;32mreturn\u001b[0m \u001b[0mself\u001b[0m\u001b[1;33m.\u001b[0m\u001b[0m_getitem_multilevel\u001b[0m\u001b[1;33m(\u001b[0m\u001b[0mkey\u001b[0m\u001b[1;33m)\u001b[0m\u001b[1;33m\u001b[0m\u001b[0m\n\u001b[0;32m   1996\u001b[0m         \u001b[1;32melse\u001b[0m\u001b[1;33m:\u001b[0m\u001b[1;33m\u001b[0m\u001b[0m\n\u001b[1;32m-> 1997\u001b[1;33m             \u001b[1;32mreturn\u001b[0m \u001b[0mself\u001b[0m\u001b[1;33m.\u001b[0m\u001b[0m_getitem_column\u001b[0m\u001b[1;33m(\u001b[0m\u001b[0mkey\u001b[0m\u001b[1;33m)\u001b[0m\u001b[1;33m\u001b[0m\u001b[0m\n\u001b[0m\u001b[0;32m   1998\u001b[0m \u001b[1;33m\u001b[0m\u001b[0m\n\u001b[0;32m   1999\u001b[0m     \u001b[1;32mdef\u001b[0m \u001b[0m_getitem_column\u001b[0m\u001b[1;33m(\u001b[0m\u001b[0mself\u001b[0m\u001b[1;33m,\u001b[0m \u001b[0mkey\u001b[0m\u001b[1;33m)\u001b[0m\u001b[1;33m:\u001b[0m\u001b[1;33m\u001b[0m\u001b[0m\n",
      "\u001b[1;32m/home/marc/DATA/.virtualenv/ml/local/lib/python2.7/site-packages/pandas/core/frame.pyc\u001b[0m in \u001b[0;36m_getitem_column\u001b[1;34m(self, key)\u001b[0m\n\u001b[0;32m   2002\u001b[0m         \u001b[1;31m# get column\u001b[0m\u001b[1;33m\u001b[0m\u001b[1;33m\u001b[0m\u001b[0m\n\u001b[0;32m   2003\u001b[0m         \u001b[1;32mif\u001b[0m \u001b[0mself\u001b[0m\u001b[1;33m.\u001b[0m\u001b[0mcolumns\u001b[0m\u001b[1;33m.\u001b[0m\u001b[0mis_unique\u001b[0m\u001b[1;33m:\u001b[0m\u001b[1;33m\u001b[0m\u001b[0m\n\u001b[1;32m-> 2004\u001b[1;33m             \u001b[1;32mreturn\u001b[0m \u001b[0mself\u001b[0m\u001b[1;33m.\u001b[0m\u001b[0m_get_item_cache\u001b[0m\u001b[1;33m(\u001b[0m\u001b[0mkey\u001b[0m\u001b[1;33m)\u001b[0m\u001b[1;33m\u001b[0m\u001b[0m\n\u001b[0m\u001b[0;32m   2005\u001b[0m \u001b[1;33m\u001b[0m\u001b[0m\n\u001b[0;32m   2006\u001b[0m         \u001b[1;31m# duplicate columns & possible reduce dimensionality\u001b[0m\u001b[1;33m\u001b[0m\u001b[1;33m\u001b[0m\u001b[0m\n",
      "\u001b[1;32m/home/marc/DATA/.virtualenv/ml/local/lib/python2.7/site-packages/pandas/core/generic.pyc\u001b[0m in \u001b[0;36m_get_item_cache\u001b[1;34m(self, item)\u001b[0m\n\u001b[0;32m   1348\u001b[0m         \u001b[0mres\u001b[0m \u001b[1;33m=\u001b[0m \u001b[0mcache\u001b[0m\u001b[1;33m.\u001b[0m\u001b[0mget\u001b[0m\u001b[1;33m(\u001b[0m\u001b[0mitem\u001b[0m\u001b[1;33m)\u001b[0m\u001b[1;33m\u001b[0m\u001b[0m\n\u001b[0;32m   1349\u001b[0m         \u001b[1;32mif\u001b[0m \u001b[0mres\u001b[0m \u001b[1;32mis\u001b[0m \u001b[0mNone\u001b[0m\u001b[1;33m:\u001b[0m\u001b[1;33m\u001b[0m\u001b[0m\n\u001b[1;32m-> 1350\u001b[1;33m             \u001b[0mvalues\u001b[0m \u001b[1;33m=\u001b[0m \u001b[0mself\u001b[0m\u001b[1;33m.\u001b[0m\u001b[0m_data\u001b[0m\u001b[1;33m.\u001b[0m\u001b[0mget\u001b[0m\u001b[1;33m(\u001b[0m\u001b[0mitem\u001b[0m\u001b[1;33m)\u001b[0m\u001b[1;33m\u001b[0m\u001b[0m\n\u001b[0m\u001b[0;32m   1351\u001b[0m             \u001b[0mres\u001b[0m \u001b[1;33m=\u001b[0m \u001b[0mself\u001b[0m\u001b[1;33m.\u001b[0m\u001b[0m_box_item_values\u001b[0m\u001b[1;33m(\u001b[0m\u001b[0mitem\u001b[0m\u001b[1;33m,\u001b[0m \u001b[0mvalues\u001b[0m\u001b[1;33m)\u001b[0m\u001b[1;33m\u001b[0m\u001b[0m\n\u001b[0;32m   1352\u001b[0m             \u001b[0mcache\u001b[0m\u001b[1;33m[\u001b[0m\u001b[0mitem\u001b[0m\u001b[1;33m]\u001b[0m \u001b[1;33m=\u001b[0m \u001b[0mres\u001b[0m\u001b[1;33m\u001b[0m\u001b[0m\n",
      "\u001b[1;32m/home/marc/DATA/.virtualenv/ml/local/lib/python2.7/site-packages/pandas/core/internals.pyc\u001b[0m in \u001b[0;36mget\u001b[1;34m(self, item, fastpath)\u001b[0m\n\u001b[0;32m   3288\u001b[0m \u001b[1;33m\u001b[0m\u001b[0m\n\u001b[0;32m   3289\u001b[0m             \u001b[1;32mif\u001b[0m \u001b[1;32mnot\u001b[0m \u001b[0misnull\u001b[0m\u001b[1;33m(\u001b[0m\u001b[0mitem\u001b[0m\u001b[1;33m)\u001b[0m\u001b[1;33m:\u001b[0m\u001b[1;33m\u001b[0m\u001b[0m\n\u001b[1;32m-> 3290\u001b[1;33m                 \u001b[0mloc\u001b[0m \u001b[1;33m=\u001b[0m \u001b[0mself\u001b[0m\u001b[1;33m.\u001b[0m\u001b[0mitems\u001b[0m\u001b[1;33m.\u001b[0m\u001b[0mget_loc\u001b[0m\u001b[1;33m(\u001b[0m\u001b[0mitem\u001b[0m\u001b[1;33m)\u001b[0m\u001b[1;33m\u001b[0m\u001b[0m\n\u001b[0m\u001b[0;32m   3291\u001b[0m             \u001b[1;32melse\u001b[0m\u001b[1;33m:\u001b[0m\u001b[1;33m\u001b[0m\u001b[0m\n\u001b[0;32m   3292\u001b[0m                 \u001b[0mindexer\u001b[0m \u001b[1;33m=\u001b[0m \u001b[0mnp\u001b[0m\u001b[1;33m.\u001b[0m\u001b[0marange\u001b[0m\u001b[1;33m(\u001b[0m\u001b[0mlen\u001b[0m\u001b[1;33m(\u001b[0m\u001b[0mself\u001b[0m\u001b[1;33m.\u001b[0m\u001b[0mitems\u001b[0m\u001b[1;33m)\u001b[0m\u001b[1;33m)\u001b[0m\u001b[1;33m[\u001b[0m\u001b[0misnull\u001b[0m\u001b[1;33m(\u001b[0m\u001b[0mself\u001b[0m\u001b[1;33m.\u001b[0m\u001b[0mitems\u001b[0m\u001b[1;33m)\u001b[0m\u001b[1;33m]\u001b[0m\u001b[1;33m\u001b[0m\u001b[0m\n",
      "\u001b[1;32m/home/marc/DATA/.virtualenv/ml/local/lib/python2.7/site-packages/pandas/indexes/base.pyc\u001b[0m in \u001b[0;36mget_loc\u001b[1;34m(self, key, method, tolerance)\u001b[0m\n\u001b[0;32m   1945\u001b[0m                 \u001b[1;32mreturn\u001b[0m \u001b[0mself\u001b[0m\u001b[1;33m.\u001b[0m\u001b[0m_engine\u001b[0m\u001b[1;33m.\u001b[0m\u001b[0mget_loc\u001b[0m\u001b[1;33m(\u001b[0m\u001b[0mkey\u001b[0m\u001b[1;33m)\u001b[0m\u001b[1;33m\u001b[0m\u001b[0m\n\u001b[0;32m   1946\u001b[0m             \u001b[1;32mexcept\u001b[0m \u001b[0mKeyError\u001b[0m\u001b[1;33m:\u001b[0m\u001b[1;33m\u001b[0m\u001b[0m\n\u001b[1;32m-> 1947\u001b[1;33m                 \u001b[1;32mreturn\u001b[0m \u001b[0mself\u001b[0m\u001b[1;33m.\u001b[0m\u001b[0m_engine\u001b[0m\u001b[1;33m.\u001b[0m\u001b[0mget_loc\u001b[0m\u001b[1;33m(\u001b[0m\u001b[0mself\u001b[0m\u001b[1;33m.\u001b[0m\u001b[0m_maybe_cast_indexer\u001b[0m\u001b[1;33m(\u001b[0m\u001b[0mkey\u001b[0m\u001b[1;33m)\u001b[0m\u001b[1;33m)\u001b[0m\u001b[1;33m\u001b[0m\u001b[0m\n\u001b[0m\u001b[0;32m   1948\u001b[0m \u001b[1;33m\u001b[0m\u001b[0m\n\u001b[0;32m   1949\u001b[0m         \u001b[0mindexer\u001b[0m \u001b[1;33m=\u001b[0m \u001b[0mself\u001b[0m\u001b[1;33m.\u001b[0m\u001b[0mget_indexer\u001b[0m\u001b[1;33m(\u001b[0m\u001b[1;33m[\u001b[0m\u001b[0mkey\u001b[0m\u001b[1;33m]\u001b[0m\u001b[1;33m,\u001b[0m \u001b[0mmethod\u001b[0m\u001b[1;33m=\u001b[0m\u001b[0mmethod\u001b[0m\u001b[1;33m,\u001b[0m \u001b[0mtolerance\u001b[0m\u001b[1;33m=\u001b[0m\u001b[0mtolerance\u001b[0m\u001b[1;33m)\u001b[0m\u001b[1;33m\u001b[0m\u001b[0m\n",
      "\u001b[1;32mpandas/index.pyx\u001b[0m in \u001b[0;36mpandas.index.IndexEngine.get_loc (pandas/index.c:4154)\u001b[1;34m()\u001b[0m\n",
      "\u001b[1;32mpandas/index.pyx\u001b[0m in \u001b[0;36mpandas.index.IndexEngine.get_loc (pandas/index.c:4018)\u001b[1;34m()\u001b[0m\n",
      "\u001b[1;32mpandas/hashtable.pyx\u001b[0m in \u001b[0;36mpandas.hashtable.PyObjectHashTable.get_item (pandas/hashtable.c:12368)\u001b[1;34m()\u001b[0m\n",
      "\u001b[1;32mpandas/hashtable.pyx\u001b[0m in \u001b[0;36mpandas.hashtable.PyObjectHashTable.get_item (pandas/hashtable.c:12322)\u001b[1;34m()\u001b[0m\n",
      "\u001b[1;31mKeyError\u001b[0m: 'type'"
     ]
    }
   ],
   "source": [
    "df['type']= df['type'].str.lower()"
   ]
  },
  {
   "cell_type": "code",
   "execution_count": 33,
   "metadata": {
    "collapsed": false
   },
   "outputs": [
    {
     "data": {
      "text/html": [
       "<div>\n",
       "<table border=\"1\" class=\"dataframe\">\n",
       "  <thead>\n",
       "    <tr style=\"text-align: right;\">\n",
       "      <th></th>\n",
       "      <th>id</th>\n",
       "    </tr>\n",
       "    <tr>\n",
       "      <th>type</th>\n",
       "      <th></th>\n",
       "    </tr>\n",
       "  </thead>\n",
       "  <tbody>\n",
       "    <tr>\n",
       "      <th>angry</th>\n",
       "      <td>2</td>\n",
       "    </tr>\n",
       "    <tr>\n",
       "      <th>like</th>\n",
       "      <td>7</td>\n",
       "    </tr>\n",
       "    <tr>\n",
       "      <th>love</th>\n",
       "      <td>1</td>\n",
       "    </tr>\n",
       "    <tr>\n",
       "      <th>sad</th>\n",
       "      <td>2</td>\n",
       "    </tr>\n",
       "    <tr>\n",
       "      <th>wow</th>\n",
       "      <td>1</td>\n",
       "    </tr>\n",
       "  </tbody>\n",
       "</table>\n",
       "</div>"
      ],
      "text/plain": [
       "       id\n",
       "type     \n",
       "angry   2\n",
       "like    7\n",
       "love    1\n",
       "sad     2\n",
       "wow     1"
      ]
     },
     "execution_count": 33,
     "metadata": {},
     "output_type": "execute_result"
    }
   ],
   "source": [
    "rea=df.groupby(['type']).count()\n",
    "rea"
   ]
  },
  {
   "cell_type": "code",
   "execution_count": 34,
   "metadata": {
    "collapsed": false
   },
   "outputs": [
    {
     "data": {
      "text/html": [
       "<div>\n",
       "<table border=\"1\" class=\"dataframe\">\n",
       "  <thead>\n",
       "    <tr style=\"text-align: right;\">\n",
       "      <th></th>\n",
       "      <th>id</th>\n",
       "      <th>type</th>\n",
       "    </tr>\n",
       "  </thead>\n",
       "  <tbody>\n",
       "    <tr>\n",
       "      <th>0</th>\n",
       "      <td>10211762408165622</td>\n",
       "      <td>like</td>\n",
       "    </tr>\n",
       "    <tr>\n",
       "      <th>1</th>\n",
       "      <td>10210304701607183</td>\n",
       "      <td>wow</td>\n",
       "    </tr>\n",
       "    <tr>\n",
       "      <th>2</th>\n",
       "      <td>1549940535020779</td>\n",
       "      <td>like</td>\n",
       "    </tr>\n",
       "    <tr>\n",
       "      <th>3</th>\n",
       "      <td>10207630214573140</td>\n",
       "      <td>love</td>\n",
       "    </tr>\n",
       "    <tr>\n",
       "      <th>4</th>\n",
       "      <td>1402363236463275</td>\n",
       "      <td>like</td>\n",
       "    </tr>\n",
       "    <tr>\n",
       "      <th>5</th>\n",
       "      <td>10212238646260525</td>\n",
       "      <td>angry</td>\n",
       "    </tr>\n",
       "    <tr>\n",
       "      <th>6</th>\n",
       "      <td>10211533935010931</td>\n",
       "      <td>like</td>\n",
       "    </tr>\n",
       "    <tr>\n",
       "      <th>7</th>\n",
       "      <td>10210346432689891</td>\n",
       "      <td>like</td>\n",
       "    </tr>\n",
       "    <tr>\n",
       "      <th>8</th>\n",
       "      <td>10212180453325241</td>\n",
       "      <td>angry</td>\n",
       "    </tr>\n",
       "    <tr>\n",
       "      <th>9</th>\n",
       "      <td>10206303887955448</td>\n",
       "      <td>like</td>\n",
       "    </tr>\n",
       "    <tr>\n",
       "      <th>10</th>\n",
       "      <td>10155677419318357</td>\n",
       "      <td>sad</td>\n",
       "    </tr>\n",
       "    <tr>\n",
       "      <th>11</th>\n",
       "      <td>10211598356499601</td>\n",
       "      <td>sad</td>\n",
       "    </tr>\n",
       "    <tr>\n",
       "      <th>12</th>\n",
       "      <td>10209419390136084</td>\n",
       "      <td>like</td>\n",
       "    </tr>\n",
       "  </tbody>\n",
       "</table>\n",
       "</div>"
      ],
      "text/plain": [
       "                   id   type\n",
       "0   10211762408165622   like\n",
       "1   10210304701607183    wow\n",
       "2    1549940535020779   like\n",
       "3   10207630214573140   love\n",
       "4    1402363236463275   like\n",
       "5   10212238646260525  angry\n",
       "6   10211533935010931   like\n",
       "7   10210346432689891   like\n",
       "8   10212180453325241  angry\n",
       "9   10206303887955448   like\n",
       "10  10155677419318357    sad\n",
       "11  10211598356499601    sad\n",
       "12  10209419390136084   like"
      ]
     },
     "execution_count": 34,
     "metadata": {},
     "output_type": "execute_result"
    }
   ],
   "source": []
  },
  {
   "cell_type": "code",
   "execution_count": 17,
   "metadata": {
    "collapsed": false
   },
   "outputs": [
    {
     "data": {
      "text/plain": [
       "{'angry': 2, 'like': 7, 'love': 1, 'sad': 2, 'wow': 1}"
      ]
     },
     "execution_count": 17,
     "metadata": {},
     "output_type": "execute_result"
    }
   ],
   "source": [
    "d=rea.to_dict()['id']\n",
    "d"
   ]
  },
  {
   "cell_type": "code",
   "execution_count": null,
   "metadata": {
    "collapsed": true
   },
   "outputs": [],
   "source": []
  },
  {
   "cell_type": "code",
   "execution_count": 21,
   "metadata": {
    "collapsed": false
   },
   "outputs": [],
   "source": [
    "a={'angry':100}"
   ]
  },
  {
   "cell_type": "code",
   "execution_count": 23,
   "metadata": {
    "collapsed": false
   },
   "outputs": [],
   "source": [
    "a.update(d)"
   ]
  },
  {
   "cell_type": "code",
   "execution_count": 24,
   "metadata": {
    "collapsed": false
   },
   "outputs": [
    {
     "data": {
      "text/plain": [
       "{'angry': 2, 'like': 7, 'love': 1, 'sad': 2, 'wow': 1}"
      ]
     },
     "execution_count": 24,
     "metadata": {},
     "output_type": "execute_result"
    }
   ],
   "source": [
    "a"
   ]
  },
  {
   "cell_type": "code",
   "execution_count": null,
   "metadata": {
    "collapsed": true
   },
   "outputs": [],
   "source": []
  },
  {
   "cell_type": "code",
   "execution_count": null,
   "metadata": {
    "collapsed": true
   },
   "outputs": [],
   "source": []
  },
  {
   "cell_type": "code",
   "execution_count": 26,
   "metadata": {
    "collapsed": true
   },
   "outputs": [],
   "source": [
    "a=['a','b']\n",
    "b=[1,2]"
   ]
  },
  {
   "cell_type": "code",
   "execution_count": 29,
   "metadata": {
    "collapsed": false
   },
   "outputs": [
    {
     "data": {
      "text/plain": [
       "[('a', 1), ('b', 2)]"
      ]
     },
     "execution_count": 29,
     "metadata": {},
     "output_type": "execute_result"
    }
   ],
   "source": [
    "zip(a,b)"
   ]
  },
  {
   "cell_type": "code",
   "execution_count": 28,
   "metadata": {
    "collapsed": false
   },
   "outputs": [
    {
     "data": {
      "text/plain": [
       "[0, 0, 0, 0]"
      ]
     },
     "execution_count": 28,
     "metadata": {},
     "output_type": "execute_result"
    }
   ],
   "source": [
    "[0]*4"
   ]
  },
  {
   "cell_type": "code",
   "execution_count": null,
   "metadata": {
    "collapsed": true
   },
   "outputs": [],
   "source": []
  },
  {
   "cell_type": "code",
   "execution_count": null,
   "metadata": {
    "collapsed": true
   },
   "outputs": [],
   "source": []
  },
  {
   "cell_type": "code",
   "execution_count": null,
   "metadata": {
    "collapsed": true
   },
   "outputs": [],
   "source": []
  },
  {
   "cell_type": "code",
   "execution_count": null,
   "metadata": {
    "collapsed": true
   },
   "outputs": [],
   "source": []
  },
  {
   "cell_type": "code",
   "execution_count": null,
   "metadata": {
    "collapsed": true
   },
   "outputs": [],
   "source": []
  },
  {
   "cell_type": "code",
   "execution_count": null,
   "metadata": {
    "collapsed": true
   },
   "outputs": [],
   "source": []
  },
  {
   "cell_type": "code",
   "execution_count": null,
   "metadata": {
    "collapsed": true
   },
   "outputs": [],
   "source": []
  },
  {
   "cell_type": "code",
   "execution_count": null,
   "metadata": {
    "collapsed": true
   },
   "outputs": [],
   "source": []
  },
  {
   "cell_type": "code",
   "execution_count": null,
   "metadata": {
    "collapsed": true
   },
   "outputs": [],
   "source": []
  },
  {
   "cell_type": "code",
   "execution_count": null,
   "metadata": {
    "collapsed": true
   },
   "outputs": [],
   "source": []
  },
  {
   "cell_type": "code",
   "execution_count": null,
   "metadata": {
    "collapsed": true
   },
   "outputs": [],
   "source": []
  },
  {
   "cell_type": "code",
   "execution_count": null,
   "metadata": {
    "collapsed": true
   },
   "outputs": [],
   "source": []
  },
  {
   "cell_type": "code",
   "execution_count": null,
   "metadata": {
    "collapsed": true
   },
   "outputs": [],
   "source": []
  },
  {
   "cell_type": "code",
   "execution_count": null,
   "metadata": {
    "collapsed": true
   },
   "outputs": [],
   "source": []
  },
  {
   "cell_type": "code",
   "execution_count": null,
   "metadata": {
    "collapsed": true
   },
   "outputs": [],
   "source": []
  },
  {
   "cell_type": "code",
   "execution_count": null,
   "metadata": {
    "collapsed": true
   },
   "outputs": [],
   "source": []
  },
  {
   "cell_type": "code",
   "execution_count": null,
   "metadata": {
    "collapsed": true
   },
   "outputs": [],
   "source": []
  }
 ],
 "metadata": {
  "kernelspec": {
   "display_name": "Python 2",
   "language": "python",
   "name": "python2"
  },
  "language_info": {
   "codemirror_mode": {
    "name": "ipython",
    "version": 2
   },
   "file_extension": ".py",
   "mimetype": "text/x-python",
   "name": "python",
   "nbconvert_exporter": "python",
   "pygments_lexer": "ipython2",
   "version": "2.7.11+"
  }
 },
 "nbformat": 4,
 "nbformat_minor": 0
}
